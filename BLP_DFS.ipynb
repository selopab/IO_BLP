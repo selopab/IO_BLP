{
 "cells": [
  {
   "cell_type": "code",
   "execution_count": 55,
   "id": "bc6ab8cb",
   "metadata": {},
   "outputs": [
    {
     "name": "stdout",
     "output_type": "stream",
     "text": [
      "Once deleted, variables cannot be recovered. Proceed (y/[n])? y\n"
     ]
    }
   ],
   "source": [
    "%reset"
   ]
  },
  {
   "cell_type": "code",
   "execution_count": 56,
   "id": "f0eb10d4",
   "metadata": {},
   "outputs": [],
   "source": [
    "import pandas as pd\n",
    "import scipy\n",
    "import scipy.io\n",
    "import numpy as np\n",
    "from scipy import optimize\n",
    "import math\n",
    "from collections import Counter\n",
    "#import knitro\n",
    "import matplotlib.pyplot as plt\n",
    "\n",
    "# set random seed\n",
    "import random\n",
    "random.seed(3600021601)"
   ]
  },
  {
   "cell_type": "code",
   "execution_count": 57,
   "id": "35007e03",
   "metadata": {},
   "outputs": [],
   "source": [
    "mat3 = scipy.io.loadmat('../inp/100markets3products.mat')  # load mat-file\n",
    "eta3 = mat3['eta'] # Simulated unobserved error\n",
    "alphas3 = mat3['alphas'] # Simulated alphas\n",
    "P_opt3 = mat3['P_opt']\n",
    "shares3 = mat3['shares']\n",
    "w3 = mat3['w']\n",
    "x1_3 = mat3['x1']\n",
    "xi3 = mat3['xi_all'].flatten(\"F\")\n",
    "Z3 = mat3['Z']\n",
    "prices_stacked3 = P_opt3.flatten(\"F\")\n",
    "shares_stacked3 = shares3.flatten(\"F\")\n",
    "\n",
    "#Create a df with product characteristics\n",
    "df3 = pd.DataFrame(x1_3, columns = ['x0','x1','x2'])\n",
    "df3['price'] = prices_stacked3\n",
    "df3['share'] = shares_stacked3\n",
    "df3['eta'] = eta3\n",
    "df3['w'] = w3\n",
    "df3['Z'] = Z3\n"
   ]
  },
  {
   "cell_type": "code",
   "execution_count": 58,
   "id": "583579e7",
   "metadata": {},
   "outputs": [],
   "source": [
    "# Now the 5 products data\n",
    "mat5 = scipy.io.loadmat('../inp/100markets5products.mat')  # load mat5-file\n",
    "eta5 = mat5['eta'] # Simulated unobserved error\n",
    "alphas5 = mat5['alphas'] # Simulated alphas\n",
    "P_opt5 = mat5['P_opt']\n",
    "shares5 = mat5['shares']\n",
    "w5 = mat5['w']\n",
    "x1_5 = mat5['x1']\n",
    "xi5 = mat5['xi_all'].flatten(\"F\")\n",
    "Z5 = mat5['Z']\n",
    "prices_stacked5 = P_opt5.flatten(\"F\")\n",
    "shares_stacked5 = shares5.flatten(\"F\")\n",
    "\n",
    "#Create a df with product characteristics\n",
    "df5 = pd.DataFrame(x1_5, columns = ['x0','x1','x2'])\n",
    "df5['price'] = prices_stacked5\n",
    "df5['share'] = shares_stacked5\n",
    "df5['eta'] = eta5\n",
    "df5['w'] = w5\n",
    "df5['Z'] = Z5"
   ]
  },
  {
   "cell_type": "markdown",
   "id": "31ccd2fe",
   "metadata": {},
   "source": [
    "## Distribution of prices"
   ]
  },
  {
   "cell_type": "code",
   "execution_count": 59,
   "id": "c7a9f0b2",
   "metadata": {},
   "outputs": [
    {
     "data": {
      "text/plain": [
       "<matplotlib.legend.Legend at 0x7ff0b800aa00>"
      ]
     },
     "execution_count": 59,
     "metadata": {},
     "output_type": "execute_result"
    },
    {
     "data": {
      "image/png": "[encoded data removed]",
      "text/plain": [
       "<Figure size 432x288 with 1 Axes>"
      ]
     },
     "metadata": {
      "needs_background": "light"
     },
     "output_type": "display_data"
    }
   ],
   "source": [
    "# Compare both histograms\n",
    "fig, ax = plt.subplots()\n",
    "\n",
    "# the argument bins control the number of bins and their exact position \n",
    "# by default, matplotlib will use 10 equally-spaced bins\n",
    "ax.hist(df5[\"price\"], bins = 15, ls='dotted', alpha = 0.5, lw=3, color= 'b', label='5 goods')\n",
    "ax.hist(df3[\"price\"], bins = 15, ls='dotted', alpha = 0.5, lw=3, color= 'r', label='3 goods')\n",
    "ax.set_title('Histogram for Prices')\n",
    "ax.legend()"
   ]
  },
  {
   "cell_type": "markdown",
   "id": "e94d1ad9",
   "metadata": {},
   "source": [
    "## Distribution of profits"
   ]
  },
  {
   "cell_type": "code",
   "execution_count": 60,
   "id": "dfb46cf5",
   "metadata": {},
   "outputs": [],
   "source": [
    "df3['mc'] = 2 + df3['w'] + df3['Z'] + df3['eta']\n",
    "df3['profitPerUnit'] = df3['price'] - df3['mc']\n",
    "df3['profits'] = df3['profitPerUnit']*df3['share']\n",
    "\n",
    "df5['mc'] = 2 + df5['w'] + df5['Z'] + df5['eta']\n",
    "df5['profitPerUnit'] = df5['price'] - df5['mc']\n",
    "df5['profits'] = df5['profitPerUnit']*df5['share']"
   ]
  },
  {
   "cell_type": "code",
   "execution_count": 61,
   "id": "fa3a4ba5",
   "metadata": {},
   "outputs": [
    {
     "data": {
      "text/plain": [
       "<matplotlib.legend.Legend at 0x7ff0e81281f0>"
      ]
     },
     "execution_count": 61,
     "metadata": {},
     "output_type": "execute_result"
    },
    {
     "data": {
      "image/png": "[encoded data removed]",
      "text/plain": [
       "<Figure size 432x288 with 1 Axes>"
      ]
     },
     "metadata": {
      "needs_background": "light"
     },
     "output_type": "display_data"
    }
   ],
   "source": [
    "# Compare profits\n",
    "fig, ax = plt.subplots()\n",
    "\n",
    "# the argument bins control the number of bins and their exact position \n",
    "# by default, matplotlib will use 10 equally-spaced bins\n",
    "ax.hist(df5[\"profits\"], bins = 15, ls='dotted', alpha = 0.5, lw=3, color= 'b', label='5 goods')\n",
    "ax.hist(df3[\"profits\"], bins = 15, ls='dotted', alpha = 0.5, lw=3, color= 'r', label='3 goods')\n",
    "ax.set_title('Histogram for Profits')\n",
    "ax.legend()"
   ]
  },
  {
   "cell_type": "markdown",
   "id": "15bcdf6c",
   "metadata": {},
   "source": [
    "## Consumer surplus"
   ]
  },
  {
   "cell_type": "code",
   "execution_count": 62,
   "id": "b577ccb0",
   "metadata": {},
   "outputs": [],
   "source": [
    "tasteShocks3 = np.random.lognormal(0,1,500)\n",
    "tasteShocks5 = np.random.lognormal(0,1,500)\n"
   ]
  },
  {
   "cell_type": "markdown",
   "id": "1acba288",
   "metadata": {},
   "source": [
    "# Lets start with the 100 markets, 3 products scenario\n",
    "\n",
    "$U_{jm}= X_{jm,0}\\beta_0 + X_{jm,1}\\beta_1 + X_{jm,2}\\beta_2 - \\alpha_i p_{jm} + \\xi_{jm} + \\epsilon_{ijm} $"
   ]
  },
  {
   "cell_type": "code",
   "execution_count": 63,
   "id": "63f0f9b3",
   "metadata": {},
   "outputs": [],
   "source": [
    "mat3 = scipy.io.loadmat('../inp/100markets3products.mat')  # load mat-file\n",
    "eta3 = mat3['eta'] # Simulated unobserved error\n",
    "alphas3 = mat3['alphas'] # Simulated alphas\n",
    "P_opt3 = mat3['P_opt']\n",
    "shares3 = mat3['shares']\n",
    "w3 = mat3['w']\n",
    "x1_3 = mat3['x1']\n",
    "xi3 = mat3['xi_all']\n",
    "Z3 = mat3['Z']\n",
    "prices_stacked3 = P_opt3.flatten(\"F\")\n",
    "shares_stacked3 = shares3.flatten(\"F\")\n",
    "\n",
    "\n"
   ]
  },
  {
   "cell_type": "code",
   "execution_count": 64,
   "id": "3148600d",
   "metadata": {},
   "outputs": [],
   "source": [
    "utilityMatrix = []\n",
    "taste_shocks3 = []\n",
    "for j in range(0,100):\n",
    "    initialJ = j*3\n",
    "    finalJ = (j+1)*3\n",
    "    for i in range(0,500):\n",
    "        #print(i)\n",
    "        initialI = i*3 \n",
    "        finalI = (i+1)*3\n",
    "        alpha = alphas3[j,i]\n",
    "        x0 = x1_3[initialJ:finalJ,0]\n",
    "        x1 = x1_3[initialJ:finalJ,1]\n",
    "        x2 = x1_3[initialJ:finalJ,2]\n",
    "        xi = xi3[initialJ:finalJ,0]\n",
    "        p1 = P_opt3[0,j]\n",
    "        p2 = P_opt3[1,j]\n",
    "        p3 = P_opt3[2,j]\n",
    "\n",
    "        epsilon1 = np.random.lognormal(0,1)\n",
    "        epsilon2 = np.random.lognormal(0,1)\n",
    "        epsilon3 = np.random.lognormal(0,1) \n",
    "        \n",
    "        taste_shocks3.append([epsilon1,epsilon2,epsilon3])\n",
    "        \n",
    "        \n",
    "        u0 = 0 \n",
    "        u1 = 5*x0[0] + x1[0] + x2[0] + xi[0] - alpha*p1 + epsilon1\n",
    "        u2 = 5*x0[1] + x1[1] + x2[1] + xi[1] - alpha*p2 + epsilon2\n",
    "        u3 = 5*x0[2] + x1[2] + x2[2] + xi[2] - alpha*p3 + epsilon3\n",
    "        \n",
    "        utilities = [u0,u1,u2,u3]\n",
    "        #prices = [0,p1,p2,p3]\n",
    "        #max_value = max(utilities)\n",
    "        #max_index = utilities.index(max_value)\n",
    "        #cs = utilities[max_index] - prices[max_index]\n",
    "        \n",
    "        utilityMatrix.append([u0,u1,u2,u3]) #,max_index,cs\n"
   ]
  },
  {
   "cell_type": "code",
   "execution_count": 65,
   "id": "b96b09e3",
   "metadata": {},
   "outputs": [],
   "source": [
    "df_utilityMatrix3 = pd.DataFrame(utilityMatrix, columns = ['u0','u1','u2', 'u3']) #,'choice','cs'\n",
    "df_utilityMatrix3['choice']=df_utilityMatrix3.idxmax(axis=1)\n",
    "df_utilityMatrix3['utility'] = df_utilityMatrix3.max(axis=1)\n"
   ]
  },
  {
   "cell_type": "code",
   "execution_count": 66,
   "id": "94415079",
   "metadata": {},
   "outputs": [
    {
     "data": {
      "text/plain": [
       "array([[<AxesSubplot:title={'center':'utility'}>]], dtype=object)"
      ]
     },
     "execution_count": 66,
     "metadata": {},
     "output_type": "execute_result"
    },
    {
     "data": {
      "image/png": "[encoded data removed]",
      "text/plain": [
       "<Figure size 432x288 with 1 Axes>"
      ]
     },
     "metadata": {
      "needs_background": "light"
     },
     "output_type": "display_data"
    }
   ],
   "source": [
    "df_utilityMatrix3.hist(column='utility') #weird thing, probably wrong"
   ]
  },
  {
   "cell_type": "code",
   "execution_count": 67,
   "id": "5ffbe2b2",
   "metadata": {},
   "outputs": [],
   "source": [
    "# Now for the 5 products\n",
    "utilityMatrix = []\n",
    "taste_shocks5 = []\n",
    "for j in range(0,100):\n",
    "    initialJ = j*5\n",
    "    finalJ = (j+1)*5\n",
    "    for i in range(0,500):\n",
    "        #print(i)\n",
    "        initialI = i*5 \n",
    "        finalI = (i+1)*5\n",
    "        alpha = alphas3[j,i]\n",
    "        x0 = x1_5[initialJ:finalJ,0]\n",
    "        x1 = x1_5[initialJ:finalJ,1]\n",
    "        x2 = x1_5[initialJ:finalJ,2]\n",
    "        x3 = x1_5[initialJ:finalJ,0]\n",
    "        x4 = x1_5[initialJ:finalJ,1]\n",
    "        xi = xi5[initialJ:finalJ]\n",
    "        p1 = P_opt5[0,j]\n",
    "        p2 = P_opt5[1,j]\n",
    "        p3 = P_opt5[2,j]\n",
    "        p4 = P_opt5[0,j]\n",
    "        p5 = P_opt5[1,j]\n",
    "\n",
    "        epsilon1 = np.random.lognormal(0,1)\n",
    "        epsilon2 = np.random.lognormal(0,1)\n",
    "        epsilon3 = np.random.lognormal(0,1) \n",
    "        epsilon4 = np.random.lognormal(0,1)\n",
    "        epsilon5 = np.random.lognormal(0,1)\n",
    "        \n",
    "        taste_shocks5.append([epsilon1,epsilon2,epsilon3,epsilon4,epsilon5])\n",
    "        \n",
    "        \n",
    "        u0 = 0 \n",
    "        u1 = 5*x0[0] + x1[0] + x2[0] + xi[0] - alpha*p1 + epsilon1\n",
    "        u2 = 5*x0[1] + x1[1] + x2[1] + xi[1] - alpha*p2 + epsilon2\n",
    "        u3 = 5*x0[2] + x1[2] + x2[2] + xi[2] - alpha*p3 + epsilon3\n",
    "        u4 = 5*x0[1] + x1[3] + x2[3] + xi[3] - alpha*p4 + epsilon4\n",
    "        u5 = 5*x0[2] + x1[4] + x2[4] + xi[4] - alpha*p5 + epsilon5\n",
    "        \n",
    "        utilities = [u0,u1,u2,u3,u4,u5]\n",
    "        #prices = [0,p1,p2,p3]\n",
    "        #max_value = max(utilities)\n",
    "        #max_index = utilities.index(max_value)\n",
    "        #cs = utilities[max_index] - prices[max_index]\n",
    "        \n",
    "        utilityMatrix.append(utilities) #,max_index,cs"
   ]
  },
  {
   "cell_type": "code",
   "execution_count": 68,
   "id": "64193119",
   "metadata": {},
   "outputs": [],
   "source": [
    "df_utilityMatrix5 = pd.DataFrame(utilityMatrix, columns = ['u0','u1','u2', 'u3','u4','u5']) #,'choice','cs'\n",
    "df_utilityMatrix5['choice']=df_utilityMatrix5.idxmax(axis=1)\n",
    "df_utilityMatrix5['utility'] = df_utilityMatrix5.max(axis=1)"
   ]
  },
  {
   "cell_type": "code",
   "execution_count": 69,
   "id": "388e1281",
   "metadata": {},
   "outputs": [
    {
     "data": {
      "text/plain": [
       "array([[<AxesSubplot:title={'center':'utility'}>]], dtype=object)"
      ]
     },
     "execution_count": 69,
     "metadata": {},
     "output_type": "execute_result"
    },
    {
     "data": {
      "image/png": "[encoded data removed]",
      "text/plain": [
       "<Figure size 432x288 with 1 Axes>"
      ]
     },
     "metadata": {
      "needs_background": "light"
     },
     "output_type": "display_data"
    }
   ],
   "source": [
    "df_utilityMatrix5.hist(column='utility') #weird thing, probably wrong"
   ]
  },
  {
   "cell_type": "code",
   "execution_count": 70,
   "id": "f2c60f84",
   "metadata": {},
   "outputs": [
    {
     "data": {
      "text/plain": [
       "<matplotlib.legend.Legend at 0x7ff0fa730c70>"
      ]
     },
     "execution_count": 70,
     "metadata": {},
     "output_type": "execute_result"
    },
    {
     "data": {
      "image/png": "[encoded data removed]",
      "text/plain": [
       "<Figure size 432x288 with 1 Axes>"
      ]
     },
     "metadata": {
      "needs_background": "light"
     },
     "output_type": "display_data"
    }
   ],
   "source": [
    "# Compare CS\n",
    "fig, ax = plt.subplots()\n",
    "\n",
    "# the argument bins control the number of bins and their exact position \n",
    "# by default, matplotlib will use 10 equally-spaced bins\n",
    "ax.hist(df_utilityMatrix5[\"utility\"], bins = 15, ls='dotted', alpha = 0.5, lw=3, color= 'b', label='5 goods')\n",
    "ax.hist(df_utilityMatrix3[\"utility\"], bins = 15, ls='dotted', alpha = 0.5, lw=3, color= 'r', label='3 goods')\n",
    "ax.set_title('Histogram for CS')\n",
    "ax.legend()"
   ]
  },
  {
   "cell_type": "markdown",
   "id": "7571ee22",
   "metadata": {},
   "source": [
    "# BLP and Hausman Instruments\n",
    "\n",
    "## 2.\n",
    "\n",
    "### 2.a)"
   ]
  },
  {
   "cell_type": "markdown",
   "id": "47e51c09",
   "metadata": {},
   "source": [
    "$E[\\xi_{jm}X_{jm}]$"
   ]
  },
  {
   "cell_type": "code",
   "execution_count": 71,
   "id": "6485678d",
   "metadata": {},
   "outputs": [
    {
     "data": {
      "text/plain": [
       "(300, 1)"
      ]
     },
     "execution_count": 71,
     "metadata": {},
     "output_type": "execute_result"
    }
   ],
   "source": [
    "xi3.shape"
   ]
  },
  {
   "cell_type": "code",
   "execution_count": 72,
   "id": "855e254c",
   "metadata": {},
   "outputs": [
    {
     "data": {
      "text/plain": [
       "array([13.03831111,  6.22257672, 10.65945097])"
      ]
     },
     "execution_count": 72,
     "metadata": {},
     "output_type": "execute_result"
    }
   ],
   "source": [
    "np.mean(np.matmul(np.transpose(xi3),x1_3), axis=0)"
   ]
  },
  {
   "cell_type": "markdown",
   "id": "8ef33263",
   "metadata": {},
   "source": [
    "$E[\\xi_{jm}p_{jm}]$"
   ]
  },
  {
   "cell_type": "code",
   "execution_count": 73,
   "id": "e4fc164d",
   "metadata": {},
   "outputs": [
    {
     "data": {
      "text/plain": [
       "array([88.48744114])"
      ]
     },
     "execution_count": 73,
     "metadata": {},
     "output_type": "execute_result"
    }
   ],
   "source": [
    "np.matmul(np.transpose(prices_stacked3),xi3)"
   ]
  },
  {
   "cell_type": "markdown",
   "id": "aa985d0a",
   "metadata": {},
   "source": [
    "$E[\\xi_{jm}\\bar{p}_{jm}]$"
   ]
  },
  {
   "cell_type": "code",
   "execution_count": 74,
   "id": "7fe169ef",
   "metadata": {},
   "outputs": [],
   "source": [
    "hausman_vector = np.zeros(300)\n",
    "for i in range(0,300):\n",
    "    hausman_vector[i] = np.mean(np.delete(prices_stacked3, i))"
   ]
  },
  {
   "cell_type": "code",
   "execution_count": 75,
   "id": "1cfc12dc",
   "metadata": {},
   "outputs": [
    {
     "data": {
      "text/plain": [
       "0.13153694769686025"
      ]
     },
     "execution_count": 75,
     "metadata": {},
     "output_type": "execute_result"
    }
   ],
   "source": [
    "np.mean(hausman_vector*xi3)"
   ]
  },
  {
   "cell_type": "markdown",
   "id": "fa935124",
   "metadata": {},
   "source": [
    "$E[\\xi_{jm}Z_{jm}]$"
   ]
  },
  {
   "cell_type": "code",
   "execution_count": 76,
   "id": "9a67af5c",
   "metadata": {},
   "outputs": [
    {
     "data": {
      "text/plain": [
       "-0.00814558805654365"
      ]
     },
     "execution_count": 76,
     "metadata": {},
     "output_type": "execute_result"
    }
   ],
   "source": [
    "np.mean(Z3*xi3)"
   ]
  },
  {
   "cell_type": "markdown",
   "id": "e59eface",
   "metadata": {},
   "source": [
    "### 2.b) \n",
    "\n",
    "Only the $E[\\xi_{jm}X_{jm}]$ moments seem to be (relatively) valid, since they are relatively small (<0.1). Both price moments give relatively large expected values, so they don't seem valid. "
   ]
  },
  {
   "cell_type": "markdown",
   "id": "1b70d577",
   "metadata": {},
   "source": [
    "### 2.c) \n",
    "\n",
    "It seems like the only reasonable instruments are the BLP ones, since its moment contition is close to zero. Hausman instruments give a high mean, so it's not OK to use them. "
   ]
  },
  {
   "cell_type": "markdown",
   "id": "a5545dc8",
   "metadata": {},
   "source": [
    "# 2.2) "
   ]
  },
  {
   "cell_type": "markdown",
   "id": "04008141",
   "metadata": {},
   "source": [
    "I think that the moments should be:\n",
    "\n",
    "$E[\\xi_{jm}f(Z_{jm})]=0$\n",
    "\n",
    "$E[\\xi_{jm}f(x_{jm})]=0$\n",
    "\n",
    "$E[\\xi_{jm}f(w)]=0$"
   ]
  },
  {
   "cell_type": "markdown",
   "id": "649c48a3",
   "metadata": {},
   "source": [
    "Note that, since we're using $X_{300\\times3}$, $Z_{300\\times1}$, and $W_{300\\times1}$ as instruments, we'll need to estimate $\\eta_{5\\times1}$ in the objective function. \n",
    "\n",
    "Moreover, we'll be estimating 306 parameters through this procedure:\n",
    "\n",
    "300 $\\delta$s\n",
    "\n",
    "5 $\\eta$s\n",
    "\n",
    "1 $\\sigma_{\\alpha}$\n",
    "\n",
    "I'll use W = I, at least for now"
   ]
  },
  {
   "cell_type": "code",
   "execution_count": 77,
   "id": "732cb1da",
   "metadata": {},
   "outputs": [],
   "source": [
    "R = 500\n",
    "tasteShocks = np.random.lognormal(0,1,[100,R])\n",
    "params = np.ones(306)"
   ]
  },
  {
   "cell_type": "code",
   "execution_count": 78,
   "id": "debe83e5",
   "metadata": {},
   "outputs": [
    {
     "data": {
      "text/plain": [
       "(100, 500)"
      ]
     },
     "execution_count": 78,
     "metadata": {},
     "output_type": "execute_result"
    }
   ],
   "source": [
    "tasteShocks.shape"
   ]
  },
  {
   "cell_type": "code",
   "execution_count": 79,
   "id": "51da0342",
   "metadata": {},
   "outputs": [
    {
     "data": {
      "text/plain": [
       "(100, 500)"
      ]
     },
     "execution_count": 79,
     "metadata": {},
     "output_type": "execute_result"
    }
   ],
   "source": [
    "tasteShocks.shape"
   ]
  },
  {
   "cell_type": "code",
   "execution_count": 80,
   "id": "58776bda",
   "metadata": {},
   "outputs": [],
   "source": [
    "def objFunction(params):\n",
    "    delta = params[0:300]\n",
    "    eta = params[300:305]\n",
    "    sigma = params[305]\n",
    "    \n",
    "    value = np.matmul(np.transpose(eta),eta)\n",
    "    \n",
    "    return(value)"
   ]
  },
  {
   "cell_type": "markdown",
   "id": "4c34aa5c",
   "metadata": {},
   "source": [
    "### Constraints:\n",
    "\n",
    "We will have 305 constraints as well. One for each $s_{jm}$ (there are 300 of them ), one for each $\\eta$ (5 of them) "
   ]
  },
  {
   "cell_type": "code",
   "execution_count": 81,
   "id": "a3118fcd",
   "metadata": {},
   "outputs": [
    {
     "data": {
      "text/plain": [
       "1.3803879946772846"
      ]
     },
     "execution_count": 81,
     "metadata": {},
     "output_type": "execute_result"
    }
   ],
   "source": [
    "tasteShocks[0][1]"
   ]
  },
  {
   "cell_type": "markdown",
   "id": "e09162ae",
   "metadata": {},
   "source": [
    "## shares constraints V1\n",
    "\n",
    "def sharesConstraints(params):\n",
    "    deltaVector = params[0:300]\n",
    "    etaVector = params[300:305]\n",
    "    sigma = params[305]\n",
    "    muMatrix = []\n",
    "    for i in range(0,R):\n",
    "        muMatrix.append(-tasteShocks[0][i]*prices_stacked3*sigma)\n",
    "\n",
    "    muMatrix = np.array(muMatrix)\n",
    "    shares = []\n",
    "\n",
    "    for j in range(0,300):\n",
    "        if j%3==0:\n",
    "            delta1mu = deltaVector[j]+muMatrix[:,j]\n",
    "            delta2mu = deltaVector[j+1]+muMatrix[:,j+1]\n",
    "            delta3mu = deltaVector[j+2]+muMatrix[:,j+2]\n",
    "\n",
    "            maxDeltaMu = np.max(np.array([delta1mu,delta2mu,delta3mu]))\n",
    "\n",
    "            exp_deltaMu1 = np.exp(delta1+muMatrix[:,j]) #-maxDeltaMu)\n",
    "            exp_deltaMu2 = np.exp(delta2+muMatrix[:,j+1]) #-maxDeltaMu)\n",
    "            exp_deltaMu3 = np.exp(delta3+muMatrix[:,j+2]) #-maxDeltaMu)\n",
    "            sumExp = exp_deltaMu1 + exp_deltaMu2 + exp_deltaMu3 #+ np.exp(-maxDeltaMu)\n",
    "            exp_deltaMu1_divided = exp_deltaMu1/sumExp\n",
    "            exp_deltaMu2_divided = exp_deltaMu2/sumExp\n",
    "            exp_deltaMu3_divided = exp_deltaMu3/sumExp\n",
    "\n",
    "            shares.append((exp_deltaMu1_divided).sum()/R)\n",
    "            shares.append((exp_deltaMu2_divided).sum()/R)\n",
    "            shares.append((exp_deltaMu3_divided).sum()/R)\n",
    "\n",
    "    sharesDif = shares_stacked3-shares\n",
    "    return(sharesDif)\n",
    "\n",
    "sharesConstraints(params).shape        "
   ]
  },
  {
   "cell_type": "code",
   "execution_count": 82,
   "id": "db8c896d",
   "metadata": {},
   "outputs": [],
   "source": [
    "deltaVector = params[0:300]\n",
    "etaVector = params[300:305]\n",
    "sigma = params[305]\n",
    "muMatrix = np.matmul(P_opt3,tasteShocks)\n"
   ]
  },
  {
   "cell_type": "code",
   "execution_count": 83,
   "id": "e990d9da",
   "metadata": {},
   "outputs": [
    {
     "data": {
      "text/plain": [
       "(300,)"
      ]
     },
     "execution_count": 83,
     "metadata": {},
     "output_type": "execute_result"
    }
   ],
   "source": [
    "## Start with shares constraints\n",
    "\n",
    "def sharesConstraints(params):\n",
    "    deltaVector = params[0:300]\n",
    "    etaVector = params[300:305]\n",
    "    sigma = params[305]\n",
    "    shares = []\n",
    "\n",
    "    for j in range(0,300):\n",
    "        if j%3==0:\n",
    "            market = math.floor(j/3)\n",
    "            marketShocks = tasteShocks[market,:]\n",
    "            prices = P_opt3[:,market]\n",
    "            delta1mu = deltaVector[j]-sigma*marketShocks*prices[0]\n",
    "            delta2mu = deltaVector[j+1]-sigma*marketShocks*prices[1]\n",
    "            delta3mu = deltaVector[j+2]-sigma*marketShocks*prices[2]\n",
    "\n",
    "            #maxDeltaMu = np.max(np.array([delta1mu,delta2mu,delta3mu]))\n",
    "\n",
    "            exp_deltaMu1 = np.exp(delta1mu) #-maxDeltaMu)\n",
    "            exp_deltaMu2 = np.exp(delta2mu) #-maxDeltaMu)\n",
    "            exp_deltaMu3 = np.exp(delta3mu) #-maxDeltaMu)\n",
    "            sumExp = exp_deltaMu1 + exp_deltaMu2 + exp_deltaMu3 +1 #+ np.exp(-maxDeltaMu)\n",
    "            exp_deltaMu1_divided = exp_deltaMu1/sumExp\n",
    "            exp_deltaMu2_divided = exp_deltaMu2/sumExp\n",
    "            exp_deltaMu3_divided = exp_deltaMu3/sumExp\n",
    "\n",
    "            shares.append((exp_deltaMu1_divided).sum()/R)\n",
    "            shares.append((exp_deltaMu2_divided).sum()/R)\n",
    "            shares.append((exp_deltaMu3_divided).sum()/R)\n",
    "\n",
    "    sharesDif = shares_stacked3-shares\n",
    "    return(sharesDif)\n",
    "\n",
    "sharesConstraints(params).shape        "
   ]
  },
  {
   "cell_type": "code",
   "execution_count": 84,
   "id": "28ea9f81",
   "metadata": {},
   "outputs": [],
   "source": [
    "# Eta constraints\n",
    "def etaConstraints(params):\n",
    "    deltaVector = params[0:300]\n",
    "    etaVector = params[300:305]\n",
    "    sigma = params[305]\n",
    "    \n",
    "    instrumentMatrix = np.concatenate((x1_3,Z3,w3),axis=1)\n",
    "    endogenousMatrix = np.concatenate((x1_3,prices_stacked3.reshape(-1, 1)), axis=1)\n",
    "\n",
    "    P_matrix = np.matmul(np.matmul(instrumentMatrix,np.linalg.inv(np.matmul(np.transpose(instrumentMatrix),instrumentMatrix))),np.transpose(instrumentMatrix))\n",
    "    xi_hat = np.matmul(np.ones([300,300])-np.matmul(np.matmul(endogenousMatrix,np.linalg.inv(np.matmul(np.matmul(np.transpose(endogenousMatrix),P_matrix),endogenousMatrix))),np.matmul(np.transpose(endogenousMatrix),P_matrix)),deltaVector)\n",
    "\n",
    "    moment = np.matmul(np.transpose(instrumentMatrix),xi_hat)/300\n",
    "    \n",
    "    constraint = etaVector - moment\n",
    "    \n",
    "    return(constraint)"
   ]
  },
  {
   "cell_type": "code",
   "execution_count": 85,
   "id": "4a3f1c71",
   "metadata": {},
   "outputs": [],
   "source": [
    "def allConstraints(params):\n",
    "    shares = sharesConstraints(params)\n",
    "    etas   = etaConstraints(params)\n",
    "    return np.concatenate((shares,etas), axis=0)"
   ]
  },
  {
   "cell_type": "code",
   "execution_count": 86,
   "id": "ef4c6abd",
   "metadata": {},
   "outputs": [],
   "source": [
    "solution = scipy.optimize.minimize(objFunction, np.ones(306), constraints=({'type': 'eq', 'fun': allConstraints}))\n"
   ]
  },
  {
   "cell_type": "code",
   "execution_count": 87,
   "id": "8d00a590",
   "metadata": {},
   "outputs": [
    {
     "data": {
      "text/plain": [
       "True"
      ]
     },
     "execution_count": 87,
     "metadata": {},
     "output_type": "execute_result"
    }
   ],
   "source": [
    "# Just to test that the constraints make sense\n",
    "solution.success"
   ]
  },
  {
   "cell_type": "code",
   "execution_count": 92,
   "id": "9801438d",
   "metadata": {},
   "outputs": [],
   "source": [
    "delta_hat = solution.x[:300] # 300*1 vector\n",
    "eta_hat = solution.x[300:305] # 5*1 vector\n",
    "sigma_hat = solution.x[-1] # 1*1 vector\n",
    "delta_hat = np.array([delta_hat])\n"
   ]
  },
  {
   "cell_type": "code",
   "execution_count": 91,
   "id": "5a6d5c9d",
   "metadata": {},
   "outputs": [],
   "source": [
    "instrumentMatrix = np.concatenate((x1_3,Z3,w3),axis=1)\n",
    "endogenousMatrix = np.concatenate((x1_3,prices_stacked3.reshape(-1, 1)), axis=1)\n",
    "\n",
    "P_matrix = np.matmul(np.matmul(instrumentMatrix,np.linalg.inv(np.matmul(np.transpose(instrumentMatrix),instrumentMatrix))),np.transpose(instrumentMatrix))\n",
    "\n",
    "\n"
   ]
  },
  {
   "cell_type": "code",
   "execution_count": 113,
   "id": "f2556d76",
   "metadata": {},
   "outputs": [],
   "source": [
    "# Now, from the minimizer I have param = (deltas, etas, sigma) \n",
    "# I can then finally back up Alpha and Betas \n",
    "XPz = np.matmul(P_matrix, endogenousMatrix)\n",
    "XPzX = np.matmul(endogenousMatrix.transpose(),XPz)\n",
    "XPzX_inv = np.linalg.inv(XPzX)\n",
    "\n",
    "XPzdelta = np.matmul(delta_hat,XPz)\n",
    "\n",
    "# So, these are my alphas and betas (beta1, beta2, beta3)\n",
    "\n",
    "alpha_beta = np.matmul(XPzX_inv,XPzdelta.transpose()) # A 4*1 vector with alpha, beta_0, beta_1, beta_2 "
   ]
  },
  {
   "cell_type": "markdown",
   "id": "e167157a",
   "metadata": {},
   "source": [
    "## Time to code gradients and fun derivative matrices"
   ]
  },
  {
   "cell_type": "code",
   "execution_count": 33,
   "id": "27e59120",
   "metadata": {},
   "outputs": [],
   "source": [
    "def gradient(params):\n",
    "    deltaVector = params[0:300]\n",
    "    etaVector = params[300:305]\n",
    "    sigma = params[305]\n",
    "    shares = []\n",
    "    \n",
    "    gradient = np.zeros(len(params))\n",
    "    gradient[300:305] = 2*etaVector\n",
    "    \n",
    "    return(gradient)\n",
    "    \n",
    "    "
   ]
  },
  {
   "cell_type": "code",
   "execution_count": 34,
   "id": "4dfab0e5",
   "metadata": {},
   "outputs": [
    {
     "data": {
      "text/plain": [
       "array([0., 0., 0., 0., 0., 0., 0., 0., 0., 0., 0., 0., 0., 0., 0., 0., 0.,\n",
       "       0., 0., 0., 0., 0., 0., 0., 0., 0., 0., 0., 0., 0., 0., 0., 0., 0.,\n",
       "       0., 0., 0., 0., 0., 0., 0., 0., 0., 0., 0., 0., 0., 0., 0., 0., 0.,\n",
       "       0., 0., 0., 0., 0., 0., 0., 0., 0., 0., 0., 0., 0., 0., 0., 0., 0.,\n",
       "       0., 0., 0., 0., 0., 0., 0., 0., 0., 0., 0., 0., 0., 0., 0., 0., 0.,\n",
       "       0., 0., 0., 0., 0., 0., 0., 0., 0., 0., 0., 0., 0., 0., 0., 0., 0.,\n",
       "       0., 0., 0., 0., 0., 0., 0., 0., 0., 0., 0., 0., 0., 0., 0., 0., 0.,\n",
       "       0., 0., 0., 0., 0., 0., 0., 0., 0., 0., 0., 0., 0., 0., 0., 0., 0.,\n",
       "       0., 0., 0., 0., 0., 0., 0., 0., 0., 0., 0., 0., 0., 0., 0., 0., 0.,\n",
       "       0., 0., 0., 0., 0., 0., 0., 0., 0., 0., 0., 0., 0., 0., 0., 0., 0.,\n",
       "       0., 0., 0., 0., 0., 0., 0., 0., 0., 0., 0., 0., 0., 0., 0., 0., 0.,\n",
       "       0., 0., 0., 0., 0., 0., 0., 0., 0., 0., 0., 0., 0., 0., 0., 0., 0.,\n",
       "       0., 0., 0., 0., 0., 0., 0., 0., 0., 0., 0., 0., 0., 0., 0., 0., 0.,\n",
       "       0., 0., 0., 0., 0., 0., 0., 0., 0., 0., 0., 0., 0., 0., 0., 0., 0.,\n",
       "       0., 0., 0., 0., 0., 0., 0., 0., 0., 0., 0., 0., 0., 0., 0., 0., 0.,\n",
       "       0., 0., 0., 0., 0., 0., 0., 0., 0., 0., 0., 0., 0., 0., 0., 0., 0.,\n",
       "       0., 0., 0., 0., 0., 0., 0., 0., 0., 0., 0., 0., 0., 0., 0., 0., 0.,\n",
       "       0., 0., 0., 0., 0., 0., 0., 0., 0., 0., 0., 2., 2., 2., 2., 2., 0.])"
      ]
     },
     "execution_count": 34,
     "metadata": {},
     "output_type": "execute_result"
    }
   ],
   "source": [
    "gradient(params)"
   ]
  },
  {
   "cell_type": "code",
   "execution_count": 35,
   "id": "91799701",
   "metadata": {},
   "outputs": [],
   "source": [
    "## Start with shares constraints\n",
    "\n",
    "def jacobianShares(params):\n",
    "    deltaVector = params[0:300]\n",
    "    etaVector = params[300:305]\n",
    "    sigma = params[305]\n",
    "    jacobianMatrix = np.zeros([len(deltaVector),306])\n",
    "\n",
    "    for j in range(0,300):   \n",
    "        if j%3==0:\n",
    "            market = math.floor(j/3)\n",
    "            marketShocks = tasteShocks[market,:]\n",
    "            prices = P_opt3[:,market]\n",
    "            delta1mu = deltaVector[j]-sigma*marketShocks*prices[0]\n",
    "            delta2mu = deltaVector[j+1]-sigma*marketShocks*prices[1]\n",
    "            delta3mu = deltaVector[j+2]-sigma*marketShocks*prices[2]\n",
    "\n",
    "            #maxDeltaMu = np.max(np.array([delta1mu,delta2mu,delta3mu]))\n",
    "\n",
    "            exp_deltaMu1 = np.exp(delta1mu) #-maxDeltaMu)\n",
    "            exp_deltaMu2 = np.exp(delta2mu) #-maxDeltaMu)\n",
    "            exp_deltaMu3 = np.exp(delta3mu) #-maxDeltaMu)\n",
    "            sumExp = exp_deltaMu1 + exp_deltaMu2 + exp_deltaMu3 +1 #+ np.exp(-maxDeltaMu)\n",
    "            exp_deltaMu1_divided = exp_deltaMu1/sumExp\n",
    "            exp_deltaMu2_divided = exp_deltaMu2/sumExp\n",
    "            exp_deltaMu3_divided = exp_deltaMu3/sumExp\n",
    "            sumexp_deltaMu_divided = exp_deltaMu1_divided + exp_deltaMu2_divided + exp_deltaMu3_divided\n",
    "\n",
    "            one1 = (exp_deltaMu1_divided*(1-exp_deltaMu1_divided)).sum()/R\n",
    "            one2 = -(exp_deltaMu1_divided*exp_deltaMu2_divided).sum()/R\n",
    "            one3 = -(exp_deltaMu1_divided*exp_deltaMu3_divided).sum()/R\n",
    "            oneSigma = (exp_deltaMu1_divided*(prices[1]-sumexp_deltaMu_divided)).sum()/R\n",
    "            \n",
    "            two1 = -(exp_deltaMu2_divided*exp_deltaMu1_divided).sum()/R\n",
    "            two2 = (exp_deltaMu2_divided*(1-exp_deltaMu2_divided)).sum()/R\n",
    "            two3 = -(exp_deltaMu2_divided*exp_deltaMu3_divided).sum()/R\n",
    "            twoSigma = (exp_deltaMu2_divided*(prices[1]-sumexp_deltaMu_divided)).sum()/R \n",
    "            \n",
    "            three1 = -(exp_deltaMu3_divided*exp_deltaMu1_divided).sum()/R\n",
    "            three2 = -(exp_deltaMu3_divided*exp_deltaMu2_divided).sum()/R\n",
    "            three3 = (exp_deltaMu3_divided*(1-exp_deltaMu3_divided)).sum()/R\n",
    "            threeSigma = (exp_deltaMu3_divided*(prices[1]-sumexp_deltaMu_divided)).sum()/R\n",
    "            \n",
    "\n",
    "            jacobianMatrix[j,j:j+3] = [one1, one2, one3]\n",
    "            jacobianMatrix[j,300:] = np.append(np.zeros(5),oneSigma)\n",
    "            \n",
    "\n",
    "            jacobianMatrix[j+1,j:j+3]= [two1, two2, two3]\n",
    "            jacobianMatrix[j+1,300:] = np.append(np.zeros(5),twoSigma)\n",
    "            \n",
    "            jacobianMatrix[j+2,j:j+3] = [three1,three2,three3]\n",
    "            jacobianMatrix[j+2,300:] = np.append(np.zeros(5),threeSigma)\n",
    "            \n",
    "    return(jacobianMatrix)"
   ]
  },
  {
   "cell_type": "code",
   "execution_count": 36,
   "id": "d4946ed7",
   "metadata": {},
   "outputs": [],
   "source": [
    "def jacobianEtas(params):\n",
    "    deltaVector = params[0:300]\n",
    "    etaVector = params[300:305]\n",
    "    sigma = params[305]\n",
    "    jacobianMatrix = np.zeros([len(etaVector),306])\n",
    "    \n",
    "    instrumentMatrix = np.concatenate((x1_3,Z3,w3),axis=1)\n",
    "    P_matrix = np.matmul(np.matmul(instrumentMatrix,np.linalg.inv(np.matmul(np.transpose(instrumentMatrix),instrumentMatrix))),np.transpose(instrumentMatrix))\n",
    "    A = np.ones([300,300])-np.matmul(np.matmul(x1_3,np.linalg.inv(np.matmul(np.matmul(np.transpose(x1_3),P_matrix),x1_3))),np.matmul(np.transpose(x1_3),P_matrix))\n",
    "    deltasMatrix = np.transpose(np.matmul(A,instrumentMatrix))/300\n",
    "    jacobianMatrix[:,0:300] = deltasMatrix\n",
    "    jacobianMatrix[:,300:305] = -np.ones([5,5])\n",
    "    jacobianMatrix[:,305] = np.zeros(5)\n",
    "    \n",
    "    return(jacobianMatrix)\n",
    "    \n",
    "    "
   ]
  },
  {
   "cell_type": "code",
   "execution_count": 37,
   "id": "c8a97add",
   "metadata": {},
   "outputs": [],
   "source": [
    "# Function that gathers all the jacobians\n",
    "def ultimateJacobian(params):\n",
    "    jacobianMatrix = np.zeros([305,306])\n",
    "    \n",
    "    jacobianMatrix[0:300,:] = jacobianShares(params)\n",
    "    jacobianMatrix[300:,:] = jacobianEtas(params)\n",
    "    \n",
    "    return(jacobianMatrix)\n"
   ]
  },
  {
   "cell_type": "code",
   "execution_count": 39,
   "id": "75d70013",
   "metadata": {},
   "outputs": [
    {
     "data": {
      "text/plain": [
       "array([[ 0.0277131 , -0.01078453, -0.00954118, ...,  0.        ,\n",
       "         0.        ,  0.03679477],\n",
       "       [-0.01078453,  0.14527036, -0.04849823, ...,  0.        ,\n",
       "         0.        ,  0.27826821],\n",
       "       [-0.00954118, -0.04849823,  0.11791061, ...,  0.        ,\n",
       "         0.        ,  0.20588705],\n",
       "       ...,\n",
       "       [ 0.05103558,  0.04556432,  0.04597061, ..., -1.        ,\n",
       "        -1.        ,  0.        ],\n",
       "       [-0.04206718, -0.04146532, -0.04158178, ..., -1.        ,\n",
       "        -1.        ,  0.        ],\n",
       "       [ 0.13993658,  0.14000529,  0.13935646, ..., -1.        ,\n",
       "        -1.        ,  0.        ]])"
      ]
     },
     "execution_count": 39,
     "metadata": {},
     "output_type": "execute_result"
    }
   ],
   "source": [
    "ultimateJacobian(params)"
   ]
  },
  {
   "cell_type": "markdown",
   "id": "897704ba",
   "metadata": {},
   "source": [
    "## It's now time to define the hessian\n",
    "\n",
    "## or is it? \n"
   ]
  },
  {
   "cell_type": "markdown",
   "id": "3dc1a0d2",
   "metadata": {},
   "source": [
    "## Go now to the knitro optimization"
   ]
  },
  {
   "cell_type": "code",
   "execution_count": 53,
   "id": "69c4aa2b",
   "metadata": {},
   "outputs": [],
   "source": [
    "import autodiff"
   ]
  },
  {
   "cell_type": "code",
   "execution_count": 43,
   "id": "0c46128a",
   "metadata": {},
   "outputs": [],
   "source": [
    "from knitro import * \n",
    "\n"
   ]
  },
  {
   "cell_type": "code",
   "execution_count": null,
   "id": "edad0273",
   "metadata": {},
   "outputs": [],
   "source": [
    "##################### Now I try a Knitro solution #####################################\n",
    "\n",
    "# Setup KNITRO solver:\n",
    "#from knitro import * \n",
    "\n",
    "# Setup number of parameters:\n",
    "#m = 100 # markets\n",
    "#j = 3 # products\n",
    "#z = 6 # exclusion restrictions: x_1, x_2, x_3, x_2k + x2_l, x_3k + x_3l\n",
    "#h = 5 # number of parameters: alpha, beta_1, beta_2, beta_3, sigma_p\n",
    "\n",
    "#n = (m*j) + z + h # Number of parameters in MPEC: m*j xis, z etas and the h parameters\n",
    "#k = (m*j) + z # Number of constraints (share equations and moment conditions)\n",
    "\n",
    "# Setup wrapper for obj function\n",
    "#def knitro_objective(theta):\n",
    "#    eta = theta[(m * j):((m * j) + z)]\n",
    "#    return obj(eta, w = np.identity(len(eta)))\n",
    "\n",
    "\n",
    "# Setup wrapper for contraints:\n",
    "#def knitro_constraints(theta):\n",
    "#    xi = theta[:(m*j)]\n",
    "#    eta = theta[(m*j):((m*j) + z)]\n",
    "#    alpha = theta[((m*j) + z):((m*j) + z + 1)]\n",
    "#    beta = theta[((m*j) + z + 1):((m*j) + z + 4)]\n",
    "#    sigma = theta[((m*j) + z + 4)]\n",
    "    \n",
    "#    moments = moments_constraint(eta, xi, z)\n",
    "\n",
    "#    shares = shares_constraint(xi, alpha, beta, sigma, prices_flat, r, m, j,\n",
    "#                               x, nu, shares_n)\n",
    "                               \n",
    "#    return np.vstack([moments, shares])\n",
    "\n",
    "# Setup gradient function with auto-diff:\n",
    "#knitro_grad = egrad(knitro_objective)\n",
    "\n",
    "# Setup contraint jacobian function with auto diff:\n",
    "#knitro_cjacobian = jacobian(knitro_constraints)\n",
    "\n",
    "# Setup callback functions:\n",
    "\n",
    "# Objective callback function:\n",
    "#def callbackEvalFC(kc, cb, evalRequest, evalResult, userParams):\n",
    "#    if evalRequest.type != KN_RC_EVALFC:\n",
    "#            print (\"*** callbackEvalFC incorrectly called with eval type %d\" % evalRequest.type)\n",
    "#            return -1\n",
    "    \n",
    "#    x = evalRequest.x\n",
    "\n",
    "    # Evaluate objective function:\n",
    "#    dTmp1 = knitro_objective(x)\n",
    "#    evalResult.obj = dTmp1 \n",
    "\n",
    "    # Evaluate contraints:\n",
    "#    dTmp2 = knitro_constraints(x)\n",
    "#    for con in range(0,k):\n",
    "#        evalResult.c[con] = dTmp2[con]\n",
    "\n",
    "#    return 0\n",
    "\n",
    "\n",
    "# Constraint callback function:\n",
    "#def callbackEvalGA(kc, cb, evalRequest, evalResult, userParams):\n",
    "#    if evalRequest.type != KN_RC_EVALGA:\n",
    "#       print (\"*** callbackEvalGA incorrectly called with eval type %d\" % evalRequest.type)\n",
    "#       return -1\n",
    "\n",
    "#    x = evalRequest.x \n",
    "\n",
    "    # Evaluate gradient of objective function with automatic diff:\n",
    "#    grad_objective = knitro_grad(x)\n",
    "\n",
    "#    for param in range(0, n):\n",
    "#        evalResult.objGrad[param] = grad_objective[param]\n",
    "\n",
    "    # Evaluate constraint jacobian with automatic diff:\n",
    "#    cons_jacobian = knitro_cjacobian(x)\n",
    "\n",
    "    # Evaluate jacobian for every constraint and parameter:\n",
    "#    jac_position = 0\n",
    "#    for con in range(0, k):\n",
    "#        for par in range(0, n):\n",
    "#            evalResult.jac[jac_position] = cons_jacobian[con, 0, par, 0]\n",
    "\n",
    "#    return 0\n",
    "\n",
    "\n",
    "# New point callback\n",
    "#def callbackNewPoint(kc, x, lambda_, userParams):\n",
    "\n",
    "    # Get the number of variables in the model\n",
    "#    num = KN_get_number_vars (kc)\n",
    "\n",
    "#    print (\">> New point computed by Knitro: (\", \",\".join(\"%20.12e\" % xi for xi in x), \")\")\n",
    "\n",
    "    # Query information about the current problem.\n",
    "#    dFeasError = KN_get_abs_feas_error (kc)\n",
    "#    print (\"Number FC evals=%d, Current feasError=%e\" % (KN_get_number_FC_evals (kc), dFeasError))\n",
    "    \n",
    "    # Demonstrate user-defined termination\n",
    "    # (Uncomment to activate)\n",
    "#    if KN_get_obj_value (kc) > 0.2 and dFeasError <= 1.0e-4:\n",
    "#        return KN_RC_USER_TERMINATION\n",
    "    \n",
    "#    return 0\n",
    "\n",
    "\n",
    "# Start KNITRO solver instance:\n",
    "#kc = KN_new ()\n",
    "\n",
    "# Set number of parameters and bounds:\n",
    "#KN_add_vars(kc, n)\n",
    "#KN_set_var_lobnds(kc, -KN_INFINITY * np.ones(n))\n",
    "#KN_set_var_upbnds(kc, KN_INFINITY * np.ones(n))\n",
    "\n",
    "# Set number of constraints and bounds:\n",
    "#KN_add_cons(kc, k)\n",
    "#KN_set_con_lobnds(kc, np.zeros(k))\n",
    "#KN_set_con_upbnds(kc, np.zeros(k))\n",
    "\n",
    "# Setup indices for constraints, gradient and jacobian structures:\n",
    "\n",
    "# Constraint indices:\n",
    "#cIndices = np.arange(k)\n",
    "\n",
    "# Index structure of gradient of objective:\n",
    "#objGradIndexVarsCB = np.arange(n)\n",
    "\n",
    "# Index structure of constraints Jacobian:\n",
    "#jacIndexConsCB = np.arange(k)\n",
    "#jacIndexConsCB = np.tile(jacIndexConsCB, n)\n",
    "\n",
    "#jacIndexVarsCB = np.arange(n)\n",
    "#jacIndexVarsCB = np.tile(jacIndexVarsCB, k)\n",
    "\n",
    "# Set the minimizer:\n",
    "#KN_set_obj_goal(kc, KN_OBJGOAL_MINIMIZE)\n",
    "\n",
    "# Register new point callback:\n",
    "#KN_set_newpt_callback(kc, callbackNewPoint)\n",
    "\n",
    "# Register objective function callback:\n",
    "#cb = KN_add_eval_callback(kc, True, cIndices, callbackEvalFC)\n",
    "\n",
    "# Register gradient and hessian function callback:\n",
    "#KN_set_cb_grad(kc, cb, \n",
    "#               objGradIndexVars = objGradIndexVarsCB,\n",
    "#               jacIndexCons=jacIndexConsCB,\n",
    "#               jacIndexVars=jacIndexVarsCB,\n",
    "#               gradCallback=callbackEvalGA)\n",
    "\n",
    "# Solve BLP:\n",
    "#nStatus = KN_solve(kc)\n",
    "\n",
    "# Store results:\n",
    "#nStatus, objSol, x, lambda_ = KN_get_solution(kc)\n",
    "\n",
    "# End instance:\n",
    "#KN_free(kc)\n"
   ]
  },
  {
   "cell_type": "code",
   "execution_count": 100,
   "id": "98d2798e",
   "metadata": {},
   "outputs": [],
   "source": [
    "import jax\n"
   ]
  },
  {
   "cell_type": "code",
   "execution_count": 48,
   "id": "4869f7f8",
   "metadata": {},
   "outputs": [
    {
     "ename": "IndexError",
     "evalue": "index 310 is out of bounds for axis 0 with size 306",
     "output_type": "error",
     "traceback": [
      "\u001b[0;31m---------------------------------------------------------------------------\u001b[0m",
      "\u001b[0;31mIndexError\u001b[0m                                Traceback (most recent call last)",
      "Cell \u001b[0;32mIn [48], line 48\u001b[0m\n\u001b[1;32m     46\u001b[0m     \u001b[38;5;28;01mreturn\u001b[39;00m np\u001b[38;5;241m.\u001b[39mvstack([moments, shares])\n\u001b[1;32m     47\u001b[0m \u001b[38;5;66;03m# Setup contraint jacobian function with auto diff:\u001b[39;00m\n\u001b[0;32m---> 48\u001b[0m knitro_cjacobian \u001b[38;5;241m=\u001b[39m ultimateJacobian(\u001b[43mknitro_constraints\u001b[49m\u001b[43m(\u001b[49m\u001b[43mnp\u001b[49m\u001b[38;5;241;43m.\u001b[39;49m\u001b[43mones\u001b[49m\u001b[43m(\u001b[49m\u001b[38;5;241;43m306\u001b[39;49m\u001b[43m)\u001b[49m\u001b[43m)\u001b[49m)\n",
      "Cell \u001b[0;32mIn [48], line 39\u001b[0m, in \u001b[0;36mknitro_constraints\u001b[0;34m(theta)\u001b[0m\n\u001b[1;32m     37\u001b[0m alpha \u001b[38;5;241m=\u001b[39m theta[((m\u001b[38;5;241m*\u001b[39mj) \u001b[38;5;241m+\u001b[39m z):((m\u001b[38;5;241m*\u001b[39mj) \u001b[38;5;241m+\u001b[39m z \u001b[38;5;241m+\u001b[39m \u001b[38;5;241m1\u001b[39m)]\n\u001b[1;32m     38\u001b[0m beta \u001b[38;5;241m=\u001b[39m theta[((m\u001b[38;5;241m*\u001b[39mj) \u001b[38;5;241m+\u001b[39m z \u001b[38;5;241m+\u001b[39m \u001b[38;5;241m1\u001b[39m):((m\u001b[38;5;241m*\u001b[39mj) \u001b[38;5;241m+\u001b[39m z \u001b[38;5;241m+\u001b[39m \u001b[38;5;241m4\u001b[39m)]\n\u001b[0;32m---> 39\u001b[0m sigma \u001b[38;5;241m=\u001b[39m \u001b[43mtheta\u001b[49m\u001b[43m[\u001b[49m\u001b[43m(\u001b[49m\u001b[43m(\u001b[49m\u001b[43mm\u001b[49m\u001b[38;5;241;43m*\u001b[39;49m\u001b[43mj\u001b[49m\u001b[43m)\u001b[49m\u001b[43m \u001b[49m\u001b[38;5;241;43m+\u001b[39;49m\u001b[43m \u001b[49m\u001b[43mz\u001b[49m\u001b[43m \u001b[49m\u001b[38;5;241;43m+\u001b[39;49m\u001b[43m \u001b[49m\u001b[38;5;241;43m4\u001b[39;49m\u001b[43m)\u001b[49m\u001b[43m]\u001b[49m\n\u001b[1;32m     41\u001b[0m moments \u001b[38;5;241m=\u001b[39m etaConstraints(eta, xi, z)\n\u001b[1;32m     43\u001b[0m shares \u001b[38;5;241m=\u001b[39m sharesConstraints(xi, alpha, beta, sigma, prices_flat, r, m, j,\n\u001b[1;32m     44\u001b[0m                            x, nu, shares_n)\n",
      "\u001b[0;31mIndexError\u001b[0m: index 310 is out of bounds for axis 0 with size 306"
     ]
    }
   ],
   "source": [
    "# Setup number of parameters:\n",
    "m = 100 # markets\n",
    "j = 3 # products\n",
    "z = 6 # exclusion restrictions: x_1, x_2, x_3, x_2k + x2_l, x_3k + x_3l\n",
    "h = 5 # number of parameters: alpha, beta_1, beta_2, beta_3, sigma_p\n",
    "n = (m*j) + z + h # Number of parameters in MPEC: m*j xis, z etas and the h parameters\n",
    "k = (m*j) + z # Number of constraints (share equations and moment conditions)\n",
    "\n",
    "\n",
    "from knitro import *\n",
    "\n",
    "# Create a new Knitro solver instance.\n",
    "try:\n",
    "    kc = KN_new ()\n",
    "except:\n",
    "    print (\"Failed to find a valid license.\")\n",
    "    quit ()\n",
    "# Add variables:\n",
    "xIndices = KN_add_vars (kc, n)\n",
    "# Set number of constraints and bounds:\n",
    "KN_add_cons(kc, k)\n",
    "KN_set_con_lobnds(kc,np.arange(0,k),np.zeros(k))\n",
    "KN_set_con_upbnds(kc,np.arange(0,k),np.zeros(k))\n",
    "\n",
    "# Index structure of gradient of objective:\n",
    "objGradIndexVarsCB = np.arange(n)\n",
    "\n",
    "# Index structure of constraints Jacobian:\n",
    "jacIndexConsCB = np.arange(k)\n",
    "jacIndexConsCB = np.tile(jacIndexConsCB, n)\n",
    "jacIndexVarsCB = np.arange(n)\n",
    "jacIndexVarsCB = np.tile(jacIndexVarsCB, k)\n",
    "\n"
   ]
  },
  {
   "cell_type": "code",
   "execution_count": null,
   "id": "930371b5",
   "metadata": {},
   "outputs": [],
   "source": []
  },
  {
   "cell_type": "code",
   "execution_count": 138,
   "id": "ba734be2",
   "metadata": {},
   "outputs": [],
   "source": [
    "jacIndexCons = [0, 0, 0]\n",
    "jacIndexVars = [0, 1, 2]\n",
    "jacCoefs = [1.0, 1.0, 1.0]\n",
    "# Second constraint\n",
    "jacIndexCons += [1, 1, 1]\n",
    "jacIndexVars += [0, 1, 3]\n",
    "jacCoefs += [2.0, 0.5, 1.0]"
   ]
  },
  {
   "cell_type": "code",
   "execution_count": 139,
   "id": "3cc38935",
   "metadata": {},
   "outputs": [
    {
     "data": {
      "text/plain": [
       "[0, 0, 0, 1, 1, 1]"
      ]
     },
     "execution_count": 139,
     "metadata": {},
     "output_type": "execute_result"
    }
   ],
   "source": [
    "jacIndexCons"
   ]
  },
  {
   "cell_type": "code",
   "execution_count": 108,
   "id": "4d570571",
   "metadata": {},
   "outputs": [
    {
     "name": "stdout",
     "output_type": "stream",
     "text": [
      "object() takes no arguments\n",
      "=======================================\n",
      "           Academic License\n",
      "       (NOT FOR COMMERCIAL USE)\n",
      "         Artelys Knitro 12.4.0\n",
      "=======================================\n",
      "\n",
      "No start point provided -- Knitro computing one.\n",
      "\n",
      "\n",
      "ERROR: User routine for func_callback returned -500.\n",
      "       Could not evaluate objective or constraints at the current point.\n",
      "object() takes no arguments\n",
      "ERROR: User routine for grad_callback returned -500.\n",
      "       Could not evaluate first derivatives at the current point.\n",
      "WARNING: Evaluation error in Knitro presolver.\n",
      "         No presolve will be applied.\n",
      "object() takes no arguments\n",
      "ERROR: User routine for func_callback returned -500.\n",
      "       Could not evaluate objective or constraints at the current point.\n",
      "par_concurrent_evals:    0\n",
      "presolve:                0\n",
      "object() takes no arguments\n",
      "ERROR: User routine for func_callback returned -500.\n",
      "       Could not evaluate objective or constraints at the current point.\n",
      "\n",
      "EXIT: Callback function error.\n",
      "\n",
      "===============================================================================\n",
      "\n"
     ]
    }
   ],
   "source": [
    "##################### Now I try a Knitro solution #####################################\n",
    "\n",
    "# Setup KNITRO solver:\n",
    "from knitro import * \n",
    "\n",
    "# Setup number of parameters:\n",
    "m = 100 # markets\n",
    "j = 3 # products\n",
    "z = 6 # exclusion restrictions: x_1, x_2, x_3, x_2k + x2_l, x_3k + x_3l\n",
    "h = 5 # number of parameters: alpha, beta_1, beta_2, beta_3, sigma_p\n",
    "\n",
    "n = (m*j) + z + h # Number of parameters in MPEC: m*j xis, z etas and the h parameters\n",
    "k = (m*j) + z # Number of constraints (share equations and moment conditions)\n",
    "\n",
    "# Setup wrapper for obj function\n",
    "def knitro_objective(theta):\n",
    "    eta = theta[(m * j):((m * j) + z)]\n",
    "    return object(eta, w = np.identity(len(eta)))\n",
    "\n",
    "\n",
    "# Setup wrapper for constraints:\n",
    "def knitro_constraints(theta):\n",
    "    xi = theta[:(m*j)]\n",
    "    eta = theta[(m*j):((m*j) + z)]\n",
    "    alpha = theta[((m*j) + z):((m*j) + z + 1)]\n",
    "    beta = theta[((m*j) + z + 1):((m*j) + z + 4)]\n",
    "    sigma = theta[((m*j) + z + 4)]\n",
    "    \n",
    "    moments = etaConstraints(eta, xi, z)\n",
    "\n",
    "    shares = sharesConstraints(xi, alpha, beta, sigma, prices_flat, r, m, j,\n",
    "                               x, nu, shares_n)\n",
    "                               \n",
    "    return np.vstack([moments, shares])\n",
    "\n",
    "# Setup gradient function with auto-diff:\n",
    "knitro_grad = jax.grad(knitro_objective)\n",
    "\n",
    "# Setup contraint jacobian function with auto diff:\n",
    "knitro_cjacobian = jax.jacfwd(knitro_constraints)\n",
    "\n",
    "# Setup callback functions:\n",
    "\n",
    "# Objective callback function:\n",
    "def callbackEvalFC(kc, cb, evalRequest, evalResult, userParams):\n",
    "    if evalRequest.type != KN_RC_EVALFC:\n",
    "            print (\"*** callbackEvalFC incorrectly called with eval type %d\" % evalRequest.type)\n",
    "            return -1\n",
    "    \n",
    "    x = evalRequest.x\n",
    "\n",
    "    # Evaluate objective function:\n",
    "    dTmp1 = knitro_objective(x)\n",
    "    evalResult.obj = dTmp1 \n",
    "\n",
    "    # Evaluate contraints:\n",
    "    dTmp2 = knitro_constraints(x)\n",
    "    for con in range(0,k):\n",
    "        evalResult.c[con] = dTmp2[con]\n",
    "\n",
    "    return 0\n",
    "\n",
    "\n",
    "# Constraint callback function:\n",
    "def callbackEvalGA(kc, cb, evalRequest, evalResult, userParams):\n",
    "    if evalRequest.type != KN_RC_EVALGA:\n",
    "       print (\"*** callbackEvalGA incorrectly called with eval type %d\" % evalRequest.type)\n",
    "       return -1\n",
    "\n",
    "    x = evalRequest.x \n",
    "\n",
    "    # Evaluate gradient of objective function with automatic diff:\n",
    "    grad_objective = knitro_grad(x)\n",
    "\n",
    "    for param in range(0, n):\n",
    "        evalResult.objGrad[param] = grad_objective[param]\n",
    "\n",
    "    # Evaluate constraint jacobian with automatic diff:\n",
    "    cons_jacobian = knitro_cjacobian(x)\n",
    "\n",
    "    # Evaluate jacobian for every constraint and parameter:\n",
    "    jac_position = 0\n",
    "    for con in range(0, k):\n",
    "        for par in range(0, n):\n",
    "            evalResult.jac[jac_position] = cons_jacobian[con, 0, par, 0]\n",
    "\n",
    "    return 0\n",
    "\n",
    "\n",
    "# New point callback\n",
    "def callbackNewPoint(kc, x, lambda_, userParams):\n",
    "\n",
    "    # Get the number of variables in the model\n",
    "    num = KN_get_number_vars (kc)\n",
    "\n",
    "    print (\">> New point computed by Knitro: (\", \",\".join(\"%20.12e\" % xi for xi in x), \")\")\n",
    "\n",
    "    # Query information about the current problem.\n",
    "    dFeasError = KN_get_abs_feas_error (kc)\n",
    "    print (\"Number FC evals=%d, Current feasError=%e\" % (KN_get_number_FC_evals (kc), dFeasError))\n",
    "    \n",
    "    # Demonstrate user-defined termination\n",
    "    # (Uncomment to activate)\n",
    "    if KN_get_obj_value (kc) > 0.2 and dFeasError <= 1.0e-4:\n",
    "        return KN_RC_USER_TERMINATION\n",
    "    \n",
    "    return 0\n",
    "\n",
    "\n",
    "# Start KNITRO solver instance:\n",
    "kc = KN_new ()\n",
    "\n",
    "# Set number of parameters and bounds:\n",
    "KN_add_vars(kc, n)\n",
    "KN_set_var_lobnds(kc, np.arange(n), -KN_INFINITY * np.ones(n))\n",
    "KN_set_var_upbnds(kc, np.arange(n),KN_INFINITY * np.ones(n))\n",
    "\n",
    "# Set number of constraints and bounds:\n",
    "KN_add_cons(kc, k)\n",
    "KN_set_con_lobnds(kc,np.arange(0,k),np.zeros(k))\n",
    "KN_set_con_upbnds(kc,np.arange(0,k),np.zeros(k))\n",
    "\n",
    "# Setup indices for constraints, gradient and jacobian structures:\n",
    "\n",
    "# Constraint indices:\n",
    "cIndices = np.arange(k)\n",
    "\n",
    "# Index structure of gradient of objective:\n",
    "objGradIndexVarsCB = np.arange(n)\n",
    "\n",
    "# Index structure of constraints Jacobian:\n",
    "jacIndexConsCB = np.arange(k)\n",
    "jacIndexConsCB = np.tile(jacIndexConsCB, n)\n",
    "\n",
    "jacIndexVarsCB = np.arange(n)\n",
    "jacIndexVarsCB = np.tile(jacIndexVarsCB, k)\n",
    "\n",
    "# Set the minimizer:\n",
    "KN_set_obj_goal(kc, KN_OBJGOAL_MINIMIZE)\n",
    "\n",
    "# Register new point callback:\n",
    "KN_set_newpt_callback(kc, callbackNewPoint)\n",
    "\n",
    "# Register objective function callback:\n",
    "cb = KN_add_eval_callback(kc, True, cIndices, callbackEvalFC)\n",
    "\n",
    "# Register gradient and hessian function callback:\n",
    "KN_set_cb_grad(kc, cb, \n",
    "               objGradIndexVars = objGradIndexVarsCB,\n",
    "               jacIndexCons=jacIndexConsCB,\n",
    "               jacIndexVars=jacIndexVarsCB,\n",
    "               gradCallback=callbackEvalGA)\n",
    "\n",
    "# Solve BLP:\n",
    "nStatus = KN_solve(kc)\n",
    "\n",
    "# Store results:\n",
    "nStatus, objSol, x, lambda_ = KN_get_solution(kc)\n",
    "\n",
    "# End instance:\n",
    "KN_free(kc)"
   ]
  },
  {
   "cell_type": "code",
   "execution_count": null,
   "id": "68e68d09",
   "metadata": {},
   "outputs": [],
   "source": [
    "# Index structure of constraints Jacobian:\n",
    "#jacIndexConsCB = np.arange(k)\n",
    "#jacIndexConsCB = np.tile(jacIndexConsCB, n)\n",
    "\n",
    "#jacIndexVarsCB = np.arange(n)\n",
    "#jacIndexVarsCB = np.tile(jacIndexVarsCB, k)"
   ]
  },
  {
   "cell_type": "code",
   "execution_count": 135,
   "id": "e841ed3f",
   "metadata": {},
   "outputs": [
    {
     "data": {
      "text/plain": [
       "(95166,)"
      ]
     },
     "execution_count": 135,
     "metadata": {},
     "output_type": "execute_result"
    }
   ],
   "source": [
    "jacIndexConsCB = np.arange(k)\n",
    "np.tile(jacIndexConsCB, n).shape"
   ]
  },
  {
   "cell_type": "code",
   "execution_count": 101,
   "id": "a83a7692",
   "metadata": {},
   "outputs": [
    {
     "name": "stdout",
     "output_type": "stream",
     "text": [
      "ERROR: Knitro could not open file 'knitro.opt' for input.\n"
     ]
    },
    {
     "ename": "RuntimeError",
     "evalue": "Knitro-Python error: Return code for C function KN_load_param_file() is -505",
     "output_type": "error",
     "traceback": [
      "\u001b[0;31m---------------------------------------------------------------------------\u001b[0m",
      "\u001b[0;31mRuntimeError\u001b[0m                              Traceback (most recent call last)",
      "Cell \u001b[0;32mIn [101], line 12\u001b[0m\n\u001b[1;32m      8\u001b[0m     quit ()\n\u001b[1;32m     10\u001b[0m \u001b[38;5;66;03m# Illustrate how to override default options by reading from\u001b[39;00m\n\u001b[1;32m     11\u001b[0m \u001b[38;5;66;03m# the knitro.opt file.\u001b[39;00m\n\u001b[0;32m---> 12\u001b[0m \u001b[43mKN_load_param_file\u001b[49m\u001b[43m \u001b[49m\u001b[43m(\u001b[49m\u001b[43mkc\u001b[49m\u001b[43m,\u001b[49m\u001b[43m \u001b[49m\u001b[38;5;124;43m\"\u001b[39;49m\u001b[38;5;124;43mknitro.opt\u001b[39;49m\u001b[38;5;124;43m\"\u001b[39;49m\u001b[43m)\u001b[49m\n\u001b[1;32m     14\u001b[0m \u001b[38;5;66;03m# Initialize Knitro with the problem definition.\u001b[39;00m\n\u001b[1;32m     15\u001b[0m \n\u001b[1;32m     16\u001b[0m \u001b[38;5;66;03m# Add the variables and set their bounds.\u001b[39;00m\n\u001b[1;32m     17\u001b[0m \u001b[38;5;66;03m# Note: unset bounds assumed to be infinite.\u001b[39;00m\n\u001b[1;32m     18\u001b[0m xIndices \u001b[38;5;241m=\u001b[39m KN_add_vars (kc, \u001b[38;5;241m4\u001b[39m)\n",
      "File \u001b[0;32m~/.conda/envs/knitro-py38/lib/python3.8/site-packages/knitro-12.4.0-py3.8.egg/knitro/wrapper.py:539\u001b[0m, in \u001b[0;36mKN_load_param_file\u001b[0;34m(kc, filename)\u001b[0m\n\u001b[1;32m    538\u001b[0m \u001b[38;5;28;01mdef\u001b[39;00m \u001b[38;5;21mKN_load_param_file\u001b[39m (kc, filename):\n\u001b[0;32m--> 539\u001b[0m     \u001b[43m_checkRaise\u001b[49m\u001b[43m \u001b[49m\u001b[43m(\u001b[49m\u001b[38;5;124;43m\"\u001b[39;49m\u001b[38;5;124;43mKN_load_param_file\u001b[39;49m\u001b[38;5;124;43m\"\u001b[39;49m\u001b[43m,\u001b[49m\u001b[43m \u001b[49m\u001b[43m_knitro\u001b[49m\u001b[38;5;241;43m.\u001b[39;49m\u001b[43mKN_load_param_file\u001b[49m\u001b[43m \u001b[49m\u001b[43m(\u001b[49m\u001b[43mkc\u001b[49m\u001b[43m,\u001b[49m\u001b[43m \u001b[49m\u001b[43mfilename\u001b[49m\u001b[38;5;241;43m.\u001b[39;49m\u001b[43mencode\u001b[49m\u001b[43m \u001b[49m\u001b[43m(\u001b[49m\u001b[38;5;124;43m'\u001b[39;49m\u001b[38;5;124;43mUTF-8\u001b[39;49m\u001b[38;5;124;43m'\u001b[39;49m\u001b[43m)\u001b[49m\u001b[43m)\u001b[49m\u001b[43m)\u001b[49m\n",
      "File \u001b[0;32m~/.conda/envs/knitro-py38/lib/python3.8/site-packages/knitro-12.4.0-py3.8.egg/knitro/wrapper.py:82\u001b[0m, in \u001b[0;36m_checkRaise\u001b[0;34m(fname, ret)\u001b[0m\n\u001b[1;32m     80\u001b[0m \u001b[38;5;28;01mdef\u001b[39;00m \u001b[38;5;21m_checkRaise\u001b[39m (fname, ret):\n\u001b[1;32m     81\u001b[0m     \u001b[38;5;28;01mif\u001b[39;00m ret:\n\u001b[0;32m---> 82\u001b[0m         \u001b[38;5;28;01mraise\u001b[39;00m \u001b[38;5;167;01mRuntimeError\u001b[39;00m (\u001b[38;5;124m\"\u001b[39m\u001b[38;5;124mKnitro-Python error: Return code for C function \u001b[39m\u001b[38;5;124m\"\u001b[39m \u001b[38;5;241m+\u001b[39m fname \u001b[38;5;241m+\u001b[39m \u001b[38;5;124m\"\u001b[39m\u001b[38;5;124m() is \u001b[39m\u001b[38;5;124m\"\u001b[39m \u001b[38;5;241m+\u001b[39m \u001b[38;5;28mstr\u001b[39m(ret))\n\u001b[1;32m     83\u001b[0m     \u001b[38;5;28;01mreturn\u001b[39;00m ret\n",
      "\u001b[0;31mRuntimeError\u001b[0m: Knitro-Python error: Return code for C function KN_load_param_file() is -505"
     ]
    }
   ],
   "source": [
    "from knitro import *\n",
    "\n",
    "# Create a new Knitro solver instance.\n",
    "try:\n",
    "    kc = KN_new ()\n",
    "except:\n",
    "    print (\"Failed to find a valid license.\")\n",
    "    quit ()\n",
    "\n",
    "# Illustrate how to override default options by reading from\n",
    "# the knitro.opt file.\n",
    "KN_load_param_file (kc, \"knitro.opt\")\n",
    "\n",
    "# Initialize Knitro with the problem definition.\n",
    "\n",
    "# Add the variables and set their bounds.\n",
    "# Note: unset bounds assumed to be infinite.\n",
    "xIndices = KN_add_vars (kc, 4)\n",
    "for x in xIndices:\n",
    "    KN_set_var_lobnds (kc, x, 0.0)\n",
    "\n",
    "# Add the constraints and set the rhs and coefficients.\n",
    "KN_add_cons(kc, 2)\n",
    "KN_set_con_eqbnds (kc, cEqBnds = [5, 8])\n",
    "\n",
    "# Add Jacobian structure and coefficients.\n",
    "# First constraint\n",
    "jacIndexCons = [0, 0, 0]\n",
    "jacIndexVars = [0, 1, 2]\n",
    "jacCoefs = [1.0, 1.0, 1.0]\n",
    "# Second constraint\n",
    "jacIndexCons += [1, 1, 1]\n",
    "jacIndexVars += [0, 1, 3]\n",
    "jacCoefs += [2.0, 0.5, 1.0]\n",
    "KN_add_con_linear_struct (kc, jacIndexCons, jacIndexVars, jacCoefs)\n",
    "\n",
    "# Set minimize or maximize (if not set, assumed minimize).\n",
    "KN_set_obj_goal (kc, KN_OBJGOAL_MINIMIZE)\n",
    "\n",
    "# Set the coefficients for the objective.\n",
    "objIndices = [0, 1]\n",
    "objCoefs = [-4.0, -2.0]\n",
    "KN_add_obj_linear_struct (kc, objIndices, objCoefs)\n",
    "\n",
    "# Solve the problem.\n",
    "# Return status codes are defined in \"knitro.py\" and described in the Knitro manual.\n",
    "nStatus = KN_solve (kc)\n",
    "print (\"Knitro converged with final status = %d\" % nStatus)\n",
    "\n",
    "# An example of obtaining solution information.\n",
    "nStatus, objSol, x, lambda_ =  KN_get_solution (kc)\n",
    "print (\"  optimal objective value  = %e\" % objSol)\n",
    "print (\"  optimal primal values x  = (%e, %e, %e, %e)\" % (x[0], x[1], x[2], x[3]))\n",
    "print (\"  feasibility violation    = %e\" % KN_get_abs_feas_error (kc))\n",
    "print (\"  KKT optimality violation = %e\" % KN_get_abs_opt_error (kc))\n",
    "\n",
    "# Delete the Knitro solver instance.\n",
    "KN_free (kc)"
   ]
  }
 ],
 "metadata": {
  "kernelspec": {
   "display_name": "Python 3",
   "language": "python",
   "name": "python3"
  },
  "language_info": {
   "codemirror_mode": {
    "name": "ipython",
    "version": 3
   },
   "file_extension": ".py",
   "mimetype": "text/x-python",
   "name": "python",
   "nbconvert_exporter": "python",
   "pygments_lexer": "ipython3",
   "version": "3.8.2"
  }
 },
 "nbformat": 4,
 "nbformat_minor": 5
}
