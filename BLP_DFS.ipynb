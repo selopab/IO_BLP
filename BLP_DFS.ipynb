{
 "cells": [
  {
   "cell_type": "code",
   "execution_count": 1,
   "id": "bc6ab8cb",
   "metadata": {},
   "outputs": [
    {
     "name": "stdout",
     "output_type": "stream",
     "text": [
      "Once deleted, variables cannot be recovered. Proceed (y/[n])? y\n"
     ]
    }
   ],
   "source": [
    "%reset"
   ]
  },
  {
   "cell_type": "code",
   "execution_count": 3,
   "id": "f0eb10d4",
   "metadata": {},
   "outputs": [],
   "source": [
    "import pandas as pd\n",
    "import scipy\n",
    "import scipy.io\n",
    "import numpy as np\n",
    "from scipy import optimize\n",
    "import math\n",
    "from collections import Counter\n",
    "#import knitro\n",
    "import matplotlib.pyplot as plt\n",
    "from sklearn.utils import resample\n",
    "from statistics import stdev\n",
    "from scipy.stats import gaussian_kde\n",
    "import seaborn as sb\n",
    "\n",
    "# set random seed\n",
    "import random\n",
    "random.seed(3600021601)"
   ]
  },
  {
   "cell_type": "code",
   "execution_count": 4,
   "id": "35007e03",
   "metadata": {},
   "outputs": [],
   "source": [
    "mat3 = scipy.io.loadmat('../inp/100markets3products.mat')  # load mat-file\n",
    "eta3 = mat3['eta'] # Simulated unobserved error\n",
    "alphas3 = mat3['alphas'] # Simulated alphas\n",
    "P_opt3 = mat3['P_opt']\n",
    "shares3 = mat3['shares']\n",
    "w3 = mat3['w']\n",
    "x1_3 = mat3['x1']\n",
    "xi3 = mat3['xi_all'].flatten(\"F\")\n",
    "Z3 = mat3['Z']\n",
    "prices_stacked3 = P_opt3.flatten(\"F\")\n",
    "shares_stacked3 = shares3.flatten(\"F\")\n",
    "\n",
    "#Create a df with product characteristics\n",
    "df3 = pd.DataFrame(x1_3, columns = ['x0','x1','x2'])\n",
    "df3['price'] = prices_stacked3\n",
    "df3['share'] = shares_stacked3\n",
    "df3['eta'] = eta3\n",
    "df3['w'] = w3\n",
    "df3['Z'] = Z3\n"
   ]
  },
  {
   "cell_type": "code",
   "execution_count": 5,
   "id": "583579e7",
   "metadata": {},
   "outputs": [],
   "source": [
    "# Now the 5 products data\n",
    "mat5 = scipy.io.loadmat('../inp/100markets5products.mat')  # load mat5-file\n",
    "eta5 = mat5['eta'] # Simulated unobserved error\n",
    "alphas5 = mat5['alphas'] # Simulated alphas\n",
    "P_opt5 = mat5['P_opt']\n",
    "shares5 = mat5['shares']\n",
    "w5 = mat5['w']\n",
    "x1_5 = mat5['x1']\n",
    "xi5 = mat5['xi_all'].flatten(\"F\")\n",
    "Z5 = mat5['Z']\n",
    "prices_stacked5 = P_opt5.flatten(\"F\")\n",
    "shares_stacked5 = shares5.flatten(\"F\")\n",
    "\n",
    "#Create a df with product characteristics\n",
    "df5 = pd.DataFrame(x1_5, columns = ['x0','x1','x2'])\n",
    "df5['price'] = prices_stacked5\n",
    "df5['share'] = shares_stacked5\n",
    "df5['eta'] = eta5\n",
    "df5['w'] = w5\n",
    "df5['Z'] = Z5"
   ]
  },
  {
   "cell_type": "markdown",
   "id": "31ccd2fe",
   "metadata": {},
   "source": [
    "## Distribution of prices"
   ]
  },
  {
   "cell_type": "code",
   "execution_count": 6,
   "id": "c7a9f0b2",
   "metadata": {},
   "outputs": [
    {
     "data": {
      "text/plain": [
       "<matplotlib.legend.Legend at 0x2b18bbef86d0>"
      ]
     },
     "execution_count": 6,
     "metadata": {},
     "output_type": "execute_result"
    },
    {
     "data": {
      "image/png": "[encoded data removed]",
      "text/plain": [
       "<Figure size 640x480 with 1 Axes>"
      ]
     },
     "metadata": {},
     "output_type": "display_data"
    }
   ],
   "source": [
    "# Compare both histograms\n",
    "fig, ax = plt.subplots()\n",
    "\n",
    "# the argument bins control the number of bins and their exact position \n",
    "# by default, matplotlib will use 10 equally-spaced bins\n",
    "ax.hist(df5[\"price\"], bins = 15, ls='dotted', alpha = 0.5, lw=3, color= 'b', label='5 goods')\n",
    "ax.hist(df3[\"price\"], bins = 15, ls='dotted', alpha = 0.5, lw=3, color= 'r', label='3 goods')\n",
    "#ax.set_title('Histogram for Prices')\n",
    "ax.legend()"
   ]
  },
  {
   "cell_type": "markdown",
   "id": "e94d1ad9",
   "metadata": {},
   "source": [
    "## Distribution of profits"
   ]
  },
  {
   "cell_type": "code",
   "execution_count": 7,
   "id": "dfb46cf5",
   "metadata": {},
   "outputs": [],
   "source": [
    "df3['mc'] = 2 + df3['w'] + df3['Z'] + df3['eta']\n",
    "df3['profitPerUnit'] = df3['price'] - df3['mc']\n",
    "df3['profits'] = df3['profitPerUnit']*df3['share']\n",
    "\n",
    "df5['mc'] = 2 + df5['w'] + df5['Z'] + df5['eta']\n",
    "df5['profitPerUnit'] = df5['price'] - df5['mc']\n",
    "df5['profits'] = df5['profitPerUnit']*df5['share']"
   ]
  },
  {
   "cell_type": "code",
   "execution_count": 8,
   "id": "fa3a4ba5",
   "metadata": {},
   "outputs": [
    {
     "data": {
      "text/plain": [
       "<matplotlib.legend.Legend at 0x2b18bca1a8b0>"
      ]
     },
     "execution_count": 8,
     "metadata": {},
     "output_type": "execute_result"
    },
    {
     "data": {
      "image/png": "[encoded data removed]",
      "text/plain": [
       "<Figure size 640x480 with 1 Axes>"
      ]
     },
     "metadata": {},
     "output_type": "display_data"
    }
   ],
   "source": [
    "# Compare profits\n",
    "fig, ax = plt.subplots()\n",
    "\n",
    "ax.hist(df5[\"profits\"], bins = 15, ls='dotted', alpha = 0.5, lw=3, color= 'b', label='5 goods')\n",
    "ax.hist(df3[\"profits\"], bins = 15, ls='dotted', alpha = 0.5, lw=3, color= 'r', label='3 goods')\n",
    "#ax.set_title('Histogram for Profits')\n",
    "ax.legend()"
   ]
  },
  {
   "cell_type": "markdown",
   "id": "15bcdf6c",
   "metadata": {},
   "source": [
    "## Consumer surplus"
   ]
  },
  {
   "cell_type": "markdown",
   "id": "1acba288",
   "metadata": {},
   "source": [
    "# Lets start with the 100 markets, 3 products scenario\n",
    "\n",
    "$U_{jm}= X_{jm,0}\\beta_0 + X_{jm,1}\\beta_1 + X_{jm,2}\\beta_2 - \\alpha_i p_{jm} + \\xi_{jm} + \\epsilon_{ijm}$"
   ]
  },
  {
   "cell_type": "code",
   "execution_count": 13,
   "id": "a27c6fe0",
   "metadata": {},
   "outputs": [
    {
     "data": {
      "text/plain": [
       "array([ 0.29067926,  0.67447026,  1.14528982, -0.72783084, -0.73554612])"
      ]
     },
     "execution_count": 13,
     "metadata": {},
     "output_type": "execute_result"
    }
   ],
   "source": [
    "xi3[4:9]"
   ]
  },
  {
   "cell_type": "code",
   "execution_count": 14,
   "id": "3148600d",
   "metadata": {},
   "outputs": [],
   "source": [
    "random.seed(3600021601)\n",
    "utilityMatrix = []\n",
    "taste_shocks3 = []\n",
    "for j in range(0,100):\n",
    "    initialJ = j*3\n",
    "    finalJ = (j+1)*3\n",
    "    for i in range(0,500):\n",
    "        #print(i)\n",
    "        initialI = i*3 \n",
    "        finalI = (i+1)*3\n",
    "        alpha = alphas3[j,i]\n",
    "        x0 = x1_3[initialJ:finalJ,0]\n",
    "        x1 = x1_3[initialJ:finalJ,1]\n",
    "        x2 = x1_3[initialJ:finalJ,2]\n",
    "        xi = xi3[initialJ:finalJ]\n",
    "        p1 = P_opt3[0,j]\n",
    "        p2 = P_opt3[1,j]\n",
    "        p3 = P_opt3[2,j]\n",
    "\n",
    "        epsilon1 = np.random.lognormal(0,1)\n",
    "        epsilon2 = np.random.lognormal(0,1)\n",
    "        epsilon3 = np.random.lognormal(0,1)         \n",
    "        \n",
    "        u0 = 0 \n",
    "        u1 = 5*x0[0] + x1[0] + x2[0] + xi[0] - alpha*p1 + epsilon1\n",
    "        u2 = 5*x0[1] + x1[1] + x2[1] + xi[1] - alpha*p2 + epsilon2\n",
    "        u3 = 5*x0[2] + x1[2] + x2[2] + xi[2] - alpha*p3 + epsilon3\n",
    "        \n",
    "        utilities = [u0,u1,u2,u3]\n",
    "        #prices = [0,p1,p2,p3]\n",
    "        #max_value = max(utilities)\n",
    "        #max_index = utilities.index(max_value)\n",
    "        #cs = utilities[max_index] - prices[max_index]\n",
    "        \n",
    "        utilityMatrix.append([u0,u1,u2,u3]) #,max_index,cs\n"
   ]
  },
  {
   "cell_type": "code",
   "execution_count": 15,
   "id": "b96b09e3",
   "metadata": {},
   "outputs": [
    {
     "name": "stderr",
     "output_type": "stream",
     "text": [
      "/tmp/ipykernel_262483/1031127564.py:3: FutureWarning: Dropping of nuisance columns in DataFrame reductions (with 'numeric_only=None') is deprecated; in a future version this will raise TypeError.  Select only valid columns before calling the reduction.\n",
      "  df_utilityMatrix3['utility'] = df_utilityMatrix3.max(axis=1)\n"
     ]
    }
   ],
   "source": [
    "df_utilityMatrix3 = pd.DataFrame(utilityMatrix, columns = ['u0','u1','u2', 'u3']) #,'choice','cs'\n",
    "df_utilityMatrix3['choice']=df_utilityMatrix3.idxmax(axis=1)\n",
    "df_utilityMatrix3['utility'] = df_utilityMatrix3.max(axis=1)\n"
   ]
  },
  {
   "cell_type": "code",
   "execution_count": 17,
   "id": "5ffbe2b2",
   "metadata": {},
   "outputs": [],
   "source": [
    "random.seed(3600021601)\n",
    "# Now for the 5 products\n",
    "utilityMatrix = []\n",
    "taste_shocks5 = []\n",
    "for j in range(0,100):\n",
    "    initialJ = j*5\n",
    "    finalJ = (j+1)*5\n",
    "    for i in range(0,500):\n",
    "        #print(i)\n",
    "        initialI = i*5 \n",
    "        finalI = (i+1)*5\n",
    "        alpha = alphas3[j,i]\n",
    "        x0 = x1_5[initialJ:finalJ,0]\n",
    "        x1 = x1_5[initialJ:finalJ,1]\n",
    "        x2 = x1_5[initialJ:finalJ,2]\n",
    "        x3 = x1_5[initialJ:finalJ,0]\n",
    "        x4 = x1_5[initialJ:finalJ,1]\n",
    "        xi = xi5[initialJ:finalJ]\n",
    "        p1 = P_opt5[0,j]\n",
    "        p2 = P_opt5[1,j]\n",
    "        p3 = P_opt5[2,j]\n",
    "        p4 = P_opt5[0,j]\n",
    "        p5 = P_opt5[1,j]\n",
    "\n",
    "        epsilon1 = np.random.lognormal(0,1)\n",
    "        epsilon2 = np.random.lognormal(0,1)\n",
    "        epsilon3 = np.random.lognormal(0,1) \n",
    "        epsilon4 = np.random.lognormal(0,1)\n",
    "        epsilon5 = np.random.lognormal(0,1)        \n",
    "        \n",
    "        u0 = 0 \n",
    "        u1 = 5*x0[0] + x1[0] + x2[0] + xi[0] - alpha*p1 + epsilon1\n",
    "        u2 = 5*x0[1] + x1[1] + x2[1] + xi[1] - alpha*p2 + epsilon2\n",
    "        u3 = 5*x0[2] + x1[2] + x2[2] + xi[2] - alpha*p3 + epsilon3\n",
    "        u4 = 5*x0[1] + x1[3] + x2[3] + xi[3] - alpha*p4 + epsilon4\n",
    "        u5 = 5*x0[2] + x1[4] + x2[4] + xi[4] - alpha*p5 + epsilon5\n",
    "        \n",
    "        utilities = [u0,u1,u2,u3,u4,u5]\n",
    "        #prices = [0,p1,p2,p3]\n",
    "        #max_value = max(utilities)\n",
    "        #max_index = utilities.index(max_value)\n",
    "        #cs = utilities[max_index] - prices[max_index]\n",
    "        \n",
    "        utilityMatrix.append(utilities) #,max_index,cs"
   ]
  },
  {
   "cell_type": "code",
   "execution_count": 18,
   "id": "64193119",
   "metadata": {},
   "outputs": [
    {
     "name": "stderr",
     "output_type": "stream",
     "text": [
      "/tmp/ipykernel_262483/3365749191.py:3: FutureWarning: Dropping of nuisance columns in DataFrame reductions (with 'numeric_only=None') is deprecated; in a future version this will raise TypeError.  Select only valid columns before calling the reduction.\n",
      "  df_utilityMatrix5['utility'] = df_utilityMatrix5.max(axis=1)\n"
     ]
    }
   ],
   "source": [
    "df_utilityMatrix5 = pd.DataFrame(utilityMatrix, columns = ['u0','u1','u2', 'u3','u4','u5']) #,'choice','cs'\n",
    "df_utilityMatrix5['choice']=df_utilityMatrix5.idxmax(axis=1)\n",
    "df_utilityMatrix5['utility'] = df_utilityMatrix5.max(axis=1)"
   ]
  },
  {
   "cell_type": "code",
   "execution_count": 19,
   "id": "f2c60f84",
   "metadata": {},
   "outputs": [
    {
     "data": {
      "text/plain": [
       "<matplotlib.legend.Legend at 0x2b18bd91a460>"
      ]
     },
     "execution_count": 19,
     "metadata": {},
     "output_type": "execute_result"
    },
    {
     "data": {
      "image/png": "[encoded data removed]",
      "text/plain": [
       "<Figure size 640x480 with 1 Axes>"
      ]
     },
     "metadata": {},
     "output_type": "display_data"
    }
   ],
   "source": [
    "# Compare CS\n",
    "fig, ax = plt.subplots()\n",
    "\n",
    "# the argument bins control the number of bins and their exact position \n",
    "# by default, matplotlib will use 10 equally-spaced bins\n",
    "ax.hist(df_utilityMatrix5[\"utility\"], bins = 15, ls='dotted', alpha = 0.5, lw=3, color= 'b', label='5 goods')\n",
    "ax.hist(df_utilityMatrix3[\"utility\"], bins = 15, ls='dotted', alpha = 0.5, lw=3, color= 'r', label='3 goods')\n",
    "#ax.set_title('Histogram for CS')\n",
    "ax.legend()"
   ]
  },
  {
   "cell_type": "markdown",
   "id": "7571ee22",
   "metadata": {},
   "source": [
    "# BLP and Hausman Instruments\n",
    "\n",
    "## 2.\n",
    "\n",
    "### 2.a)"
   ]
  },
  {
   "cell_type": "markdown",
   "id": "47e51c09",
   "metadata": {},
   "source": [
    "$E[\\xi_{jm}X_{jm}]$"
   ]
  },
  {
   "cell_type": "code",
   "execution_count": 20,
   "id": "855e254c",
   "metadata": {},
   "outputs": [
    {
     "data": {
      "text/plain": [
       "9.973446265023279"
      ]
     },
     "execution_count": 20,
     "metadata": {},
     "output_type": "execute_result"
    }
   ],
   "source": [
    "np.mean(np.matmul(np.transpose(xi3),x1_3), axis=0)"
   ]
  },
  {
   "cell_type": "markdown",
   "id": "8ef33263",
   "metadata": {},
   "source": [
    "$E[\\xi_{jm}p_{jm}]$"
   ]
  },
  {
   "cell_type": "code",
   "execution_count": 21,
   "id": "e4fc164d",
   "metadata": {},
   "outputs": [
    {
     "data": {
      "text/plain": [
       "88.48744114469186"
      ]
     },
     "execution_count": 21,
     "metadata": {},
     "output_type": "execute_result"
    }
   ],
   "source": [
    "np.matmul(np.transpose(prices_stacked3),xi3)"
   ]
  },
  {
   "cell_type": "markdown",
   "id": "aa985d0a",
   "metadata": {},
   "source": [
    "$E[\\xi_{jm}\\bar{p}_{jm}]$"
   ]
  },
  {
   "cell_type": "code",
   "execution_count": 22,
   "id": "7fe169ef",
   "metadata": {},
   "outputs": [],
   "source": [
    "hausman_vector = np.zeros(300)\n",
    "for i in range(0,300):\n",
    "    hausman_vector[i] = np.mean(np.delete(prices_stacked3, i))"
   ]
  },
  {
   "cell_type": "code",
   "execution_count": 23,
   "id": "1cfc12dc",
   "metadata": {},
   "outputs": [
    {
     "data": {
      "text/plain": [
       "0.1309903885348131"
      ]
     },
     "execution_count": 23,
     "metadata": {},
     "output_type": "execute_result"
    }
   ],
   "source": [
    "np.mean(hausman_vector*xi3)"
   ]
  },
  {
   "cell_type": "markdown",
   "id": "fa935124",
   "metadata": {},
   "source": [
    "$E[\\xi_{jm}Z_{jm}]$"
   ]
  },
  {
   "cell_type": "markdown",
   "id": "e59eface",
   "metadata": {},
   "source": [
    "### 2.b) \n",
    "\n",
    "Only the $E[\\xi_{jm}X_{jm}]$ moments seem to be (relatively) valid, since they are relatively small (<0.1). Both price moments give relatively large expected values, so they don't seem valid. "
   ]
  },
  {
   "cell_type": "markdown",
   "id": "1b70d577",
   "metadata": {},
   "source": [
    "### 2.c) \n",
    "\n",
    "It seems like the only reasonable instruments are the BLP ones, since its moment contition is close to zero. Hausman instruments give a high mean, so it's not OK to use them. "
   ]
  },
  {
   "cell_type": "markdown",
   "id": "a5545dc8",
   "metadata": {},
   "source": [
    "# 2.2) "
   ]
  },
  {
   "cell_type": "markdown",
   "id": "04008141",
   "metadata": {},
   "source": [
    "I think that the moments should be:\n",
    "\n",
    "$E[\\xi_{jm}f(Z_{jm})]=0$\n",
    "\n",
    "$E[\\xi_{jm}f(x_{jm})]=0$\n",
    "\n",
    "$E[\\xi_{jm}f(w)]=0$"
   ]
  },
  {
   "cell_type": "markdown",
   "id": "649c48a3",
   "metadata": {},
   "source": [
    "Note that, since we're using $X_{300\\times3}$, $Z_{300\\times1}$, and $W_{300\\times1}$ as instruments, we'll need to estimate $\\eta_{5\\times1}$ in the objective function. \n",
    "\n",
    "Moreover, we'll be estimating 306 parameters through this procedure:\n",
    "\n",
    "300 $\\delta$s\n",
    "\n",
    "5 $\\eta$s\n",
    "\n",
    "1 $\\sigma_{\\alpha}$\n",
    "\n",
    "I'll use W = I, at least for now"
   ]
  },
  {
   "cell_type": "code",
   "execution_count": 24,
   "id": "2194cc50",
   "metadata": {},
   "outputs": [],
   "source": [
    "## Create the instrument matrix\n",
    "\n",
    "BLP_IV_1 = BLP_IV_2 = []\n",
    "for i in range(0,300):\n",
    "    if i in range(0, 300, 3):\n",
    "        BLP_IV_1.append(x1_3[i+1,1] + x1_3[i+2,1])\n",
    "        \n",
    "    elif i in range(1, 300, 3):\n",
    "        BLP_IV_1.append(x1_3[i-1,1] + x1_3[i+1,1])\n",
    "        \n",
    "    elif i in range(2, 300, 3):\n",
    "        BLP_IV_1.append(x1_3[i-1,1] + x1_3[i-2,1])\n",
    "        \n",
    "\n",
    "BLP_IV_2 = []\n",
    "\n",
    "for i in range(0,300):\n",
    "    if i in range(0, 300, 3):\n",
    "        BLP_IV_2.append(x1_3[i+1,2] + x1_3[i+2,2])\n",
    "        \n",
    "    elif i in range(1, 300, 3):\n",
    "        BLP_IV_2.append(x1_3[i-1,2] + x1_3[i+1,2])\n",
    "        \n",
    "    elif i in range(2, 300, 3):\n",
    "        BLP_IV_2.append(x1_3[i-1,2] + x1_3[i-2,2])\n",
    "\n",
    "instrumentMatrix = np.concatenate((x1_3,np.array(BLP_IV_1).reshape(-1, 1),np.array(BLP_IV_2).reshape(-1, 1)),axis=1)\n",
    "endogenousMatrix = np.concatenate((x1_3,prices_stacked3.reshape(-1, 1)), axis=1)"
   ]
  },
  {
   "cell_type": "code",
   "execution_count": 62,
   "id": "732cb1da",
   "metadata": {},
   "outputs": [],
   "source": [
    "random.seed(3600021601)\n",
    "R = 500\n",
    "tasteShocks = np.random.lognormal(0,1,[100,R])\n",
    "params = np.ones(306)"
   ]
  },
  {
   "cell_type": "code",
   "execution_count": 26,
   "id": "58776bda",
   "metadata": {},
   "outputs": [],
   "source": [
    "def objFunction(params):\n",
    "    delta = params[0:300]\n",
    "    eta = params[300:305]\n",
    "    sigma = params[305]\n",
    "    \n",
    "    value = np.matmul(np.transpose(eta),eta)\n",
    "    \n",
    "    return(value)"
   ]
  },
  {
   "cell_type": "markdown",
   "id": "4c34aa5c",
   "metadata": {},
   "source": [
    "### Constraints:\n",
    "\n",
    "We will have 305 constraints as well. One for each $s_{jm}$ (there are 300 of them ), one for each $\\eta$ (5 of them) "
   ]
  },
  {
   "cell_type": "code",
   "execution_count": 27,
   "id": "e990d9da",
   "metadata": {},
   "outputs": [
    {
     "data": {
      "text/plain": [
       "(300,)"
      ]
     },
     "execution_count": 27,
     "metadata": {},
     "output_type": "execute_result"
    }
   ],
   "source": [
    "## Start with shares constraints\n",
    "\n",
    "def sharesConstraints(params):\n",
    "    deltaVector = params[0:300]\n",
    "    etaVector = params[300:305]\n",
    "    sigma = params[305]\n",
    "    shares = []\n",
    "\n",
    "    for j in range(0,300):\n",
    "        if j%3==0:\n",
    "            market = math.floor(j/3)\n",
    "            marketShocks = tasteShocks[market,:]\n",
    "            prices = P_opt3[:,market]\n",
    "            delta1mu = deltaVector[j]-sigma*marketShocks*prices[0]\n",
    "            delta2mu = deltaVector[j+1]-sigma*marketShocks*prices[1]\n",
    "            delta3mu = deltaVector[j+2]-sigma*marketShocks*prices[2]\n",
    "\n",
    "            maxDeltaMu = np.max(np.array([delta1mu,delta2mu,delta3mu]))\n",
    "\n",
    "            exp_deltaMu1 = np.exp(delta1mu -maxDeltaMu)\n",
    "            exp_deltaMu2 = np.exp(delta2mu -maxDeltaMu)\n",
    "            exp_deltaMu3 = np.exp(delta3mu -maxDeltaMu)\n",
    "            sumExp = exp_deltaMu1 + exp_deltaMu2 + exp_deltaMu3 + np.exp(-maxDeltaMu)\n",
    "            exp_deltaMu1_divided = exp_deltaMu1/sumExp\n",
    "            exp_deltaMu2_divided = exp_deltaMu2/sumExp\n",
    "            exp_deltaMu3_divided = exp_deltaMu3/sumExp\n",
    "\n",
    "            shares.append((exp_deltaMu1_divided).sum()/R)\n",
    "            shares.append((exp_deltaMu2_divided).sum()/R)\n",
    "            shares.append((exp_deltaMu3_divided).sum()/R)\n",
    "\n",
    "    sharesDif = shares_stacked3-shares\n",
    "    return(sharesDif)\n",
    "\n",
    "sharesConstraints(params).shape        "
   ]
  },
  {
   "cell_type": "code",
   "execution_count": 28,
   "id": "28ea9f81",
   "metadata": {},
   "outputs": [],
   "source": [
    "# Eta constraints\n",
    "def etaConstraints(params):\n",
    "    deltaVector = params[0:300]\n",
    "    etaVector = params[300:305]\n",
    "    sigma = params[305]\n",
    "\n",
    "    P_matrix = np.matmul(np.matmul(instrumentMatrix,np.linalg.inv(np.matmul(np.transpose(instrumentMatrix),instrumentMatrix))),np.transpose(instrumentMatrix))\n",
    "    xi_hat = np.matmul(np.ones([300,300])-np.matmul(np.matmul(endogenousMatrix,np.linalg.inv(np.matmul(np.matmul(np.transpose(endogenousMatrix),P_matrix),endogenousMatrix))),np.matmul(np.transpose(endogenousMatrix),P_matrix)),deltaVector)\n",
    "\n",
    "    moment = np.matmul(np.transpose(instrumentMatrix),xi_hat)/300\n",
    "    \n",
    "    constraint = etaVector - moment\n",
    "    \n",
    "    return(constraint)"
   ]
  },
  {
   "cell_type": "code",
   "execution_count": 29,
   "id": "4a3f1c71",
   "metadata": {},
   "outputs": [],
   "source": [
    "def allConstraints(params):\n",
    "    shares = sharesConstraints(params)\n",
    "    etas   = etaConstraints(params)\n",
    "    return np.concatenate((shares,etas), axis=0)"
   ]
  },
  {
   "cell_type": "code",
   "execution_count": 30,
   "id": "ef4c6abd",
   "metadata": {},
   "outputs": [],
   "source": [
    "solution = scipy.optimize.minimize(objFunction, np.ones(306), constraints=({'type': 'eq', 'fun': allConstraints}))\n"
   ]
  },
  {
   "cell_type": "code",
   "execution_count": 32,
   "id": "8d00a590",
   "metadata": {},
   "outputs": [
    {
     "data": {
      "text/plain": [
       "'Optimization terminated successfully'"
      ]
     },
     "execution_count": 32,
     "metadata": {},
     "output_type": "execute_result"
    }
   ],
   "source": [
    "solution.message"
   ]
  },
  {
   "cell_type": "code",
   "execution_count": 33,
   "id": "f2556d76",
   "metadata": {},
   "outputs": [
    {
     "data": {
      "text/plain": [
       "array([[-0.2865082 ],\n",
       "       [-0.04866573],\n",
       "       [ 0.66516067],\n",
       "       [ 0.09211275]])"
      ]
     },
     "execution_count": 33,
     "metadata": {},
     "output_type": "execute_result"
    }
   ],
   "source": [
    "# Now, from the minimizer I have param = (deltas, etas, sigma) \n",
    "# Back up Alpha and Betas \n",
    "delta_hat = solution.x[:300] # 300*1 vector\n",
    "eta_hat = solution.x[300:305] # 5*1 vector\n",
    "sigma_hat = solution.x[-1] # 1*1 vector\n",
    "delta_hat = np.array([delta_hat])\n",
    "\n",
    "P_matrix = np.matmul(np.matmul(instrumentMatrix,np.linalg.inv(np.matmul(np.transpose(instrumentMatrix),instrumentMatrix))),np.transpose(instrumentMatrix))\n",
    "XPz = np.matmul(P_matrix, endogenousMatrix)\n",
    "XPzX = np.matmul(endogenousMatrix.transpose(),XPz)\n",
    "XPzX_inv = np.linalg.inv(XPzX)\n",
    "\n",
    "XPzdelta = np.matmul(delta_hat,XPz)\n",
    "\n",
    "# So, these are my alphas and betas (beta1, beta2, beta3)\n",
    "\n",
    "alpha_beta_orig = np.matmul(XPzX_inv,XPzdelta.transpose()) # A 4*1 vector with alpha, beta_0, beta_1, beta_2 \n",
    "alpha_beta_orig"
   ]
  },
  {
   "cell_type": "markdown",
   "id": "e167157a",
   "metadata": {},
   "source": [
    "## Time to code gradients and fun derivative matrices"
   ]
  },
  {
   "cell_type": "code",
   "execution_count": 34,
   "id": "27e59120",
   "metadata": {},
   "outputs": [],
   "source": [
    "def gradient(params):\n",
    "    deltaVector = params[0:300]\n",
    "    etaVector = params[300:305]\n",
    "    sigma = params[305]\n",
    "    shares = []\n",
    "    \n",
    "    gradient = np.zeros(len(params))\n",
    "    gradient[300:305] = 2*etaVector\n",
    "    \n",
    "    return(gradient)\n",
    "    \n",
    "    "
   ]
  },
  {
   "cell_type": "code",
   "execution_count": 35,
   "id": "91799701",
   "metadata": {},
   "outputs": [],
   "source": [
    "## Start with shares constraints\n",
    "\n",
    "def jacobianShares(params):\n",
    "    deltaVector = params[0:300]\n",
    "    etaVector = params[300:305]\n",
    "    sigma = params[305]\n",
    "    jacobianMatrix = np.zeros([len(deltaVector),306])\n",
    "\n",
    "    for j in range(0,300):   \n",
    "        if j%3==0:\n",
    "            market = math.floor(j/3)\n",
    "            marketShocks = tasteShocks[market,:]\n",
    "            prices = P_opt3[:,market]\n",
    "            delta1mu = deltaVector[j]-sigma*marketShocks*prices[0]\n",
    "            delta2mu = deltaVector[j+1]-sigma*marketShocks*prices[1]\n",
    "            delta3mu = deltaVector[j+2]-sigma*marketShocks*prices[2]\n",
    "\n",
    "            maxDeltaMu = np.max(np.array([delta1mu,delta2mu,delta3mu]))\n",
    "\n",
    "            exp_deltaMu1 = np.exp(delta1mu -maxDeltaMu)\n",
    "            exp_deltaMu2 = np.exp(delta2mu -maxDeltaMu)\n",
    "            exp_deltaMu3 = np.exp(delta3mu -maxDeltaMu)\n",
    "            sumExp = exp_deltaMu1 + exp_deltaMu2 + exp_deltaMu3 + np.exp(-maxDeltaMu)\n",
    "            exp_deltaMu1_divided = exp_deltaMu1/sumExp\n",
    "            exp_deltaMu2_divided = exp_deltaMu2/sumExp\n",
    "            exp_deltaMu3_divided = exp_deltaMu3/sumExp\n",
    "            sumexp_deltaMu_divided = exp_deltaMu1_divided*prices[0] + exp_deltaMu2_divided*prices[1] + exp_deltaMu3_divided*prices[2]\n",
    "\n",
    "            one1 = (exp_deltaMu1_divided*(1-exp_deltaMu1_divided)).sum()/R\n",
    "            one2 = -(exp_deltaMu1_divided*exp_deltaMu2_divided).sum()/R\n",
    "            one3 = -(exp_deltaMu1_divided*exp_deltaMu3_divided).sum()/R\n",
    "            oneSigma = ((exp_deltaMu1_divided*(prices[0]-sumexp_deltaMu_divided))*marketShocks).sum()/R\n",
    "            \n",
    "            two1 = -(exp_deltaMu2_divided*exp_deltaMu1_divided).sum()/R\n",
    "            two2 = (exp_deltaMu2_divided*(1-exp_deltaMu2_divided)).sum()/R\n",
    "            two3 = -(exp_deltaMu2_divided*exp_deltaMu3_divided).sum()/R\n",
    "            twoSigma = ((exp_deltaMu2_divided*(prices[1]-sumexp_deltaMu_divided))*marketShocks).sum()/R \n",
    "            \n",
    "            three1 = -(exp_deltaMu3_divided*exp_deltaMu1_divided).sum()/R\n",
    "            three2 = -(exp_deltaMu3_divided*exp_deltaMu2_divided).sum()/R\n",
    "            three3 = (exp_deltaMu3_divided*(1-exp_deltaMu3_divided)).sum()/R\n",
    "            threeSigma = ((exp_deltaMu3_divided*(prices[2]-sumexp_deltaMu_divided))*marketShocks).sum()/R\n",
    "            \n",
    "\n",
    "            jacobianMatrix[j,j:j+3] = [one1, one2, one3]\n",
    "            jacobianMatrix[j,300:] = np.append(np.zeros(5),oneSigma)\n",
    "            \n",
    "            jacobianMatrix[j+1,j:j+3]= [two1, two2, two3]\n",
    "            jacobianMatrix[j+1,300:] = np.append(np.zeros(5),twoSigma)\n",
    "            \n",
    "            jacobianMatrix[j+2,j:j+3] = [three1,three2,three3]\n",
    "            jacobianMatrix[j+2,300:] = np.append(np.zeros(5),threeSigma)\n",
    "            \n",
    "    return(jacobianMatrix)"
   ]
  },
  {
   "cell_type": "code",
   "execution_count": 36,
   "id": "d4946ed7",
   "metadata": {},
   "outputs": [
    {
     "data": {
      "text/plain": [
       "(5, 306)"
      ]
     },
     "execution_count": 36,
     "metadata": {},
     "output_type": "execute_result"
    }
   ],
   "source": [
    "def jacobianEtas(params):\n",
    "    deltaVector = params[0:300]\n",
    "    etaVector = params[300:305]\n",
    "    sigma = params[305]\n",
    "    jacobianMatrix = np.zeros([len(etaVector),306])\n",
    "\n",
    "    P_matrix = np.matmul(np.matmul(instrumentMatrix,np.linalg.inv(np.matmul(np.transpose(instrumentMatrix),instrumentMatrix))),np.transpose(instrumentMatrix))\n",
    "    A = np.ones([300,300])-np.matmul(np.matmul(endogenousMatrix,np.linalg.inv(np.matmul(np.matmul(np.transpose(endogenousMatrix),P_matrix),endogenousMatrix))),np.matmul(np.transpose(endogenousMatrix),P_matrix))    \n",
    "\n",
    "    deltasMatrix = np.transpose(np.matmul(A,instrumentMatrix))/300\n",
    "    jacobianMatrix[:,0:300] = deltasMatrix\n",
    "    jacobianMatrix[:,300:305] = -np.ones([5,5])\n",
    "    jacobianMatrix[:,305] = np.zeros(5)\n",
    "    \n",
    "    return(jacobianMatrix)\n",
    "    \n",
    "jacobianEtas(params).shape"
   ]
  },
  {
   "cell_type": "code",
   "execution_count": 37,
   "id": "c8a97add",
   "metadata": {},
   "outputs": [
    {
     "data": {
      "text/plain": [
       "(305, 306)"
      ]
     },
     "execution_count": 37,
     "metadata": {},
     "output_type": "execute_result"
    }
   ],
   "source": [
    "# Function that gathers all the jacobians\n",
    "def ultimateJacobian(params):\n",
    "    jacobianMatrix = np.zeros([305,306])\n",
    "    \n",
    "    jacobianMatrix[0:300,:] = jacobianShares(params)\n",
    "    jacobianMatrix[300:,:] = jacobianEtas(params)\n",
    "    \n",
    "    return(jacobianMatrix)\n",
    "ultimateJacobian(params).shape"
   ]
  },
  {
   "cell_type": "code",
   "execution_count": 38,
   "id": "31263c64",
   "metadata": {},
   "outputs": [],
   "source": [
    "solution2 = scipy.optimize.minimize(objFunction, np.ones(306)*0.2, jac = gradient, constraints=({'type': 'eq', 'fun': allConstraints, 'jac':ultimateJacobian}))#\n"
   ]
  },
  {
   "cell_type": "code",
   "execution_count": 39,
   "id": "0a67b1d4",
   "metadata": {},
   "outputs": [
    {
     "data": {
      "text/plain": [
       "'Singular matrix C in LSQ subproblem'"
      ]
     },
     "execution_count": 39,
     "metadata": {},
     "output_type": "execute_result"
    }
   ],
   "source": [
    "solution2.message\n",
    "# Didn't work :("
   ]
  },
  {
   "cell_type": "markdown",
   "id": "b1bc0aa0",
   "metadata": {},
   "source": [
    "### Compare different initial conditions"
   ]
  },
  {
   "cell_type": "code",
   "execution_count": 40,
   "id": "f47350d7",
   "metadata": {},
   "outputs": [
    {
     "data": {
      "text/plain": [
       "array([[-0.2865082 ],\n",
       "       [-0.04866573],\n",
       "       [ 0.66516067],\n",
       "       [ 0.09211275]])"
      ]
     },
     "execution_count": 40,
     "metadata": {},
     "output_type": "execute_result"
    }
   ],
   "source": [
    "solutino_initial1 = scipy.optimize.minimize(objFunction, np.ones(306), jac = gradient, constraints=({'type': 'eq', 'fun': allConstraints}))#, 'jac':ultimateJacobian\n",
    "delta_hat = solutino_initial1.x[:300] # 300*1 vector\n",
    "eta_hat = solutino_initial1.x[300:305] # 5*1 vector\n",
    "sigma_hat = solution.x[-1] # 1*1 vector\n",
    "delta_hat = np.array([delta_hat])\n",
    "\n",
    "XPz = np.matmul(P_matrix, endogenousMatrix)\n",
    "XPzX = np.matmul(endogenousMatrix.transpose(),XPz)\n",
    "XPzX_inv = np.linalg.inv(XPzX)\n",
    "\n",
    "XPzdelta = np.matmul(delta_hat,XPz)\n",
    "\n",
    "# So, these are my alphas and betas (beta1, beta2, beta3)\n",
    "\n",
    "alpha_beta = np.matmul(XPzX_inv,XPzdelta.transpose()) # A 4*1 vector with alpha, beta_0, beta_1, beta_2 \n",
    "alpha_beta"
   ]
  },
  {
   "cell_type": "code",
   "execution_count": 41,
   "id": "65f7c83d",
   "metadata": {},
   "outputs": [
    {
     "data": {
      "text/plain": [
       "array([[-0.28650757],\n",
       "       [-0.04866562],\n",
       "       [ 0.66516071],\n",
       "       [ 0.09211265]])"
      ]
     },
     "execution_count": 41,
     "metadata": {},
     "output_type": "execute_result"
    }
   ],
   "source": [
    "solution_initial0 = scipy.optimize.minimize(objFunction, np.zeros(306), jac = gradient, constraints=({'type': 'eq', 'fun': allConstraints}))#, 'jac':ultimateJacobian\n",
    "delta_hat = solution_initial0.x[:300] # 300*1 vector\n",
    "eta_hat = solution_initial0.x[300:305] # 5*1 vector\n",
    "sigma_hat = solution.x[-1] # 1*1 vector\n",
    "delta_hat = np.array([delta_hat])\n",
    "\n",
    "XPz = np.matmul(P_matrix, endogenousMatrix)\n",
    "XPzX = np.matmul(endogenousMatrix.transpose(),XPz)\n",
    "XPzX_inv = np.linalg.inv(XPzX)\n",
    "\n",
    "XPzdelta = np.matmul(delta_hat,XPz)\n",
    "\n",
    "# So, these are my alphas and betas (beta1, beta2, beta3)\n",
    "\n",
    "alpha_beta = np.matmul(XPzX_inv,XPzdelta.transpose()) # A 4*1 vector with alpha, beta_0, beta_1, beta_2 \n",
    "alpha_beta"
   ]
  },
  {
   "cell_type": "code",
   "execution_count": 42,
   "id": "080272fa",
   "metadata": {},
   "outputs": [
    {
     "data": {
      "text/plain": [
       "array([[-0.28650757],\n",
       "       [-0.04866562],\n",
       "       [ 0.66516071],\n",
       "       [ 0.09211265]])"
      ]
     },
     "execution_count": 42,
     "metadata": {},
     "output_type": "execute_result"
    }
   ],
   "source": [
    "random.seed(3600021601)\n",
    "solution_random = scipy.optimize.minimize(objFunction, np.random.rand(306), jac = gradient, constraints=({'type': 'eq', 'fun': allConstraints}))#, 'jac':ultimateJacobian\n",
    "delta_hat = solution_initial0.x[:300] # 300*1 vector\n",
    "eta_hat = solution_initial0.x[300:305] # 5*1 vector\n",
    "sigma_hat = solution.x[-1] # 1*1 vector\n",
    "delta_hat = np.array([delta_hat])\n",
    "\n",
    "XPz = np.matmul(P_matrix, endogenousMatrix)\n",
    "XPzX = np.matmul(endogenousMatrix.transpose(),XPz)\n",
    "XPzX_inv = np.linalg.inv(XPzX)\n",
    "\n",
    "XPzdelta = np.matmul(delta_hat,XPz)\n",
    "\n",
    "# So, these are my alphas and betas (beta1, beta2, beta3)\n",
    "\n",
    "alpha_beta = np.matmul(XPzX_inv,XPzdelta.transpose()) # A 4*1 vector with alpha, beta_0, beta_1, beta_2 \n",
    "alpha_beta"
   ]
  },
  {
   "cell_type": "code",
   "execution_count": 43,
   "id": "83ab6c14",
   "metadata": {},
   "outputs": [],
   "source": [
    "# Bootrstrapping to get SE\n",
    "num_iter = 1000\n",
    "alpha = []\n",
    "beta_0 = []\n",
    "beta_1 = []\n",
    "beta_2 = []\n",
    "\n",
    "random.seed(3600021601)\n",
    "for i in range(num_iter):\n",
    "    #print(i)\n",
    "    df_sample = resample(df3,replace=True, n_samples=len(df3)).reset_index(drop = True)\n",
    "\n",
    "    X2 = df_sample['x1'].tolist()\n",
    "    X3 = df_sample['x2'].tolist()\n",
    "\n",
    "    BLP_IV_1 = BLP_IV_2 = []\n",
    "    for i in range(0,300):\n",
    "        if i in range(0, 300, 3):\n",
    "            BLP_IV_1.append(X2[i+1] + X2[i+2])\n",
    "\n",
    "        elif i in range(1, 300, 3):\n",
    "            BLP_IV_1.append(X2[i-1] + X2[i+1])\n",
    "\n",
    "        elif i in range(2, 300, 3):\n",
    "            BLP_IV_1.append(X2[i-1] + X2[i-2])\n",
    "\n",
    "\n",
    "    BLP_IV_2 = []\n",
    "\n",
    "    for i in range(0,300):\n",
    "        if i in range(0, 300, 3):\n",
    "            BLP_IV_2.append(X3[i+1] + X3[i+2])\n",
    "\n",
    "        elif i in range(1, 300, 3):\n",
    "            BLP_IV_2.append(X3[i-1] + X3[i+1])\n",
    "\n",
    "        elif i in range(2, 300, 3):\n",
    "            BLP_IV_2.append(X3[i-1] + X3[i-2])\n",
    "\n",
    "    BLP_IV_1 = np.array(BLP_IV_1).reshape(-1,1)\n",
    "    BLP_IV_2 = np.array(BLP_IV_2).reshape(-1,1)\n",
    "    X1 = np.array(df_sample['x0'].tolist()).reshape(-1,1)\n",
    "    X2 = np.array(X2).reshape(-1,1)\n",
    "    X3 = np.array(X3).reshape(-1,1)\n",
    "    prices = np.array(df_sample['price'].tolist()).reshape(-1,1)\n",
    "    instrumentMatrix = np.concatenate((X1, X2, X3, BLP_IV_1, BLP_IV_2),axis=1)\n",
    "    endogenousMatrix = np.concatenate((X1, X2, X3,prices),axis=1)\n",
    "    \n",
    "    solution_iter = scipy.optimize.minimize(objFunction, np.ones(306), constraints=({'type': 'eq', 'fun': allConstraints}))\n",
    "    delta_hat = solution_iter.x[:300] # 300*1 vector\n",
    "    eta_hat = solution_iter.x[300:305] # 5*1 vector\n",
    "    sigma_hat = solution_iter.x[-1] # 1*1 vector\n",
    "    delta_hat = np.array([delta_hat])\n",
    "    P_matrix = np.matmul(np.matmul(instrumentMatrix,np.linalg.inv(np.matmul(np.transpose(instrumentMatrix),instrumentMatrix))),np.transpose(instrumentMatrix))\n",
    "    \n",
    "    XPz = np.matmul(P_matrix, endogenousMatrix)\n",
    "    XPzX = np.matmul(endogenousMatrix.transpose(),XPz)\n",
    "    XPzX_inv = np.linalg.inv(XPzX)\n",
    "\n",
    "    XPzdelta = np.matmul(delta_hat,XPz)\n",
    "    \n",
    "    alpha_beta_iter = np.matmul(XPzX_inv,XPzdelta.transpose()) # A 4*1 vector with beta_0, beta_1, beta_2, alpha\n",
    "    \n",
    "    beta_0.append(alpha_beta_iter[0][0])\n",
    "    beta_1.append(alpha_beta_iter[1][0])\n",
    "    beta_2.append(alpha_beta_iter[2][0])\n",
    "    alpha.append(alpha_beta_iter[3][0])"
   ]
  },
  {
   "cell_type": "code",
   "execution_count": 44,
   "id": "fc3e1101",
   "metadata": {},
   "outputs": [],
   "source": [
    "se_b_0 = stdev(beta_0)\n",
    "se_b_1 = stdev(beta_1)\n",
    "se_b_2 = stdev(beta_2)\n",
    "se_a = stdev(alpha)"
   ]
  },
  {
   "cell_type": "code",
   "execution_count": 45,
   "id": "6ac88318",
   "metadata": {},
   "outputs": [
    {
     "name": "stdout",
     "output_type": "stream",
     "text": [
      "alpha: [0.09211275] with s.e. 2.4076237139327077\n",
      "beta 0: [-0.2865082] with s.e. 6.578672093598431\n",
      "beta 1: [-0.04866573] with s.e. 1.5750850934778309\n",
      "beta 2: [0.66516067] with s.e. 0.29404033248019334\n"
     ]
    }
   ],
   "source": [
    "print(f'alpha: {alpha_beta_orig[3]} with s.e. {se_a}')\n",
    "print(f'beta 0: {alpha_beta_orig[0]} with s.e. {se_b_0}')\n",
    "print(f'beta 1: {alpha_beta_orig[1]} with s.e. {se_b_1}')\n",
    "print(f'beta 2: {alpha_beta_orig[2]} with s.e. {se_b_2}')\n"
   ]
  },
  {
   "cell_type": "markdown",
   "id": "b5d527c7",
   "metadata": {},
   "source": [
    "## Now I do it with the 10 markets"
   ]
  },
  {
   "cell_type": "code",
   "execution_count": 46,
   "id": "06a042ec",
   "metadata": {},
   "outputs": [],
   "source": [
    "# Now the 10M products data\n",
    "mat10M = scipy.io.loadmat('../inp/10markets3products.mat')  # load mat10M-file\n",
    "eta10M = mat10M['eta'] # Simulated unobserved error\n",
    "alphas10M = mat10M['alphas'] # Simulated alphas\n",
    "P_opt10M = mat10M['P_opt']\n",
    "shares10M = mat10M['shares']\n",
    "w10M = mat10M['w']\n",
    "x1_10M = mat10M['x1']\n",
    "xi10M = mat10M['xi_all'].flatten(\"F\")\n",
    "Z10M = mat10M['Z']\n",
    "prices_stacked10M = P_opt10M.flatten(\"F\")\n",
    "shares_stacked10M = shares10M.flatten(\"F\")\n",
    "\n",
    "#Create a df with product characteristics\n",
    "df10M = pd.DataFrame(x1_10M, columns = ['x0','x1','x2'])\n",
    "df10M['price'] = prices_stacked10M\n",
    "df10M['share'] = shares_stacked10M\n",
    "df10M['eta'] = eta10M\n",
    "df10M['w'] = w10M\n",
    "df10M['Z'] = Z10M"
   ]
  },
  {
   "cell_type": "code",
   "execution_count": 47,
   "id": "c10e9deb",
   "metadata": {},
   "outputs": [],
   "source": [
    "## Let's create the instrument matrix\n",
    "\n",
    "BLP_IV_1 = BLP_IV_2 = []\n",
    "for i in range(0,30):\n",
    "    if i in range(0, 30, 3):\n",
    "        BLP_IV_1.append(x1_10M[i+1,1] + x1_10M[i+2,1])\n",
    "        \n",
    "    elif i in range(1, 300, 3):\n",
    "        BLP_IV_1.append(x1_10M[i-1,1] + x1_10M[i+1,1])\n",
    "        \n",
    "    elif i in range(2, 300, 3):\n",
    "        BLP_IV_1.append(x1_10M[i-1,1] + x1_10M[i-2,1])\n",
    "        \n",
    "\n",
    "BLP_IV_2 = []\n",
    "\n",
    "for i in range(0,30):\n",
    "    if i in range(0, 30, 3):\n",
    "        BLP_IV_2.append(x1_10M[i+1,2] + x1_10M[i+2,2])\n",
    "        \n",
    "    elif i in range(1, 30, 3):\n",
    "        BLP_IV_2.append(x1_10M[i-1,2] + x1_10M[i+1,2])\n",
    "        \n",
    "    elif i in range(2, 30, 3):\n",
    "        BLP_IV_2.append(x1_10M[i-1,2] + x1_10M[i-2,2])\n",
    "\n",
    "instrumentMatrix = np.concatenate((x1_10M,np.array(BLP_IV_1).reshape(-1, 1),np.array(BLP_IV_2).reshape(-1, 1)),axis=1)\n",
    "endogenousMatrix = np.concatenate((x1_10M,prices_stacked10M.reshape(-1, 1)), axis=1)"
   ]
  },
  {
   "cell_type": "code",
   "execution_count": 48,
   "id": "a9adf57b",
   "metadata": {},
   "outputs": [],
   "source": [
    "random.seed(3600021601)\n",
    "R = 500\n",
    "tasteShocks = np.random.lognormal(0,1,[10,R])\n",
    "params = np.ones(306)"
   ]
  },
  {
   "cell_type": "markdown",
   "id": "78bb847f",
   "metadata": {},
   "source": [
    "# 2.3)"
   ]
  },
  {
   "cell_type": "code",
   "execution_count": 49,
   "id": "7ac62880",
   "metadata": {},
   "outputs": [],
   "source": [
    "def objFunction(params):\n",
    "    delta = params[0:30]\n",
    "    eta = params[30:35]\n",
    "    sigma = params[35]\n",
    "    \n",
    "    value = np.matmul(np.transpose(eta),eta)\n",
    "    \n",
    "    return(value)"
   ]
  },
  {
   "cell_type": "code",
   "execution_count": 50,
   "id": "661d2c28",
   "metadata": {},
   "outputs": [
    {
     "data": {
      "text/plain": [
       "(30,)"
      ]
     },
     "execution_count": 50,
     "metadata": {},
     "output_type": "execute_result"
    }
   ],
   "source": [
    "## Start with shares constraints\n",
    "\n",
    "def sharesConstraints(params):\n",
    "    deltaVector = params[0:30]\n",
    "    etaVector = params[30:35]\n",
    "    sigma = params[35]\n",
    "    shares = []\n",
    "\n",
    "    for j in range(0,30):\n",
    "        if j%3==0:\n",
    "            market = math.floor(j/3)\n",
    "            marketShocks = tasteShocks[market,:]\n",
    "            prices = P_opt3[:,market]\n",
    "            delta1mu = deltaVector[j]-sigma*marketShocks*prices[0]\n",
    "            delta2mu = deltaVector[j+1]-sigma*marketShocks*prices[1]\n",
    "            delta3mu = deltaVector[j+2]-sigma*marketShocks*prices[2]\n",
    "\n",
    "            maxDeltaMu = np.max(np.array([delta1mu,delta2mu,delta3mu]))\n",
    "\n",
    "            exp_deltaMu1 = np.exp(delta1mu -maxDeltaMu)\n",
    "            exp_deltaMu2 = np.exp(delta2mu -maxDeltaMu)\n",
    "            exp_deltaMu3 = np.exp(delta3mu -maxDeltaMu)\n",
    "            sumExp = exp_deltaMu1 + exp_deltaMu2 + exp_deltaMu3 + np.exp(-maxDeltaMu)\n",
    "            exp_deltaMu1_divided = exp_deltaMu1/sumExp\n",
    "            exp_deltaMu2_divided = exp_deltaMu2/sumExp\n",
    "            exp_deltaMu3_divided = exp_deltaMu3/sumExp\n",
    "\n",
    "            shares.append((exp_deltaMu1_divided).sum()/R)\n",
    "            shares.append((exp_deltaMu2_divided).sum()/R)\n",
    "            shares.append((exp_deltaMu3_divided).sum()/R)\n",
    "\n",
    "    sharesDif = shares_stacked10M-shares\n",
    "    return(sharesDif)\n",
    "\n",
    "sharesConstraints(params).shape        "
   ]
  },
  {
   "cell_type": "code",
   "execution_count": 51,
   "id": "bc56abe2",
   "metadata": {},
   "outputs": [],
   "source": [
    "# Eta constraints\n",
    "def etaConstraints(params):\n",
    "    deltaVector = params[0:30]\n",
    "    etaVector = params[30:35]\n",
    "    sigma = params[35]\n",
    "\n",
    "    P_matrix = np.matmul(np.matmul(instrumentMatrix,np.linalg.inv(np.matmul(np.transpose(instrumentMatrix),instrumentMatrix))),np.transpose(instrumentMatrix))\n",
    "    xi_hat = np.matmul(np.ones([30,30])-np.matmul(np.matmul(endogenousMatrix,np.linalg.inv(np.matmul(np.matmul(np.transpose(endogenousMatrix),P_matrix),endogenousMatrix))),np.matmul(np.transpose(endogenousMatrix),P_matrix)),deltaVector)\n",
    "\n",
    "    moment = np.matmul(np.transpose(instrumentMatrix),xi_hat)/30\n",
    "    \n",
    "    constraint = etaVector - moment\n",
    "    \n",
    "    return(constraint)"
   ]
  },
  {
   "cell_type": "code",
   "execution_count": 52,
   "id": "6b40c117",
   "metadata": {},
   "outputs": [],
   "source": [
    "def allConstraints(params):\n",
    "    shares = sharesConstraints(params)\n",
    "    etas   = etaConstraints(params)\n",
    "    return np.concatenate((shares,etas), axis=0)"
   ]
  },
  {
   "cell_type": "code",
   "execution_count": 53,
   "id": "1f43e2b6",
   "metadata": {},
   "outputs": [
    {
     "data": {
      "text/plain": [
       "'Optimization terminated successfully'"
      ]
     },
     "execution_count": 53,
     "metadata": {},
     "output_type": "execute_result"
    }
   ],
   "source": [
    "solution_10M = scipy.optimize.minimize(objFunction, np.ones(36), constraints=({'type': 'eq', 'fun': allConstraints}))\n",
    "solution_10M.message"
   ]
  },
  {
   "cell_type": "code",
   "execution_count": 54,
   "id": "a7ccb9ab",
   "metadata": {},
   "outputs": [
    {
     "data": {
      "text/plain": [
       "array([[ 3.07060276],\n",
       "       [ 0.48179576],\n",
       "       [ 1.26928295],\n",
       "       [-1.39772607]])"
      ]
     },
     "execution_count": 54,
     "metadata": {},
     "output_type": "execute_result"
    }
   ],
   "source": [
    "# Now, from the minimizer I have param = (deltas, etas, sigma) \n",
    "# I can then finally back up Alpha and Betas \n",
    "delta_hat_10M = solution_10M.x[:30] # 300*1 vector\n",
    "eta_hat_10M = solution_10M.x[30:35] # 5*1 vector\n",
    "sigma_hat_10M = solution_10M.x[-1] # 1*1 vector\n",
    "delta_hat_10M = np.array([delta_hat_10M])\n",
    "\n",
    "P_matrix = np.matmul(np.matmul(instrumentMatrix,np.linalg.inv(np.matmul(np.transpose(instrumentMatrix),instrumentMatrix))),np.transpose(instrumentMatrix))\n",
    "XPz = np.matmul(P_matrix, endogenousMatrix)\n",
    "XPzX = np.matmul(endogenousMatrix.transpose(),XPz)\n",
    "XPzX_inv = np.linalg.inv(XPzX)\n",
    "\n",
    "XPzdelta = np.matmul(delta_hat_10M,XPz)\n",
    "\n",
    "# So, these are my alphas and betas (beta1, beta2, beta3)\n",
    "\n",
    "alpha_beta_10M = np.matmul(XPzX_inv,XPzdelta.transpose()) # A 4*1 vector with alpha, beta_0, beta_1, beta_2 \n",
    "alpha_beta_10M"
   ]
  },
  {
   "cell_type": "code",
   "execution_count": 57,
   "id": "5d62c385",
   "metadata": {},
   "outputs": [
    {
     "name": "stderr",
     "output_type": "stream",
     "text": [
      "/tmp/ipykernel_262483/151684854.py:23: RuntimeWarning: overflow encountered in exp\n",
      "  sumExp = exp_deltaMu1 + exp_deltaMu2 + exp_deltaMu3 + np.exp(-maxDeltaMu)\n",
      "/tmp/ipykernel_262483/151684854.py:24: RuntimeWarning: invalid value encountered in divide\n",
      "  exp_deltaMu1_divided = exp_deltaMu1/sumExp\n",
      "/tmp/ipykernel_262483/151684854.py:25: RuntimeWarning: invalid value encountered in divide\n",
      "  exp_deltaMu2_divided = exp_deltaMu2/sumExp\n",
      "/tmp/ipykernel_262483/151684854.py:26: RuntimeWarning: invalid value encountered in divide\n",
      "  exp_deltaMu3_divided = exp_deltaMu3/sumExp\n"
     ]
    }
   ],
   "source": [
    "# Bootrstrapping to get SE\n",
    "num_iter = 1000\n",
    "alpha = []\n",
    "beta_0 = []\n",
    "beta_1 = []\n",
    "beta_2 = []\n",
    "\n",
    "random.seed(3600021601)\n",
    "for i in range(num_iter):\n",
    "    #print(i)\n",
    "    df_sample = resample(df10M,replace=True, n_samples=len(df10M)).reset_index(drop = True)\n",
    "    X2 = df_sample['x1'].tolist()\n",
    "    X3 = df_sample['x2'].tolist()\n",
    "\n",
    "    BLP_IV_1 = BLP_IV_2 = []\n",
    "    for i in range(0,30):\n",
    "        if i in range(0, 30, 3):\n",
    "            BLP_IV_1.append(X2[i+1] + X2[i+2])\n",
    "\n",
    "        elif i in range(1, 30, 3):\n",
    "            BLP_IV_1.append(X2[i-1] + X2[i+1])\n",
    "\n",
    "        elif i in range(2, 30, 3):\n",
    "            BLP_IV_1.append(X2[i-1] + X2[i-2])\n",
    "\n",
    "\n",
    "    BLP_IV_2 = []\n",
    "\n",
    "    for i in range(0,30):\n",
    "        if i in range(0, 30, 3):\n",
    "            BLP_IV_2.append(X3[i+1] + X3[i+2])\n",
    "\n",
    "        elif i in range(1, 30, 3):\n",
    "            BLP_IV_2.append(X3[i-1] + X3[i+1])\n",
    "\n",
    "        elif i in range(2, 30, 3):\n",
    "            BLP_IV_2.append(X3[i-1] + X3[i-2])\n",
    "\n",
    "    BLP_IV_1 = np.array(BLP_IV_1).reshape(-1,1)\n",
    "    BLP_IV_2 = np.array(BLP_IV_2).reshape(-1,1)\n",
    "    X1 = np.array(df_sample['x0'].tolist()).reshape(-1,1)\n",
    "    X2 = np.array(X2).reshape(-1,1)\n",
    "    X3 = np.array(X3).reshape(-1,1)\n",
    "    prices = np.array(df_sample['price'].tolist()).reshape(-1,1)\n",
    "    instrumentMatrix = np.concatenate((X1, X2, X3, BLP_IV_1, BLP_IV_2),axis=1)\n",
    "    endogenousMatrix = np.concatenate((X1, X2, X3,prices),axis=1)\n",
    "    \n",
    "    solution_iter = scipy.optimize.minimize(objFunction, np.ones(36), constraints=({'type': 'eq', 'fun': allConstraints}))\n",
    "    delta_hat = solution_iter.x[:30] # 30*1 vector\n",
    "    eta_hat = solution_iter.x[30:35] # 5*1 vector\n",
    "    sigma_hat = solution_iter.x[-1] # 1*1 vector\n",
    "    delta_hat = np.array([delta_hat])\n",
    "    P_matrix = np.matmul(np.matmul(instrumentMatrix,np.linalg.inv(np.matmul(np.transpose(instrumentMatrix),instrumentMatrix))),np.transpose(instrumentMatrix))\n",
    "    \n",
    "    XPz = np.matmul(P_matrix, endogenousMatrix)\n",
    "    XPzX = np.matmul(endogenousMatrix.transpose(),XPz)\n",
    "    XPzX_inv = np.linalg.inv(XPzX)\n",
    "\n",
    "    XPzdelta = np.matmul(delta_hat,XPz)\n",
    "    \n",
    "    alpha_beta_iter = np.matmul(XPzX_inv,XPzdelta.transpose()) # A 4*1 vector with beta_0, beta_1, beta_2, alpha\n",
    "    \n",
    "    beta_0.append(alpha_beta_iter[0][0])\n",
    "    beta_1.append(alpha_beta_iter[1][0])\n",
    "    beta_2.append(alpha_beta_iter[2][0])\n",
    "    alpha.append(alpha_beta_iter[3][0])"
   ]
  },
  {
   "cell_type": "code",
   "execution_count": 58,
   "id": "3d5bc7c4",
   "metadata": {},
   "outputs": [],
   "source": [
    "se_b_0 = stdev(beta_0)\n",
    "se_b_1 = stdev(beta_1)\n",
    "se_b_2 = stdev(beta_2)\n",
    "se_a = stdev(alpha)"
   ]
  },
  {
   "cell_type": "code",
   "execution_count": 59,
   "id": "a0d91cd1",
   "metadata": {},
   "outputs": [
    {
     "name": "stdout",
     "output_type": "stream",
     "text": [
      "alpha: [-1.39772607] with s.e. 29.60217401306617\n",
      "beta 0: [3.07060276] with s.e. 234.15432452634698\n",
      "beta 1: [0.48179576] with s.e. 434.5550864620791\n",
      "beta 2: [1.26928295] with s.e. 74.24813821002456\n"
     ]
    }
   ],
   "source": [
    "print(f'alpha: {alpha_beta_10M[3]} with s.e. {se_a}')\n",
    "print(f'beta 0: {alpha_beta_10M[0]} with s.e. {se_b_0}')\n",
    "print(f'beta 1: {alpha_beta_10M[1]} with s.e. {se_b_1}')\n",
    "print(f'beta 2: {alpha_beta_10M[2]} with s.e. {se_b_2}')"
   ]
  },
  {
   "cell_type": "markdown",
   "id": "ad5b1ea0",
   "metadata": {},
   "source": [
    "\n",
    "## Price elasticity\n",
    "\n",
    "Own-price elasticity is $\\frac{\\partial s_j}{\\partial p_j} = \\int \\tau_j(1-\\tau_j)\\sigma\\nu_i d\\nu_i$ \n",
    "\n",
    "Cross-price elasticity is:  $\\frac{\\partial s_j}{\\partial p_k} = \\int -\\tau_j\\tau_k\\sigma\\nu_i d\\nu_i$\n"
   ]
  },
  {
   "cell_type": "code",
   "execution_count": 63,
   "id": "e0c3828c",
   "metadata": {},
   "outputs": [],
   "source": [
    "## Start with shares constraints\n",
    "\n",
    "def elasticities(params):\n",
    "    deltaVector = params[0:300]\n",
    "    etaVector = params[300:305]\n",
    "    sigma = params[305]\n",
    "    ownElasticityVector = []\n",
    "\n",
    "    for j in range(0,300):   \n",
    "        if j%3==0:\n",
    "            market = math.floor(j/3)\n",
    "            marketShocks = tasteShocks[market,:]\n",
    "            prices = P_opt3[:,market]\n",
    "            delta1mu = deltaVector[j]-sigma*marketShocks*prices[0]\n",
    "            delta2mu = deltaVector[j+1]-sigma*marketShocks*prices[1]\n",
    "            delta3mu = deltaVector[j+2]-sigma*marketShocks*prices[2]\n",
    "\n",
    "            maxDeltaMu = np.max(np.array([delta1mu,delta2mu,delta3mu]))\n",
    "\n",
    "            exp_deltaMu1 = np.exp(delta1mu -maxDeltaMu)\n",
    "            exp_deltaMu2 = np.exp(delta2mu -maxDeltaMu)\n",
    "            exp_deltaMu3 = np.exp(delta3mu -maxDeltaMu)\n",
    "            sumExp = exp_deltaMu1 + exp_deltaMu2 + exp_deltaMu3 + np.exp(-maxDeltaMu)\n",
    "            exp_deltaMu1_divided = exp_deltaMu1/sumExp\n",
    "            exp_deltaMu2_divided = exp_deltaMu2/sumExp\n",
    "            exp_deltaMu3_divided = exp_deltaMu3/sumExp\n",
    "            sumexp_deltaMu_divided = exp_deltaMu1_divided*prices[0] + exp_deltaMu2_divided*prices[1] + exp_deltaMu3_divided*prices[2]\n",
    "\n",
    "            oneSigma = ((exp_deltaMu1_divided*(prices[0]-sumexp_deltaMu_divided))*marketShocks).sum()/R            \n",
    "            twoSigma = ((exp_deltaMu2_divided*(prices[1]-sumexp_deltaMu_divided))*marketShocks).sum()/R             \n",
    "            threeSigma = ((exp_deltaMu3_divided*(prices[2]-sumexp_deltaMu_divided))*marketShocks).sum()/R\n",
    "            \n",
    "            ownElasticityVector.append(oneSigma)\n",
    "            ownElasticityVector.append(twoSigma)\n",
    "            ownElasticityVector.append(threeSigma)\n",
    "    return(ownElasticityVector)"
   ]
  },
  {
   "cell_type": "code",
   "execution_count": 64,
   "id": "a05ac835",
   "metadata": {},
   "outputs": [],
   "source": [
    "estimatedOwnElasticities = np.array(elasticities(solution.x))"
   ]
  },
  {
   "cell_type": "code",
   "execution_count": 65,
   "id": "39b5a90f",
   "metadata": {},
   "outputs": [
    {
     "data": {
      "image/png": "[encoded data removed]",
      "text/plain": [
       "<Figure size 500x500 with 1 Axes>"
      ]
     },
     "metadata": {},
     "output_type": "display_data"
    }
   ],
   "source": [
    "plt.figure(figsize = (5,5))\n",
    "sb.kdeplot(estimatedOwnElasticities , fill = False)\n",
    "plt.xlabel('Estimated elasticity')\n",
    "plt.show()"
   ]
  },
  {
   "cell_type": "code",
   "execution_count": null,
   "id": "e4eb47d7",
   "metadata": {},
   "outputs": [],
   "source": []
  }
 ],
 "metadata": {
  "kernelspec": {
   "display_name": "Python 3 (ipykernel)",
   "language": "python",
   "name": "python3"
  },
  "language_info": {
   "codemirror_mode": {
    "name": "ipython",
    "version": 3
   },
   "file_extension": ".py",
   "mimetype": "text/x-python",
   "name": "python",
   "nbconvert_exporter": "python",
   "pygments_lexer": "ipython3",
   "version": "3.8.13"
  }
 },
 "nbformat": 4,
 "nbformat_minor": 5
}
