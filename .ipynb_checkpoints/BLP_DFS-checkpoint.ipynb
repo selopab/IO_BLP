{
 "cells": [
  {
   "cell_type": "code",
   "execution_count": 156,
   "id": "bc6ab8cb",
   "metadata": {},
   "outputs": [
    {
     "name": "stdout",
     "output_type": "stream",
     "text": [
      "Once deleted, variables cannot be recovered. Proceed (y/[n])? y\n"
     ]
    }
   ],
   "source": [
    "%reset"
   ]
  },
  {
   "cell_type": "code",
   "execution_count": 246,
   "id": "f0eb10d4",
   "metadata": {},
   "outputs": [],
   "source": [
    "import pandas as pd\n",
    "import scipy\n",
    "import scipy.io\n",
    "import numpy as np\n",
    "from scipy import optimize\n",
    "import math\n",
    "from collections import Counter\n",
    "#import knitro\n",
    "import matplotlib.pyplot as plt\n",
    "from sklearn.utils import resample\n",
    "from statistics import stdev\n",
    "\n",
    "# set random seed\n",
    "import random\n",
    "random.seed(3600021601)"
   ]
  },
  {
   "cell_type": "code",
   "execution_count": 158,
   "id": "35007e03",
   "metadata": {},
   "outputs": [],
   "source": [
    "mat3 = scipy.io.loadmat('../inp/100markets3products.mat')  # load mat-file\n",
    "eta3 = mat3['eta'] # Simulated unobserved error\n",
    "alphas3 = mat3['alphas'] # Simulated alphas\n",
    "P_opt3 = mat3['P_opt']\n",
    "shares3 = mat3['shares']\n",
    "w3 = mat3['w']\n",
    "x1_3 = mat3['x1']\n",
    "xi3 = mat3['xi_all'].flatten(\"F\")\n",
    "Z3 = mat3['Z']\n",
    "prices_stacked3 = P_opt3.flatten(\"F\")\n",
    "shares_stacked3 = shares3.flatten(\"F\")\n",
    "\n",
    "#Create a df with product characteristics\n",
    "df3 = pd.DataFrame(x1_3, columns = ['x0','x1','x2'])\n",
    "df3['price'] = prices_stacked3\n",
    "df3['share'] = shares_stacked3\n",
    "df3['eta'] = eta3\n",
    "df3['w'] = w3\n",
    "df3['Z'] = Z3\n"
   ]
  },
  {
   "cell_type": "code",
   "execution_count": 159,
   "id": "583579e7",
   "metadata": {},
   "outputs": [],
   "source": [
    "# Now the 5 products data\n",
    "mat5 = scipy.io.loadmat('../inp/100markets5products.mat')  # load mat5-file\n",
    "eta5 = mat5['eta'] # Simulated unobserved error\n",
    "alphas5 = mat5['alphas'] # Simulated alphas\n",
    "P_opt5 = mat5['P_opt']\n",
    "shares5 = mat5['shares']\n",
    "w5 = mat5['w']\n",
    "x1_5 = mat5['x1']\n",
    "xi5 = mat5['xi_all'].flatten(\"F\")\n",
    "Z5 = mat5['Z']\n",
    "prices_stacked5 = P_opt5.flatten(\"F\")\n",
    "shares_stacked5 = shares5.flatten(\"F\")\n",
    "\n",
    "#Create a df with product characteristics\n",
    "df5 = pd.DataFrame(x1_5, columns = ['x0','x1','x2'])\n",
    "df5['price'] = prices_stacked5\n",
    "df5['share'] = shares_stacked5\n",
    "df5['eta'] = eta5\n",
    "df5['w'] = w5\n",
    "df5['Z'] = Z5"
   ]
  },
  {
   "cell_type": "markdown",
   "id": "31ccd2fe",
   "metadata": {},
   "source": [
    "## Distribution of prices"
   ]
  },
  {
   "cell_type": "code",
   "execution_count": 160,
   "id": "c7a9f0b2",
   "metadata": {},
   "outputs": [
    {
     "data": {
      "text/plain": [
       "<matplotlib.legend.Legend at 0x7f87b9f3dac0>"
      ]
     },
     "execution_count": 160,
     "metadata": {},
     "output_type": "execute_result"
    },
    {
     "data": {
      "image/png": "[encoded data removed]",
      "text/plain": [
       "<Figure size 432x288 with 1 Axes>"
      ]
     },
     "metadata": {
      "needs_background": "light"
     },
     "output_type": "display_data"
    }
   ],
   "source": [
    "# Compare both histograms\n",
    "fig, ax = plt.subplots()\n",
    "\n",
    "# the argument bins control the number of bins and their exact position \n",
    "# by default, matplotlib will use 10 equally-spaced bins\n",
    "ax.hist(df5[\"price\"], bins = 15, ls='dotted', alpha = 0.5, lw=3, color= 'b', label='5 goods')\n",
    "ax.hist(df3[\"price\"], bins = 15, ls='dotted', alpha = 0.5, lw=3, color= 'r', label='3 goods')\n",
    "ax.set_title('Histogram for Prices')\n",
    "ax.legend()"
   ]
  },
  {
   "cell_type": "markdown",
   "id": "e94d1ad9",
   "metadata": {},
   "source": [
    "## Distribution of profits"
   ]
  },
  {
   "cell_type": "code",
   "execution_count": 161,
   "id": "dfb46cf5",
   "metadata": {},
   "outputs": [],
   "source": [
    "df3['mc'] = 2 + df3['w'] + df3['Z'] + df3['eta']\n",
    "df3['profitPerUnit'] = df3['price'] - df3['mc']\n",
    "df3['profits'] = df3['profitPerUnit']*df3['share']\n",
    "\n",
    "df5['mc'] = 2 + df5['w'] + df5['Z'] + df5['eta']\n",
    "df5['profitPerUnit'] = df5['price'] - df5['mc']\n",
    "df5['profits'] = df5['profitPerUnit']*df5['share']"
   ]
  },
  {
   "cell_type": "code",
   "execution_count": 162,
   "id": "fa3a4ba5",
   "metadata": {},
   "outputs": [
    {
     "data": {
      "text/plain": [
       "<matplotlib.legend.Legend at 0x7f87c8647af0>"
      ]
     },
     "execution_count": 162,
     "metadata": {},
     "output_type": "execute_result"
    },
    {
     "data": {
      "image/png": "[encoded data removed]",
      "text/plain": [
       "<Figure size 432x288 with 1 Axes>"
      ]
     },
     "metadata": {
      "needs_background": "light"
     },
     "output_type": "display_data"
    }
   ],
   "source": [
    "# Compare profits\n",
    "fig, ax = plt.subplots()\n",
    "\n",
    "# the argument bins control the number of bins and their exact position \n",
    "# by default, matplotlib will use 10 equally-spaced bins\n",
    "ax.hist(df5[\"profits\"], bins = 15, ls='dotted', alpha = 0.5, lw=3, color= 'b', label='5 goods')\n",
    "ax.hist(df3[\"profits\"], bins = 15, ls='dotted', alpha = 0.5, lw=3, color= 'r', label='3 goods')\n",
    "ax.set_title('Histogram for Profits')\n",
    "ax.legend()"
   ]
  },
  {
   "cell_type": "markdown",
   "id": "15bcdf6c",
   "metadata": {},
   "source": [
    "## Consumer surplus"
   ]
  },
  {
   "cell_type": "code",
   "execution_count": 163,
   "id": "b577ccb0",
   "metadata": {},
   "outputs": [],
   "source": [
    "tasteShocks3 = np.random.lognormal(0,1,500)\n",
    "tasteShocks5 = np.random.lognormal(0,1,500)\n"
   ]
  },
  {
   "cell_type": "markdown",
   "id": "1acba288",
   "metadata": {},
   "source": [
    "# Lets start with the 100 markets, 3 products scenario\n",
    "\n",
    "$U_{jm}= X_{jm,0}\\beta_0 + X_{jm,1}\\beta_1 + X_{jm,2}\\beta_2 - \\alpha_i p_{jm} + \\xi_{jm} + \\epsilon_{ijm} $"
   ]
  },
  {
   "cell_type": "code",
   "execution_count": 164,
   "id": "63f0f9b3",
   "metadata": {},
   "outputs": [],
   "source": [
    "mat3 = scipy.io.loadmat('../inp/100markets3products.mat')  # load mat-file\n",
    "eta3 = mat3['eta'] # Simulated unobserved error\n",
    "alphas3 = mat3['alphas'] # Simulated alphas\n",
    "P_opt3 = mat3['P_opt']\n",
    "shares3 = mat3['shares']\n",
    "w3 = mat3['w']\n",
    "x1_3 = mat3['x1']\n",
    "xi3 = mat3['xi_all']\n",
    "Z3 = mat3['Z']\n",
    "prices_stacked3 = P_opt3.flatten(\"F\")\n",
    "shares_stacked3 = shares3.flatten(\"F\")\n",
    "\n",
    "\n"
   ]
  },
  {
   "cell_type": "code",
   "execution_count": 165,
   "id": "3148600d",
   "metadata": {},
   "outputs": [],
   "source": [
    "utilityMatrix = []\n",
    "taste_shocks3 = []\n",
    "for j in range(0,100):\n",
    "    initialJ = j*3\n",
    "    finalJ = (j+1)*3\n",
    "    for i in range(0,500):\n",
    "        #print(i)\n",
    "        initialI = i*3 \n",
    "        finalI = (i+1)*3\n",
    "        alpha = alphas3[j,i]\n",
    "        x0 = x1_3[initialJ:finalJ,0]\n",
    "        x1 = x1_3[initialJ:finalJ,1]\n",
    "        x2 = x1_3[initialJ:finalJ,2]\n",
    "        xi = xi3[initialJ:finalJ,0]\n",
    "        p1 = P_opt3[0,j]\n",
    "        p2 = P_opt3[1,j]\n",
    "        p3 = P_opt3[2,j]\n",
    "\n",
    "        epsilon1 = np.random.lognormal(0,1)\n",
    "        epsilon2 = np.random.lognormal(0,1)\n",
    "        epsilon3 = np.random.lognormal(0,1) \n",
    "        \n",
    "        taste_shocks3.append([epsilon1,epsilon2,epsilon3])\n",
    "        \n",
    "        \n",
    "        u0 = 0 \n",
    "        u1 = 5*x0[0] + x1[0] + x2[0] + xi[0] - alpha*p1 + epsilon1\n",
    "        u2 = 5*x0[1] + x1[1] + x2[1] + xi[1] - alpha*p2 + epsilon2\n",
    "        u3 = 5*x0[2] + x1[2] + x2[2] + xi[2] - alpha*p3 + epsilon3\n",
    "        \n",
    "        utilities = [u0,u1,u2,u3]\n",
    "        #prices = [0,p1,p2,p3]\n",
    "        #max_value = max(utilities)\n",
    "        #max_index = utilities.index(max_value)\n",
    "        #cs = utilities[max_index] - prices[max_index]\n",
    "        \n",
    "        utilityMatrix.append([u0,u1,u2,u3]) #,max_index,cs\n"
   ]
  },
  {
   "cell_type": "code",
   "execution_count": 166,
   "id": "b96b09e3",
   "metadata": {},
   "outputs": [],
   "source": [
    "df_utilityMatrix3 = pd.DataFrame(utilityMatrix, columns = ['u0','u1','u2', 'u3']) #,'choice','cs'\n",
    "df_utilityMatrix3['choice']=df_utilityMatrix3.idxmax(axis=1)\n",
    "df_utilityMatrix3['utility'] = df_utilityMatrix3.max(axis=1)\n"
   ]
  },
  {
   "cell_type": "code",
   "execution_count": 167,
   "id": "94415079",
   "metadata": {},
   "outputs": [
    {
     "data": {
      "text/plain": [
       "array([[<AxesSubplot:title={'center':'utility'}>]], dtype=object)"
      ]
     },
     "execution_count": 167,
     "metadata": {},
     "output_type": "execute_result"
    },
    {
     "data": {
      "image/png": "[encoded data removed]",
      "text/plain": [
       "<Figure size 432x288 with 1 Axes>"
      ]
     },
     "metadata": {
      "needs_background": "light"
     },
     "output_type": "display_data"
    }
   ],
   "source": [
    "df_utilityMatrix3.hist(column='utility') #weird thing, probably wrong"
   ]
  },
  {
   "cell_type": "code",
   "execution_count": 168,
   "id": "5ffbe2b2",
   "metadata": {},
   "outputs": [],
   "source": [
    "# Now for the 5 products\n",
    "utilityMatrix = []\n",
    "taste_shocks5 = []\n",
    "for j in range(0,100):\n",
    "    initialJ = j*5\n",
    "    finalJ = (j+1)*5\n",
    "    for i in range(0,500):\n",
    "        #print(i)\n",
    "        initialI = i*5 \n",
    "        finalI = (i+1)*5\n",
    "        alpha = alphas3[j,i]\n",
    "        x0 = x1_5[initialJ:finalJ,0]\n",
    "        x1 = x1_5[initialJ:finalJ,1]\n",
    "        x2 = x1_5[initialJ:finalJ,2]\n",
    "        x3 = x1_5[initialJ:finalJ,0]\n",
    "        x4 = x1_5[initialJ:finalJ,1]\n",
    "        xi = xi5[initialJ:finalJ]\n",
    "        p1 = P_opt5[0,j]\n",
    "        p2 = P_opt5[1,j]\n",
    "        p3 = P_opt5[2,j]\n",
    "        p4 = P_opt5[0,j]\n",
    "        p5 = P_opt5[1,j]\n",
    "\n",
    "        epsilon1 = np.random.lognormal(0,1)\n",
    "        epsilon2 = np.random.lognormal(0,1)\n",
    "        epsilon3 = np.random.lognormal(0,1) \n",
    "        epsilon4 = np.random.lognormal(0,1)\n",
    "        epsilon5 = np.random.lognormal(0,1)\n",
    "        \n",
    "        taste_shocks5.append([epsilon1,epsilon2,epsilon3,epsilon4,epsilon5])\n",
    "        \n",
    "        \n",
    "        u0 = 0 \n",
    "        u1 = 5*x0[0] + x1[0] + x2[0] + xi[0] - alpha*p1 + epsilon1\n",
    "        u2 = 5*x0[1] + x1[1] + x2[1] + xi[1] - alpha*p2 + epsilon2\n",
    "        u3 = 5*x0[2] + x1[2] + x2[2] + xi[2] - alpha*p3 + epsilon3\n",
    "        u4 = 5*x0[1] + x1[3] + x2[3] + xi[3] - alpha*p4 + epsilon4\n",
    "        u5 = 5*x0[2] + x1[4] + x2[4] + xi[4] - alpha*p5 + epsilon5\n",
    "        \n",
    "        utilities = [u0,u1,u2,u3,u4,u5]\n",
    "        #prices = [0,p1,p2,p3]\n",
    "        #max_value = max(utilities)\n",
    "        #max_index = utilities.index(max_value)\n",
    "        #cs = utilities[max_index] - prices[max_index]\n",
    "        \n",
    "        utilityMatrix.append(utilities) #,max_index,cs"
   ]
  },
  {
   "cell_type": "code",
   "execution_count": 169,
   "id": "64193119",
   "metadata": {},
   "outputs": [],
   "source": [
    "df_utilityMatrix5 = pd.DataFrame(utilityMatrix, columns = ['u0','u1','u2', 'u3','u4','u5']) #,'choice','cs'\n",
    "df_utilityMatrix5['choice']=df_utilityMatrix5.idxmax(axis=1)\n",
    "df_utilityMatrix5['utility'] = df_utilityMatrix5.max(axis=1)"
   ]
  },
  {
   "cell_type": "code",
   "execution_count": 170,
   "id": "388e1281",
   "metadata": {},
   "outputs": [
    {
     "data": {
      "text/plain": [
       "array([[<AxesSubplot:title={'center':'utility'}>]], dtype=object)"
      ]
     },
     "execution_count": 170,
     "metadata": {},
     "output_type": "execute_result"
    },
    {
     "data": {
      "image/png": "[encoded data removed]",
      "text/plain": [
       "<Figure size 432x288 with 1 Axes>"
      ]
     },
     "metadata": {
      "needs_background": "light"
     },
     "output_type": "display_data"
    }
   ],
   "source": [
    "df_utilityMatrix5.hist(column='utility') #weird thing, probably wrong"
   ]
  },
  {
   "cell_type": "code",
   "execution_count": 171,
   "id": "f2c60f84",
   "metadata": {},
   "outputs": [
    {
     "data": {
      "text/plain": [
       "<matplotlib.legend.Legend at 0x7f87be9eb5e0>"
      ]
     },
     "execution_count": 171,
     "metadata": {},
     "output_type": "execute_result"
    },
    {
     "data": {
      "image/png": "[encoded data removed]",
      "text/plain": [
       "<Figure size 432x288 with 1 Axes>"
      ]
     },
     "metadata": {
      "needs_background": "light"
     },
     "output_type": "display_data"
    }
   ],
   "source": [
    "# Compare CS\n",
    "fig, ax = plt.subplots()\n",
    "\n",
    "# the argument bins control the number of bins and their exact position \n",
    "# by default, matplotlib will use 10 equally-spaced bins\n",
    "ax.hist(df_utilityMatrix5[\"utility\"], bins = 15, ls='dotted', alpha = 0.5, lw=3, color= 'b', label='5 goods')\n",
    "ax.hist(df_utilityMatrix3[\"utility\"], bins = 15, ls='dotted', alpha = 0.5, lw=3, color= 'r', label='3 goods')\n",
    "ax.set_title('Histogram for CS')\n",
    "ax.legend()"
   ]
  },
  {
   "cell_type": "markdown",
   "id": "7571ee22",
   "metadata": {},
   "source": [
    "# BLP and Hausman Instruments\n",
    "\n",
    "## 2.\n",
    "\n",
    "### 2.a)"
   ]
  },
  {
   "cell_type": "markdown",
   "id": "47e51c09",
   "metadata": {},
   "source": [
    "$E[\\xi_{jm}X_{jm}]$"
   ]
  },
  {
   "cell_type": "code",
   "execution_count": 172,
   "id": "6485678d",
   "metadata": {},
   "outputs": [
    {
     "data": {
      "text/plain": [
       "(300, 1)"
      ]
     },
     "execution_count": 172,
     "metadata": {},
     "output_type": "execute_result"
    }
   ],
   "source": [
    "xi3.shape"
   ]
  },
  {
   "cell_type": "code",
   "execution_count": 173,
   "id": "855e254c",
   "metadata": {},
   "outputs": [
    {
     "data": {
      "text/plain": [
       "array([13.03831111,  6.22257672, 10.65945097])"
      ]
     },
     "execution_count": 173,
     "metadata": {},
     "output_type": "execute_result"
    }
   ],
   "source": [
    "np.mean(np.matmul(np.transpose(xi3),x1_3), axis=0)"
   ]
  },
  {
   "cell_type": "markdown",
   "id": "8ef33263",
   "metadata": {},
   "source": [
    "$E[\\xi_{jm}p_{jm}]$"
   ]
  },
  {
   "cell_type": "code",
   "execution_count": 174,
   "id": "e4fc164d",
   "metadata": {},
   "outputs": [
    {
     "data": {
      "text/plain": [
       "array([88.48744114])"
      ]
     },
     "execution_count": 174,
     "metadata": {},
     "output_type": "execute_result"
    }
   ],
   "source": [
    "np.matmul(np.transpose(prices_stacked3),xi3)"
   ]
  },
  {
   "cell_type": "markdown",
   "id": "aa985d0a",
   "metadata": {},
   "source": [
    "$E[\\xi_{jm}\\bar{p}_{jm}]$"
   ]
  },
  {
   "cell_type": "code",
   "execution_count": 175,
   "id": "7fe169ef",
   "metadata": {},
   "outputs": [],
   "source": [
    "hausman_vector = np.zeros(300)\n",
    "for i in range(0,300):\n",
    "    hausman_vector[i] = np.mean(np.delete(prices_stacked3, i))"
   ]
  },
  {
   "cell_type": "code",
   "execution_count": 176,
   "id": "1cfc12dc",
   "metadata": {},
   "outputs": [
    {
     "data": {
      "text/plain": [
       "0.13153694769686025"
      ]
     },
     "execution_count": 176,
     "metadata": {},
     "output_type": "execute_result"
    }
   ],
   "source": [
    "np.mean(hausman_vector*xi3)"
   ]
  },
  {
   "cell_type": "markdown",
   "id": "fa935124",
   "metadata": {},
   "source": [
    "$E[\\xi_{jm}Z_{jm}]$"
   ]
  },
  {
   "cell_type": "code",
   "execution_count": 138,
   "id": "5c304d35",
   "metadata": {},
   "outputs": [
    {
     "data": {
      "text/plain": [
       "array([[-2.44367642],\n",
       "       [ 5.61331189]])"
      ]
     },
     "execution_count": 138,
     "metadata": {},
     "output_type": "execute_result"
    }
   ],
   "source": [
    "np.matmul(np.transpose(instrumentMatrix),xi3)"
   ]
  },
  {
   "cell_type": "markdown",
   "id": "e59eface",
   "metadata": {},
   "source": [
    "### 2.b) \n",
    "\n",
    "Only the $E[\\xi_{jm}X_{jm}]$ moments seem to be (relatively) valid, since they are relatively small (<0.1). Both price moments give relatively large expected values, so they don't seem valid. "
   ]
  },
  {
   "cell_type": "markdown",
   "id": "1b70d577",
   "metadata": {},
   "source": [
    "### 2.c) \n",
    "\n",
    "It seems like the only reasonable instruments are the BLP ones, since its moment contition is close to zero. Hausman instruments give a high mean, so it's not OK to use them. "
   ]
  },
  {
   "cell_type": "markdown",
   "id": "a5545dc8",
   "metadata": {},
   "source": [
    "# 2.2) "
   ]
  },
  {
   "cell_type": "markdown",
   "id": "04008141",
   "metadata": {},
   "source": [
    "I think that the moments should be:\n",
    "\n",
    "$E[\\xi_{jm}f(Z_{jm})]=0$\n",
    "\n",
    "$E[\\xi_{jm}f(x_{jm})]=0$\n",
    "\n",
    "$E[\\xi_{jm}f(w)]=0$"
   ]
  },
  {
   "cell_type": "markdown",
   "id": "649c48a3",
   "metadata": {},
   "source": [
    "Note that, since we're using $X_{300\\times3}$, $Z_{300\\times1}$, and $W_{300\\times1}$ as instruments, we'll need to estimate $\\eta_{5\\times1}$ in the objective function. \n",
    "\n",
    "Moreover, we'll be estimating 306 parameters through this procedure:\n",
    "\n",
    "300 $\\delta$s\n",
    "\n",
    "5 $\\eta$s\n",
    "\n",
    "1 $\\sigma_{\\alpha}$\n",
    "\n",
    "I'll use W = I, at least for now"
   ]
  },
  {
   "cell_type": "code",
   "execution_count": 180,
   "id": "625f1052",
   "metadata": {},
   "outputs": [],
   "source": [
    "## Let's create the instrument matrix\n",
    "\n",
    "BLP_IV_1 = BLP_IV_2 = []\n",
    "for i in range(0,300):\n",
    "    if i in range(0, 300, 3):\n",
    "        BLP_IV_1.append(x1_3[i+1,1] + x1_3[i+2,1])\n",
    "        \n",
    "    elif i in range(1, 300, 3):\n",
    "        BLP_IV_1.append(x1_3[i-1,1] + x1_3[i+1,1])\n",
    "        \n",
    "    elif i in range(2, 300, 3):\n",
    "        BLP_IV_1.append(x1_3[i-1,1] + x1_3[i-2,1])\n",
    "        \n",
    "\n",
    "BLP_IV_2 = []\n",
    "\n",
    "for i in range(0,300):\n",
    "    if i in range(0, 300, 3):\n",
    "        BLP_IV_2.append(x1_3[i+1,2] + x1_3[i+2,2])\n",
    "        \n",
    "    elif i in range(1, 300, 3):\n",
    "        BLP_IV_2.append(x1_3[i-1,2] + x1_3[i+1,2])\n",
    "        \n",
    "    elif i in range(2, 300, 3):\n",
    "        BLP_IV_2.append(x1_3[i-1,2] + x1_3[i-2,2])\n",
    "\n",
    "instrumentMatrix = np.concatenate((x1_3,np.array(BLP_IV_1).reshape(-1, 1),np.array(BLP_IV_2).reshape(-1, 1)),axis=1)\n",
    "endogenousMatrix = np.concatenate((x1_3,prices_stacked3.reshape(-1, 1)), axis=1)"
   ]
  },
  {
   "cell_type": "code",
   "execution_count": 182,
   "id": "732cb1da",
   "metadata": {},
   "outputs": [],
   "source": [
    "R = 500\n",
    "tasteShocks = np.random.lognormal(0,1,[100,R])\n",
    "params = np.ones(306)"
   ]
  },
  {
   "cell_type": "code",
   "execution_count": 183,
   "id": "58776bda",
   "metadata": {},
   "outputs": [],
   "source": [
    "def objFunction(params):\n",
    "    delta = params[0:300]\n",
    "    eta = params[300:305]\n",
    "    sigma = params[305]\n",
    "    \n",
    "    value = np.matmul(np.transpose(eta),eta)\n",
    "    \n",
    "    return(value)"
   ]
  },
  {
   "cell_type": "markdown",
   "id": "4c34aa5c",
   "metadata": {},
   "source": [
    "### Constraints:\n",
    "\n",
    "We will have 305 constraints as well. One for each $s_{jm}$ (there are 300 of them ), one for each $\\eta$ (5 of them) "
   ]
  },
  {
   "cell_type": "code",
   "execution_count": 184,
   "id": "a3118fcd",
   "metadata": {},
   "outputs": [
    {
     "data": {
      "text/plain": [
       "0.8233506968534349"
      ]
     },
     "execution_count": 184,
     "metadata": {},
     "output_type": "execute_result"
    }
   ],
   "source": [
    "tasteShocks[0][1]"
   ]
  },
  {
   "cell_type": "markdown",
   "id": "e09162ae",
   "metadata": {},
   "source": [
    "## shares constraints V1\n",
    "\n",
    "def sharesConstraints(params):\n",
    "    deltaVector = params[0:300]\n",
    "    etaVector = params[300:305]\n",
    "    sigma = params[305]\n",
    "    muMatrix = []\n",
    "    for i in range(0,R):\n",
    "        muMatrix.append(-tasteShocks[0][i]*prices_stacked3*sigma)\n",
    "\n",
    "    muMatrix = np.array(muMatrix)\n",
    "    shares = []\n",
    "\n",
    "    for j in range(0,300):\n",
    "        if j%3==0:\n",
    "            delta1mu = deltaVector[j]+muMatrix[:,j]\n",
    "            delta2mu = deltaVector[j+1]+muMatrix[:,j+1]\n",
    "            delta3mu = deltaVector[j+2]+muMatrix[:,j+2]\n",
    "\n",
    "            maxDeltaMu = np.max(np.array([delta1mu,delta2mu,delta3mu]))\n",
    "\n",
    "            exp_deltaMu1 = np.exp(delta1+muMatrix[:,j]) #-maxDeltaMu)\n",
    "            exp_deltaMu2 = np.exp(delta2+muMatrix[:,j+1]) #-maxDeltaMu)\n",
    "            exp_deltaMu3 = np.exp(delta3+muMatrix[:,j+2]) #-maxDeltaMu)\n",
    "            sumExp = exp_deltaMu1 + exp_deltaMu2 + exp_deltaMu3 #+ np.exp(-maxDeltaMu)\n",
    "            exp_deltaMu1_divided = exp_deltaMu1/sumExp\n",
    "            exp_deltaMu2_divided = exp_deltaMu2/sumExp\n",
    "            exp_deltaMu3_divided = exp_deltaMu3/sumExp\n",
    "\n",
    "            shares.append((exp_deltaMu1_divided).sum()/R)\n",
    "            shares.append((exp_deltaMu2_divided).sum()/R)\n",
    "            shares.append((exp_deltaMu3_divided).sum()/R)\n",
    "\n",
    "    sharesDif = shares_stacked3-shares\n",
    "    return(sharesDif)\n",
    "\n",
    "sharesConstraints(params).shape        "
   ]
  },
  {
   "cell_type": "code",
   "execution_count": 185,
   "id": "db8c896d",
   "metadata": {},
   "outputs": [],
   "source": [
    "deltaVector = params[0:300]\n",
    "etaVector = params[300:305]\n",
    "sigma = params[305]\n",
    "muMatrix = np.matmul(P_opt3,tasteShocks)\n"
   ]
  },
  {
   "cell_type": "code",
   "execution_count": 187,
   "id": "e990d9da",
   "metadata": {},
   "outputs": [
    {
     "data": {
      "text/plain": [
       "(300,)"
      ]
     },
     "execution_count": 187,
     "metadata": {},
     "output_type": "execute_result"
    }
   ],
   "source": [
    "## Start with shares constraints\n",
    "\n",
    "def sharesConstraints(params):\n",
    "    deltaVector = params[0:300]\n",
    "    etaVector = params[300:305]\n",
    "    sigma = params[305]\n",
    "    shares = []\n",
    "\n",
    "    for j in range(0,300):\n",
    "        if j%3==0:\n",
    "            market = math.floor(j/3)\n",
    "            marketShocks = tasteShocks[market,:]\n",
    "            prices = P_opt3[:,market]\n",
    "            delta1mu = deltaVector[j]-sigma*marketShocks*prices[0]\n",
    "            delta2mu = deltaVector[j+1]-sigma*marketShocks*prices[1]\n",
    "            delta3mu = deltaVector[j+2]-sigma*marketShocks*prices[2]\n",
    "\n",
    "            maxDeltaMu = np.max(np.array([delta1mu,delta2mu,delta3mu]))\n",
    "\n",
    "            exp_deltaMu1 = np.exp(delta1mu -maxDeltaMu)\n",
    "            exp_deltaMu2 = np.exp(delta2mu -maxDeltaMu)\n",
    "            exp_deltaMu3 = np.exp(delta3mu -maxDeltaMu)\n",
    "            sumExp = exp_deltaMu1 + exp_deltaMu2 + exp_deltaMu3 + np.exp(-maxDeltaMu)\n",
    "            exp_deltaMu1_divided = exp_deltaMu1/sumExp\n",
    "            exp_deltaMu2_divided = exp_deltaMu2/sumExp\n",
    "            exp_deltaMu3_divided = exp_deltaMu3/sumExp\n",
    "\n",
    "            shares.append((exp_deltaMu1_divided).sum()/R)\n",
    "            shares.append((exp_deltaMu2_divided).sum()/R)\n",
    "            shares.append((exp_deltaMu3_divided).sum()/R)\n",
    "\n",
    "    sharesDif = shares_stacked3-shares\n",
    "    return(sharesDif)\n",
    "\n",
    "sharesConstraints(params).shape        "
   ]
  },
  {
   "cell_type": "code",
   "execution_count": 188,
   "id": "28ea9f81",
   "metadata": {},
   "outputs": [],
   "source": [
    "# Eta constraints\n",
    "def etaConstraints(params):\n",
    "    deltaVector = params[0:300]\n",
    "    etaVector = params[300:305]\n",
    "    sigma = params[305]\n",
    "\n",
    "    P_matrix = np.matmul(np.matmul(instrumentMatrix,np.linalg.inv(np.matmul(np.transpose(instrumentMatrix),instrumentMatrix))),np.transpose(instrumentMatrix))\n",
    "    xi_hat = np.matmul(np.ones([300,300])-np.matmul(np.matmul(endogenousMatrix,np.linalg.inv(np.matmul(np.matmul(np.transpose(endogenousMatrix),P_matrix),endogenousMatrix))),np.matmul(np.transpose(endogenousMatrix),P_matrix)),deltaVector)\n",
    "\n",
    "    moment = np.matmul(np.transpose(instrumentMatrix),xi_hat)/300\n",
    "    \n",
    "    constraint = etaVector - moment\n",
    "    \n",
    "    return(constraint)"
   ]
  },
  {
   "cell_type": "code",
   "execution_count": 189,
   "id": "4a3f1c71",
   "metadata": {},
   "outputs": [],
   "source": [
    "def allConstraints(params):\n",
    "    shares = sharesConstraints(params)\n",
    "    etas   = etaConstraints(params)\n",
    "    return np.concatenate((shares,etas), axis=0)"
   ]
  },
  {
   "cell_type": "code",
   "execution_count": 190,
   "id": "ef4c6abd",
   "metadata": {},
   "outputs": [],
   "source": [
    "solution = scipy.optimize.minimize(objFunction, np.ones(306), constraints=({'type': 'eq', 'fun': allConstraints}))\n"
   ]
  },
  {
   "cell_type": "code",
   "execution_count": 191,
   "id": "8d00a590",
   "metadata": {},
   "outputs": [
    {
     "data": {
      "text/plain": [
       "'Optimization terminated successfully'"
      ]
     },
     "execution_count": 191,
     "metadata": {},
     "output_type": "execute_result"
    }
   ],
   "source": [
    "# Just to test that the constraints make sense\n",
    "solution.message"
   ]
  },
  {
   "cell_type": "code",
   "execution_count": 194,
   "id": "f2556d76",
   "metadata": {},
   "outputs": [
    {
     "data": {
      "text/plain": [
       "array([[-0.40043795],\n",
       "       [-0.07361534],\n",
       "       [ 0.65645518],\n",
       "       [ 0.13419553]])"
      ]
     },
     "execution_count": 194,
     "metadata": {},
     "output_type": "execute_result"
    }
   ],
   "source": [
    "# Now, from the minimizer I have param = (deltas, etas, sigma) \n",
    "# I can then finally back up Alpha and Betas \n",
    "delta_hat = solution.x[:300] # 300*1 vector\n",
    "eta_hat = solution.x[300:305] # 5*1 vector\n",
    "sigma_hat = solution.x[-1] # 1*1 vector\n",
    "delta_hat = np.array([delta_hat])\n",
    "\n",
    "P_matrix = np.matmul(np.matmul(instrumentMatrix,np.linalg.inv(np.matmul(np.transpose(instrumentMatrix),instrumentMatrix))),np.transpose(instrumentMatrix))\n",
    "XPz = np.matmul(P_matrix, endogenousMatrix)\n",
    "XPzX = np.matmul(endogenousMatrix.transpose(),XPz)\n",
    "XPzX_inv = np.linalg.inv(XPzX)\n",
    "\n",
    "XPzdelta = np.matmul(delta_hat,XPz)\n",
    "\n",
    "# So, these are my alphas and betas (beta1, beta2, beta3)\n",
    "\n",
    "alpha_beta = np.matmul(XPzX_inv,XPzdelta.transpose()) # A 4*1 vector with alpha, beta_0, beta_1, beta_2 \n",
    "alpha_beta"
   ]
  },
  {
   "cell_type": "markdown",
   "id": "e167157a",
   "metadata": {},
   "source": [
    "## Time to code gradients and fun derivative matrices"
   ]
  },
  {
   "cell_type": "code",
   "execution_count": 195,
   "id": "27e59120",
   "metadata": {},
   "outputs": [],
   "source": [
    "def gradient(params):\n",
    "    deltaVector = params[0:300]\n",
    "    etaVector = params[300:305]\n",
    "    sigma = params[305]\n",
    "    shares = []\n",
    "    \n",
    "    gradient = np.zeros(len(params))\n",
    "    gradient[300:305] = 2*etaVector\n",
    "    \n",
    "    return(gradient)\n",
    "    \n",
    "    "
   ]
  },
  {
   "cell_type": "code",
   "execution_count": 202,
   "id": "91799701",
   "metadata": {},
   "outputs": [],
   "source": [
    "## Start with shares constraints\n",
    "\n",
    "def jacobianShares(params):\n",
    "    deltaVector = params[0:300]\n",
    "    etaVector = params[300:305]\n",
    "    sigma = params[305]\n",
    "    jacobianMatrix = np.zeros([len(deltaVector),306])\n",
    "\n",
    "    for j in range(0,300):   \n",
    "        if j%3==0:\n",
    "            market = math.floor(j/3)\n",
    "            marketShocks = tasteShocks[market,:]\n",
    "            prices = P_opt3[:,market]\n",
    "            delta1mu = deltaVector[j]-sigma*marketShocks*prices[0]\n",
    "            delta2mu = deltaVector[j+1]-sigma*marketShocks*prices[1]\n",
    "            delta3mu = deltaVector[j+2]-sigma*marketShocks*prices[2]\n",
    "\n",
    "            maxDeltaMu = np.max(np.array([delta1mu,delta2mu,delta3mu]))\n",
    "\n",
    "            exp_deltaMu1 = np.exp(delta1mu -maxDeltaMu)\n",
    "            exp_deltaMu2 = np.exp(delta2mu -maxDeltaMu)\n",
    "            exp_deltaMu3 = np.exp(delta3mu -maxDeltaMu)\n",
    "            sumExp = exp_deltaMu1 + exp_deltaMu2 + exp_deltaMu3 + np.exp(-maxDeltaMu)\n",
    "            exp_deltaMu1_divided = exp_deltaMu1/sumExp\n",
    "            exp_deltaMu2_divided = exp_deltaMu2/sumExp\n",
    "            exp_deltaMu3_divided = exp_deltaMu3/sumExp\n",
    "            sumexp_deltaMu_divided = exp_deltaMu1_divided*prices[0] + exp_deltaMu2_divided*prices[1] + exp_deltaMu3_divided*prices[2]\n",
    "\n",
    "            one1 = (exp_deltaMu1_divided*(1-exp_deltaMu1_divided)).sum()/R\n",
    "            one2 = -(exp_deltaMu1_divided*exp_deltaMu2_divided).sum()/R\n",
    "            one3 = -(exp_deltaMu1_divided*exp_deltaMu3_divided).sum()/R\n",
    "            oneSigma = ((exp_deltaMu1_divided*(prices[0]-sumexp_deltaMu_divided))*marketShocks).sum()/R\n",
    "            \n",
    "            two1 = -(exp_deltaMu2_divided*exp_deltaMu1_divided).sum()/R\n",
    "            two2 = (exp_deltaMu2_divided*(1-exp_deltaMu2_divided)).sum()/R\n",
    "            two3 = -(exp_deltaMu2_divided*exp_deltaMu3_divided).sum()/R\n",
    "            twoSigma = ((exp_deltaMu2_divided*(prices[1]-sumexp_deltaMu_divided))*marketShocks).sum()/R \n",
    "            \n",
    "            three1 = -(exp_deltaMu3_divided*exp_deltaMu1_divided).sum()/R\n",
    "            three2 = -(exp_deltaMu3_divided*exp_deltaMu2_divided).sum()/R\n",
    "            three3 = (exp_deltaMu3_divided*(1-exp_deltaMu3_divided)).sum()/R\n",
    "            threeSigma = ((exp_deltaMu3_divided*(prices[2]-sumexp_deltaMu_divided))*marketShocks).sum()/R\n",
    "            \n",
    "\n",
    "            jacobianMatrix[j,j:j+3] = [one1, one2, one3]\n",
    "            jacobianMatrix[j,300:] = np.append(np.zeros(5),oneSigma)\n",
    "            \n",
    "            jacobianMatrix[j+1,j:j+3]= [two1, two2, two3]\n",
    "            jacobianMatrix[j+1,300:] = np.append(np.zeros(5),twoSigma)\n",
    "            \n",
    "            jacobianMatrix[j+2,j:j+3] = [three1,three2,three3]\n",
    "            jacobianMatrix[j+2,300:] = np.append(np.zeros(5),threeSigma)\n",
    "            \n",
    "    return(jacobianMatrix)"
   ]
  },
  {
   "cell_type": "code",
   "execution_count": 205,
   "id": "d4946ed7",
   "metadata": {},
   "outputs": [
    {
     "data": {
      "text/plain": [
       "(5, 306)"
      ]
     },
     "execution_count": 205,
     "metadata": {},
     "output_type": "execute_result"
    }
   ],
   "source": [
    "def jacobianEtas(params):\n",
    "    deltaVector = params[0:300]\n",
    "    etaVector = params[300:305]\n",
    "    sigma = params[305]\n",
    "    jacobianMatrix = np.zeros([len(etaVector),306])\n",
    "\n",
    "    P_matrix = np.matmul(np.matmul(instrumentMatrix,np.linalg.inv(np.matmul(np.transpose(instrumentMatrix),instrumentMatrix))),np.transpose(instrumentMatrix))\n",
    "    A = np.ones([300,300])-np.matmul(np.matmul(endogenousMatrix,np.linalg.inv(np.matmul(np.matmul(np.transpose(endogenousMatrix),P_matrix),endogenousMatrix))),np.matmul(np.transpose(endogenousMatrix),P_matrix))    \n",
    "\n",
    "    deltasMatrix = np.transpose(np.matmul(A,instrumentMatrix))/300\n",
    "    jacobianMatrix[:,0:300] = deltasMatrix\n",
    "    jacobianMatrix[:,300:305] = -np.ones([5,5])\n",
    "    jacobianMatrix[:,305] = np.zeros(5)\n",
    "    \n",
    "    return(jacobianMatrix)\n",
    "    \n",
    "jacobianEtas(params).shape"
   ]
  },
  {
   "cell_type": "code",
   "execution_count": 207,
   "id": "c8a97add",
   "metadata": {},
   "outputs": [
    {
     "data": {
      "text/plain": [
       "(305, 306)"
      ]
     },
     "execution_count": 207,
     "metadata": {},
     "output_type": "execute_result"
    }
   ],
   "source": [
    "# Function that gathers all the jacobians\n",
    "def ultimateJacobian(params):\n",
    "    jacobianMatrix = np.zeros([305,306])\n",
    "    \n",
    "    jacobianMatrix[0:300,:] = jacobianShares(params)\n",
    "    jacobianMatrix[300:,:] = jacobianEtas(params)\n",
    "    \n",
    "    return(jacobianMatrix)\n",
    "ultimateJacobian(params).shape"
   ]
  },
  {
   "cell_type": "code",
   "execution_count": 213,
   "id": "31263c64",
   "metadata": {},
   "outputs": [],
   "source": [
    "solution2 = scipy.optimize.minimize(objFunction, np.ones(306)*0.2, jac = gradient, constraints=({'type': 'eq', 'fun': allConstraints}))#, 'jac':ultimateJacobian\n"
   ]
  },
  {
   "cell_type": "code",
   "execution_count": 214,
   "id": "0a67b1d4",
   "metadata": {},
   "outputs": [
    {
     "data": {
      "text/plain": [
       "'Optimization terminated successfully'"
      ]
     },
     "execution_count": 214,
     "metadata": {},
     "output_type": "execute_result"
    }
   ],
   "source": [
    "solution2.message"
   ]
  },
  {
   "cell_type": "code",
   "execution_count": 215,
   "id": "ed53cd23",
   "metadata": {},
   "outputs": [
    {
     "data": {
      "text/plain": [
       "array([[-0.40043795],\n",
       "       [-0.07361534],\n",
       "       [ 0.65645518],\n",
       "       [ 0.13419553]])"
      ]
     },
     "execution_count": 215,
     "metadata": {},
     "output_type": "execute_result"
    }
   ],
   "source": [
    "# Now, from the minimizer I have param = (deltas, etas, sigma) \n",
    "# I can then finally back up Alpha and Betas \n",
    "delta_hat = \n",
    "XPz = np.matmul(P_matrix, endogenousMatrix)\n",
    "XPzX = np.matmul(endogenousMatrix.transpose(),XPz)\n",
    "XPzX_inv = np.linalg.inv(XPzX)\n",
    "\n",
    "XPzdelta = np.matmul(delta_hat,XPz)\n",
    "\n",
    "# So, these are my alphas and betas (beta1, beta2, beta3)\n",
    "\n",
    "alpha_beta = np.matmul(XPzX_inv,XPzdelta.transpose()) # A 4*1 vector with alpha, beta_0, beta_1, beta_2 \n",
    "alpha_beta"
   ]
  },
  {
   "cell_type": "code",
   "execution_count": null,
   "id": "edd43d51",
   "metadata": {},
   "outputs": [],
   "source": [
    "solution2 = scipy.optimize.minimize(objFunction, np.ones(306), jac = gradient, constraints=({'type': 'eq', 'fun': allConstraints}))#, 'jac':ultimateJacobian\n"
   ]
  },
  {
   "cell_type": "code",
   "execution_count": 217,
   "id": "67b5ffc2",
   "metadata": {},
   "outputs": [
    {
     "data": {
      "text/plain": [
       "array([[-0.40043769],\n",
       "       [-0.07361534],\n",
       "       [ 0.65645513],\n",
       "       [ 0.13419544]])"
      ]
     },
     "execution_count": 217,
     "metadata": {},
     "output_type": "execute_result"
    }
   ],
   "source": [
    "delta_hat = solution2.x[:300] # 300*1 vector\n",
    "eta_hat = solution2.x[300:305] # 5*1 vector\n",
    "sigma_hat = solution.x[-1] # 1*1 vector\n",
    "delta_hat = np.array([delta_hat])\n",
    "\n",
    "XPz = np.matmul(P_matrix, endogenousMatrix)\n",
    "XPzX = np.matmul(endogenousMatrix.transpose(),XPz)\n",
    "XPzX_inv = np.linalg.inv(XPzX)\n",
    "\n",
    "XPzdelta = np.matmul(delta_hat,XPz)\n",
    "\n",
    "# So, these are my alphas and betas (beta1, beta2, beta3)\n",
    "\n",
    "alpha_beta = np.matmul(XPzX_inv,XPzdelta.transpose()) # A 4*1 vector with alpha, beta_0, beta_1, beta_2 \n",
    "alpha_beta"
   ]
  },
  {
   "cell_type": "code",
   "execution_count": 218,
   "id": "3a2ee0d2",
   "metadata": {},
   "outputs": [],
   "source": [
    "solution3 = scipy.optimize.minimize(objFunction, np.ones(306), jac = gradient, constraints=({'type': 'eq', 'fun': allConstraints}))#, 'jac':ultimateJacobian\n"
   ]
  },
  {
   "cell_type": "code",
   "execution_count": 219,
   "id": "f0561813",
   "metadata": {},
   "outputs": [
    {
     "data": {
      "text/plain": [
       "array([[-0.40043795],\n",
       "       [-0.07361534],\n",
       "       [ 0.65645518],\n",
       "       [ 0.13419553]])"
      ]
     },
     "execution_count": 219,
     "metadata": {},
     "output_type": "execute_result"
    }
   ],
   "source": [
    "delta_hat = solution3.x[:300] # 300*1 vector\n",
    "eta_hat = solution3.x[300:305] # 5*1 vector\n",
    "sigma_hat = solution.x[-1] # 1*1 vector\n",
    "delta_hat = np.array([delta_hat])\n",
    "\n",
    "XPz = np.matmul(P_matrix, endogenousMatrix)\n",
    "XPzX = np.matmul(endogenousMatrix.transpose(),XPz)\n",
    "XPzX_inv = np.linalg.inv(XPzX)\n",
    "\n",
    "XPzdelta = np.matmul(delta_hat,XPz)\n",
    "\n",
    "# So, these are my alphas and betas (beta1, beta2, beta3)\n",
    "\n",
    "alpha_beta = np.matmul(XPzX_inv,XPzdelta.transpose()) # A 4*1 vector with alpha, beta_0, beta_1, beta_2 \n",
    "alpha_beta"
   ]
  },
  {
   "cell_type": "code",
   "execution_count": 220,
   "id": "5231821a",
   "metadata": {},
   "outputs": [],
   "source": [
    "solution3 = scipy.optimize.minimize(objFunction, np.zeros(306), jac = gradient, constraints=({'type': 'eq', 'fun': allConstraints}))#, 'jac':ultimateJacobian\n"
   ]
  },
  {
   "cell_type": "code",
   "execution_count": 221,
   "id": "3ca275c0",
   "metadata": {},
   "outputs": [
    {
     "data": {
      "text/plain": [
       "array([[-0.40043735],\n",
       "       [-0.07361524],\n",
       "       [ 0.65645521],\n",
       "       [ 0.13419544]])"
      ]
     },
     "execution_count": 221,
     "metadata": {},
     "output_type": "execute_result"
    }
   ],
   "source": [
    "delta_hat = solution3.x[:300] # 300*1 vector\n",
    "eta_hat = solution3.x[300:305] # 5*1 vector\n",
    "sigma_hat = solution.x[-1] # 1*1 vector\n",
    "delta_hat = np.array([delta_hat])\n",
    "\n",
    "XPz = np.matmul(P_matrix, endogenousMatrix)\n",
    "XPzX = np.matmul(endogenousMatrix.transpose(),XPz)\n",
    "XPzX_inv = np.linalg.inv(XPzX)\n",
    "\n",
    "XPzdelta = np.matmul(delta_hat,XPz)\n",
    "\n",
    "# So, these are my alphas and betas (beta1, beta2, beta3)\n",
    "\n",
    "alpha_beta = np.matmul(XPzX_inv,XPzdelta.transpose()) # A 4*1 vector with alpha, beta_0, beta_1, beta_2 \n",
    "alpha_beta"
   ]
  },
  {
   "cell_type": "code",
   "execution_count": 224,
   "id": "6d9036bb",
   "metadata": {},
   "outputs": [],
   "source": [
    "solution3 = scipy.optimize.minimize(objFunction, np.random.rand(306), jac = gradient, constraints=({'type': 'eq', 'fun': allConstraints}))#, 'jac':ultimateJacobian"
   ]
  },
  {
   "cell_type": "code",
   "execution_count": 226,
   "id": "6d896ac1",
   "metadata": {},
   "outputs": [
    {
     "data": {
      "text/html": [
       "<div>\n",
       "<style scoped>\n",
       "    .dataframe tbody tr th:only-of-type {\n",
       "        vertical-align: middle;\n",
       "    }\n",
       "\n",
       "    .dataframe tbody tr th {\n",
       "        vertical-align: top;\n",
       "    }\n",
       "\n",
       "    .dataframe thead th {\n",
       "        text-align: right;\n",
       "    }\n",
       "</style>\n",
       "<table border=\"1\" class=\"dataframe\">\n",
       "  <thead>\n",
       "    <tr style=\"text-align: right;\">\n",
       "      <th></th>\n",
       "      <th>x0</th>\n",
       "      <th>x1</th>\n",
       "      <th>x2</th>\n",
       "      <th>price</th>\n",
       "      <th>share</th>\n",
       "      <th>eta</th>\n",
       "      <th>w</th>\n",
       "      <th>Z</th>\n",
       "      <th>mc</th>\n",
       "      <th>profitPerUnit</th>\n",
       "      <th>profits</th>\n",
       "    </tr>\n",
       "  </thead>\n",
       "  <tbody>\n",
       "    <tr>\n",
       "      <th>0</th>\n",
       "      <td>1.0</td>\n",
       "      <td>0.624347</td>\n",
       "      <td>-0.367594</td>\n",
       "      <td>6.342124</td>\n",
       "      <td>0.000052</td>\n",
       "      <td>1.575772</td>\n",
       "      <td>1.209865</td>\n",
       "      <td>0.807019</td>\n",
       "      <td>5.592656</td>\n",
       "      <td>0.749469</td>\n",
       "      <td>0.000039</td>\n",
       "    </tr>\n",
       "    <tr>\n",
       "      <th>1</th>\n",
       "      <td>1.0</td>\n",
       "      <td>0.127053</td>\n",
       "      <td>1.273785</td>\n",
       "      <td>1.930404</td>\n",
       "      <td>0.718443</td>\n",
       "      <td>-1.166985</td>\n",
       "      <td>-0.753643</td>\n",
       "      <td>-0.364226</td>\n",
       "      <td>-0.284854</td>\n",
       "      <td>2.215257</td>\n",
       "      <td>1.591536</td>\n",
       "    </tr>\n",
       "    <tr>\n",
       "      <th>2</th>\n",
       "      <td>1.0</td>\n",
       "      <td>0.831763</td>\n",
       "      <td>1.151899</td>\n",
       "      <td>2.371707</td>\n",
       "      <td>0.119751</td>\n",
       "      <td>0.428736</td>\n",
       "      <td>-0.035024</td>\n",
       "      <td>-0.642238</td>\n",
       "      <td>1.751474</td>\n",
       "      <td>0.620233</td>\n",
       "      <td>0.074274</td>\n",
       "    </tr>\n",
       "    <tr>\n",
       "      <th>3</th>\n",
       "      <td>1.0</td>\n",
       "      <td>0.411836</td>\n",
       "      <td>1.213139</td>\n",
       "      <td>2.464050</td>\n",
       "      <td>0.093166</td>\n",
       "      <td>-2.201110</td>\n",
       "      <td>1.209865</td>\n",
       "      <td>0.745363</td>\n",
       "      <td>1.754119</td>\n",
       "      <td>0.709931</td>\n",
       "      <td>0.066142</td>\n",
       "    </tr>\n",
       "    <tr>\n",
       "      <th>4</th>\n",
       "      <td>1.0</td>\n",
       "      <td>0.802276</td>\n",
       "      <td>-0.196385</td>\n",
       "      <td>1.168595</td>\n",
       "      <td>0.138094</td>\n",
       "      <td>0.206746</td>\n",
       "      <td>-0.753643</td>\n",
       "      <td>-0.771445</td>\n",
       "      <td>0.681657</td>\n",
       "      <td>0.486938</td>\n",
       "      <td>0.067243</td>\n",
       "    </tr>\n",
       "    <tr>\n",
       "      <th>...</th>\n",
       "      <td>...</td>\n",
       "      <td>...</td>\n",
       "      <td>...</td>\n",
       "      <td>...</td>\n",
       "      <td>...</td>\n",
       "      <td>...</td>\n",
       "      <td>...</td>\n",
       "      <td>...</td>\n",
       "      <td>...</td>\n",
       "      <td>...</td>\n",
       "      <td>...</td>\n",
       "    </tr>\n",
       "    <tr>\n",
       "      <th>295</th>\n",
       "      <td>1.0</td>\n",
       "      <td>0.969012</td>\n",
       "      <td>0.600948</td>\n",
       "      <td>2.827173</td>\n",
       "      <td>0.276926</td>\n",
       "      <td>1.107024</td>\n",
       "      <td>-0.753643</td>\n",
       "      <td>-0.541641</td>\n",
       "      <td>1.811740</td>\n",
       "      <td>1.015433</td>\n",
       "      <td>0.281200</td>\n",
       "    </tr>\n",
       "    <tr>\n",
       "      <th>296</th>\n",
       "      <td>1.0</td>\n",
       "      <td>0.555585</td>\n",
       "      <td>-0.854702</td>\n",
       "      <td>1.522044</td>\n",
       "      <td>0.346139</td>\n",
       "      <td>0.776581</td>\n",
       "      <td>-0.035024</td>\n",
       "      <td>-2.074774</td>\n",
       "      <td>0.666783</td>\n",
       "      <td>0.855261</td>\n",
       "      <td>0.296039</td>\n",
       "    </tr>\n",
       "    <tr>\n",
       "      <th>297</th>\n",
       "      <td>1.0</td>\n",
       "      <td>0.722308</td>\n",
       "      <td>-0.492137</td>\n",
       "      <td>2.290697</td>\n",
       "      <td>0.043680</td>\n",
       "      <td>0.108040</td>\n",
       "      <td>1.209865</td>\n",
       "      <td>-1.614101</td>\n",
       "      <td>1.703805</td>\n",
       "      <td>0.586892</td>\n",
       "      <td>0.025635</td>\n",
       "    </tr>\n",
       "    <tr>\n",
       "      <th>298</th>\n",
       "      <td>1.0</td>\n",
       "      <td>0.177792</td>\n",
       "      <td>1.281954</td>\n",
       "      <td>2.390945</td>\n",
       "      <td>0.193431</td>\n",
       "      <td>0.122748</td>\n",
       "      <td>-0.753643</td>\n",
       "      <td>0.284720</td>\n",
       "      <td>1.653824</td>\n",
       "      <td>0.737121</td>\n",
       "      <td>0.142582</td>\n",
       "    </tr>\n",
       "    <tr>\n",
       "      <th>299</th>\n",
       "      <td>1.0</td>\n",
       "      <td>0.128954</td>\n",
       "      <td>1.350039</td>\n",
       "      <td>1.544023</td>\n",
       "      <td>0.631825</td>\n",
       "      <td>-0.465104</td>\n",
       "      <td>-0.035024</td>\n",
       "      <td>-1.349845</td>\n",
       "      <td>0.150027</td>\n",
       "      <td>1.393995</td>\n",
       "      <td>0.880761</td>\n",
       "    </tr>\n",
       "  </tbody>\n",
       "</table>\n",
       "<p>300 rows × 11 columns</p>\n",
       "</div>"
      ],
      "text/plain": [
       "      x0        x1        x2     price     share       eta         w  \\\n",
       "0    1.0  0.624347 -0.367594  6.342124  0.000052  1.575772  1.209865   \n",
       "1    1.0  0.127053  1.273785  1.930404  0.718443 -1.166985 -0.753643   \n",
       "2    1.0  0.831763  1.151899  2.371707  0.119751  0.428736 -0.035024   \n",
       "3    1.0  0.411836  1.213139  2.464050  0.093166 -2.201110  1.209865   \n",
       "4    1.0  0.802276 -0.196385  1.168595  0.138094  0.206746 -0.753643   \n",
       "..   ...       ...       ...       ...       ...       ...       ...   \n",
       "295  1.0  0.969012  0.600948  2.827173  0.276926  1.107024 -0.753643   \n",
       "296  1.0  0.555585 -0.854702  1.522044  0.346139  0.776581 -0.035024   \n",
       "297  1.0  0.722308 -0.492137  2.290697  0.043680  0.108040  1.209865   \n",
       "298  1.0  0.177792  1.281954  2.390945  0.193431  0.122748 -0.753643   \n",
       "299  1.0  0.128954  1.350039  1.544023  0.631825 -0.465104 -0.035024   \n",
       "\n",
       "            Z        mc  profitPerUnit   profits  \n",
       "0    0.807019  5.592656       0.749469  0.000039  \n",
       "1   -0.364226 -0.284854       2.215257  1.591536  \n",
       "2   -0.642238  1.751474       0.620233  0.074274  \n",
       "3    0.745363  1.754119       0.709931  0.066142  \n",
       "4   -0.771445  0.681657       0.486938  0.067243  \n",
       "..        ...       ...            ...       ...  \n",
       "295 -0.541641  1.811740       1.015433  0.281200  \n",
       "296 -2.074774  0.666783       0.855261  0.296039  \n",
       "297 -1.614101  1.703805       0.586892  0.025635  \n",
       "298  0.284720  1.653824       0.737121  0.142582  \n",
       "299 -1.349845  0.150027       1.393995  0.880761  \n",
       "\n",
       "[300 rows x 11 columns]"
      ]
     },
     "execution_count": 226,
     "metadata": {},
     "output_type": "execute_result"
    }
   ],
   "source": [
    "df3"
   ]
  },
  {
   "cell_type": "code",
   "execution_count": 256,
   "id": "66c45273",
   "metadata": {},
   "outputs": [
    {
     "name": "stdout",
     "output_type": "stream",
     "text": [
      "0\n",
      "1\n",
      "2\n",
      "3\n",
      "4\n"
     ]
    }
   ],
   "source": [
    "# Bootrstrapping to get SE\n",
    "num_iter = 1000\n",
    "alpha = []\n",
    "beta_0 = []\n",
    "beta_1 = []\n",
    "beta_2 = []\n",
    "\n",
    "random.seed(3600021601)\n",
    "for i in range(num_iter):\n",
    "    print(i)\n",
    "    df_sample = resample(df3,replace=True, n_samples=len(df3)).reset_index(drop = True)\n",
    "\n",
    "    X2 = df_sample['x1'].tolist()\n",
    "    X3 = df_sample['x2'].tolist()\n",
    "\n",
    "    BLP_IV_1 = BLP_IV_2 = []\n",
    "    for i in range(0,300):\n",
    "        if i in range(0, 300, 3):\n",
    "            BLP_IV_1.append(X2[i+1] + X2[i+2])\n",
    "\n",
    "        elif i in range(1, 300, 3):\n",
    "            BLP_IV_1.append(X2[i-1] + X2[i+1])\n",
    "\n",
    "        elif i in range(2, 300, 3):\n",
    "            BLP_IV_1.append(X2[i-1] + X2[i-2])\n",
    "\n",
    "\n",
    "    BLP_IV_2 = []\n",
    "\n",
    "    for i in range(0,300):\n",
    "        if i in range(0, 300, 3):\n",
    "            BLP_IV_2.append(X3[i+1] + X3[i+2])\n",
    "\n",
    "        elif i in range(1, 300, 3):\n",
    "            BLP_IV_2.append(X3[i-1] + X3[i+1])\n",
    "\n",
    "        elif i in range(2, 300, 3):\n",
    "            BLP_IV_2.append(X3[i-1] + X3[i-2])\n",
    "\n",
    "    BLP_IV_1 = np.array(BLP_IV_1).reshape(-1,1)\n",
    "    BLP_IV_2 = np.array(BLP_IV_2).reshape(-1,1)\n",
    "    X1 = np.array(df_sample['x0'].tolist()).reshape(-1,1)\n",
    "    X2 = np.array(X2).reshape(-1,1)\n",
    "    X3 = np.array(X3).reshape(-1,1)\n",
    "    prices = np.array(df_sample['price'].tolist()).reshape(-1,1)\n",
    "    instrumentMatrix = np.concatenate((X1, X2, X3, BLP_IV_1, BLP_IV_2),axis=1)\n",
    "    endogenousMatrix = np.concatenate((X1, X2, X3,prices),axis=1)\n",
    "    \n",
    "    solution_iter = scipy.optimize.minimize(objFunction, np.ones(306), constraints=({'type': 'eq', 'fun': allConstraints}))\n",
    "    delta_hat = solution_iter.x[:300] # 300*1 vector\n",
    "    eta_hat = solution_iter.x[300:305] # 5*1 vector\n",
    "    sigma_hat = solution_iter.x[-1] # 1*1 vector\n",
    "    delta_hat = np.array([delta_hat])\n",
    "    P_matrix = np.matmul(np.matmul(instrumentMatrix,np.linalg.inv(np.matmul(np.transpose(instrumentMatrix),instrumentMatrix))),np.transpose(instrumentMatrix))\n",
    "    \n",
    "    XPz = np.matmul(P_matrix, endogenousMatrix)\n",
    "    XPzX = np.matmul(endogenousMatrix.transpose(),XPz)\n",
    "    XPzX_inv = np.linalg.inv(XPzX)\n",
    "\n",
    "    XPzdelta = np.matmul(delta_hat,XPz)\n",
    "\n",
    "    # So, these are my alphas and betas (beta1, beta2, beta3)\n",
    "    \n",
    "    alpha_beta_iter = np.matmul(XPzX_inv,XPzdelta.transpose()) # A 4*1 vector with alpha, beta_0, beta_1, beta_2 \n",
    "    \n",
    "    alpha.append(alpha_beta_iter[0][0])\n",
    "    beta_0.append(alpha_beta_iter[1][0])\n",
    "    beta_1.append(alpha_beta_iter[2][0])\n",
    "    beta_2.append(alpha_beta_iter[3][0])"
   ]
  },
  {
   "cell_type": "code",
   "execution_count": null,
   "id": "e7b25a32",
   "metadata": {},
   "outputs": [],
   "source": []
  },
  {
   "cell_type": "markdown",
   "id": "8a9ba7a9",
   "metadata": {},
   "source": [
    "# 2.3)"
   ]
  },
  {
   "cell_type": "code",
   "execution_count": 236,
   "id": "0cc18248",
   "metadata": {},
   "outputs": [
    {
     "data": {
      "text/plain": [
       "(300, 5)"
      ]
     },
     "execution_count": 236,
     "metadata": {},
     "output_type": "execute_result"
    }
   ],
   "source": []
  },
  {
   "cell_type": "code",
   "execution_count": null,
   "id": "4a20999f",
   "metadata": {},
   "outputs": [],
   "source": []
  },
  {
   "cell_type": "code",
   "execution_count": null,
   "id": "9013cf23",
   "metadata": {},
   "outputs": [],
   "source": []
  },
  {
   "cell_type": "code",
   "execution_count": null,
   "id": "82ae7b9f",
   "metadata": {},
   "outputs": [],
   "source": []
  }
 ],
 "metadata": {
  "kernelspec": {
   "display_name": "Python 3",
   "language": "python",
   "name": "python3"
  },
  "language_info": {
   "codemirror_mode": {
    "name": "ipython",
    "version": 3
   },
   "file_extension": ".py",
   "mimetype": "text/x-python",
   "name": "python",
   "nbconvert_exporter": "python",
   "pygments_lexer": "ipython3",
   "version": "3.8.2"
  }
 },
 "nbformat": 4,
 "nbformat_minor": 5
}
