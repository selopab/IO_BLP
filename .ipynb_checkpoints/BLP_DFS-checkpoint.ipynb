{
 "cells": [
  {
   "cell_type": "code",
   "execution_count": 375,
   "id": "bc6ab8cb",
   "metadata": {},
   "outputs": [
    {
     "name": "stdout",
     "output_type": "stream",
     "text": [
      "Once deleted, variables cannot be recovered. Proceed (y/[n])? y\n"
     ]
    }
   ],
   "source": [
    "%reset"
   ]
  },
  {
   "cell_type": "code",
   "execution_count": 377,
   "id": "f0eb10d4",
   "metadata": {},
   "outputs": [],
   "source": [
    "import pandas as pd\n",
    "import scipy\n",
    "import scipy.io\n",
    "import numpy as np\n",
    "from scipy import optimize\n",
    "import math\n",
    "from collections import Counter\n",
    "#import knitro\n",
    "import matplotlib.pyplot as plt\n",
    "\n",
    "# set random seed\n",
    "import random\n",
    "random.seed(3600021601)"
   ]
  },
  {
   "cell_type": "code",
   "execution_count": 378,
   "id": "35007e03",
   "metadata": {},
   "outputs": [],
   "source": [
    "mat3 = scipy.io.loadmat('../inp/100markets3products.mat')  # load mat-file\n",
    "eta3 = mat3['eta'] # Simulated unobserved error\n",
    "alphas3 = mat3['alphas'] # Simulated alphas\n",
    "P_opt3 = mat3['P_opt']\n",
    "shares3 = mat3['shares']\n",
    "w3 = mat3['w']\n",
    "x1_3 = mat3['x1']\n",
    "xi3 = mat3['xi_all'].flatten(\"F\")\n",
    "Z3 = mat3['Z']\n",
    "prices_stacked3 = P_opt3.flatten(\"F\")\n",
    "shares_stacked3 = shares3.flatten(\"F\")\n",
    "\n",
    "#Create a df with product characteristics\n",
    "df3 = pd.DataFrame(x1_3, columns = ['x0','x1','x2'])\n",
    "df3['price'] = prices_stacked3\n",
    "df3['share'] = shares_stacked3\n",
    "df3['eta'] = eta3\n",
    "df3['w'] = w3\n",
    "df3['Z'] = Z3\n"
   ]
  },
  {
   "cell_type": "code",
   "execution_count": 379,
   "id": "583579e7",
   "metadata": {},
   "outputs": [],
   "source": [
    "# Now the 5 products data\n",
    "mat5 = scipy.io.loadmat('../inp/100markets5products.mat')  # load mat5-file\n",
    "eta5 = mat5['eta'] # Simulated unobserved error\n",
    "alphas5 = mat5['alphas'] # Simulated alphas\n",
    "P_opt5 = mat5['P_opt']\n",
    "shares5 = mat5['shares']\n",
    "w5 = mat5['w']\n",
    "x1_5 = mat5['x1']\n",
    "xi5 = mat5['xi_all'].flatten(\"F\")\n",
    "Z5 = mat5['Z']\n",
    "prices_stacked5 = P_opt5.flatten(\"F\")\n",
    "shares_stacked5 = shares5.flatten(\"F\")\n",
    "\n",
    "#Create a df with product characteristics\n",
    "df5 = pd.DataFrame(x1_5, columns = ['x0','x1','x2'])\n",
    "df5['price'] = prices_stacked5\n",
    "df5['share'] = shares_stacked5\n",
    "df5['eta'] = eta5\n",
    "df5['w'] = w5\n",
    "df5['Z'] = Z5"
   ]
  },
  {
   "cell_type": "markdown",
   "id": "31ccd2fe",
   "metadata": {},
   "source": [
    "## Distribution of prices"
   ]
  },
  {
   "cell_type": "code",
   "execution_count": 380,
   "id": "c7a9f0b2",
   "metadata": {},
   "outputs": [
    {
     "data": {
      "text/plain": [
       "<matplotlib.legend.Legend at 0x7fb3ba225a90>"
      ]
     },
     "execution_count": 380,
     "metadata": {},
     "output_type": "execute_result"
    },
    {
     "data": {
      "image/png": "[encoded data removed]",
      "text/plain": [
       "<Figure size 432x288 with 1 Axes>"
      ]
     },
     "metadata": {
      "needs_background": "light"
     },
     "output_type": "display_data"
    }
   ],
   "source": [
    "# Compare both histograms\n",
    "fig, ax = plt.subplots()\n",
    "\n",
    "# the argument bins control the number of bins and their exact position \n",
    "# by default, matplotlib will use 10 equally-spaced bins\n",
    "ax.hist(df5[\"price\"], bins = 15, ls='dotted', alpha = 0.5, lw=3, color= 'b', label='5 goods')\n",
    "ax.hist(df3[\"price\"], bins = 15, ls='dotted', alpha = 0.5, lw=3, color= 'r', label='3 goods')\n",
    "ax.set_title('Histogram for Prices')\n",
    "ax.legend()"
   ]
  },
  {
   "cell_type": "markdown",
   "id": "e94d1ad9",
   "metadata": {},
   "source": [
    "## Distribution of profits"
   ]
  },
  {
   "cell_type": "code",
   "execution_count": 381,
   "id": "dfb46cf5",
   "metadata": {},
   "outputs": [],
   "source": [
    "df3['mc'] = 2 + df3['w'] + df3['Z'] + df3['eta']\n",
    "df3['profitPerUnit'] = df3['price'] - df3['mc']\n",
    "df3['profits'] = df3['profitPerUnit']*df3['share']\n",
    "\n",
    "df5['mc'] = 2 + df5['w'] + df5['Z'] + df5['eta']\n",
    "df5['profitPerUnit'] = df5['price'] - df5['mc']\n",
    "df5['profits'] = df5['profitPerUnit']*df5['share']"
   ]
  },
  {
   "cell_type": "code",
   "execution_count": 382,
   "id": "fa3a4ba5",
   "metadata": {},
   "outputs": [
    {
     "data": {
      "text/plain": [
       "<matplotlib.legend.Legend at 0x7fb3ba25ae20>"
      ]
     },
     "execution_count": 382,
     "metadata": {},
     "output_type": "execute_result"
    },
    {
     "data": {
      "image/png": "[encoded data removed]",
      "text/plain": [
       "<Figure size 432x288 with 1 Axes>"
      ]
     },
     "metadata": {
      "needs_background": "light"
     },
     "output_type": "display_data"
    }
   ],
   "source": [
    "# Compare profits\n",
    "fig, ax = plt.subplots()\n",
    "\n",
    "# the argument bins control the number of bins and their exact position \n",
    "# by default, matplotlib will use 10 equally-spaced bins\n",
    "ax.hist(df5[\"profits\"], bins = 15, ls='dotted', alpha = 0.5, lw=3, color= 'b', label='5 goods')\n",
    "ax.hist(df3[\"profits\"], bins = 15, ls='dotted', alpha = 0.5, lw=3, color= 'r', label='3 goods')\n",
    "ax.set_title('Histogram for Profits')\n",
    "ax.legend()"
   ]
  },
  {
   "cell_type": "markdown",
   "id": "15bcdf6c",
   "metadata": {},
   "source": [
    "## Consumer surplus"
   ]
  },
  {
   "cell_type": "code",
   "execution_count": 383,
   "id": "b577ccb0",
   "metadata": {},
   "outputs": [],
   "source": [
    "tasteShocks3 = np.random.lognormal(0,1,500)\n",
    "tasteShocks5 = np.random.lognormal(0,1,500)\n"
   ]
  },
  {
   "cell_type": "markdown",
   "id": "1acba288",
   "metadata": {},
   "source": [
    "# Lets start with the 100 markets, 3 products scenario\n",
    "\n",
    "$U_{jm}= X_{jm,0}\\beta_0 + X_{jm,1}\\beta_1 + X_{jm,2}\\beta_2 - \\alpha_i p_{jm} + \\xi_{jm} + \\epsilon_{ijm} $"
   ]
  },
  {
   "cell_type": "code",
   "execution_count": 384,
   "id": "63f0f9b3",
   "metadata": {},
   "outputs": [],
   "source": [
    "mat3 = scipy.io.loadmat('../inp/100markets3products.mat')  # load mat-file\n",
    "eta3 = mat3['eta'] # Simulated unobserved error\n",
    "alphas3 = mat3['alphas'] # Simulated alphas\n",
    "P_opt3 = mat3['P_opt']\n",
    "shares3 = mat3['shares']\n",
    "w3 = mat3['w']\n",
    "x1_3 = mat3['x1']\n",
    "xi3 = mat3['xi_all']\n",
    "Z3 = mat3['Z']\n",
    "prices_stacked3 = P_opt3.flatten(\"F\")\n",
    "shares_stacked3 = shares3.flatten(\"F\")\n",
    "\n",
    "\n"
   ]
  },
  {
   "cell_type": "code",
   "execution_count": 385,
   "id": "acb19cd1",
   "metadata": {},
   "outputs": [
    {
     "data": {
      "text/plain": [
       "(100, 500)"
      ]
     },
     "execution_count": 385,
     "metadata": {},
     "output_type": "execute_result"
    }
   ],
   "source": [
    "alphas3.shape"
   ]
  },
  {
   "cell_type": "code",
   "execution_count": 386,
   "id": "f7102a0f",
   "metadata": {},
   "outputs": [
    {
     "data": {
      "text/plain": [
       "(3, 100)"
      ]
     },
     "execution_count": 386,
     "metadata": {},
     "output_type": "execute_result"
    }
   ],
   "source": [
    "P_opt3.shape"
   ]
  },
  {
   "cell_type": "code",
   "execution_count": 388,
   "id": "7c59e901",
   "metadata": {},
   "outputs": [],
   "source": [
    "utilityMatrix = []\n",
    "taste_shocks3 = []\n",
    "for j in range(0,100):\n",
    "    initialJ = j*3\n",
    "    finalJ = (j+1)*3\n",
    "    for i in range(0,500):\n",
    "        #print(i)\n",
    "        initialI = i*3 \n",
    "        finalI = (i+1)*3\n",
    "        alpha = alphas3[j,i]\n",
    "        x0 = x1_3[initialJ:finalJ,0]\n",
    "        x1 = x1_3[initialJ:finalJ,1]\n",
    "        x2 = x1_3[initialJ:finalJ,2]\n",
    "        xi = xi3[initialJ:finalJ,0]\n",
    "        p1 = P_opt3[0,j]\n",
    "        p2 = P_opt3[1,j]\n",
    "        p3 = P_opt3[2,j]\n",
    "\n",
    "        epsilon1 = np.random.lognormal(0,1)\n",
    "        epsilon2 = np.random.lognormal(0,1)\n",
    "        epsilon3 = np.random.lognormal(0,1) \n",
    "        \n",
    "        taste_shocks3.append([epsilon1,epsilon2,epsilon3])\n",
    "        \n",
    "        \n",
    "        u0 = 0 \n",
    "        u1 = 5*x0[0] + x1[0] + x2[0] + xi[0] - alpha*p1 + epsilon1\n",
    "        u2 = 5*x0[1] + x1[1] + x2[1] + xi[1] - alpha*p2 + epsilon2\n",
    "        u3 = 5*x0[2] + x1[2] + x2[2] + xi[2] - alpha*p3 + epsilon3\n",
    "        \n",
    "        utilities = [u0,u1,u2,u3]\n",
    "        #prices = [0,p1,p2,p3]\n",
    "        #max_value = max(utilities)\n",
    "        #max_index = utilities.index(max_value)\n",
    "        #cs = utilities[max_index] - prices[max_index]\n",
    "        \n",
    "        utilityMatrix.append([u0,u1,u2,u3]) #,max_index,cs\n"
   ]
  },
  {
   "cell_type": "code",
   "execution_count": 389,
   "id": "b96b09e3",
   "metadata": {},
   "outputs": [],
   "source": [
    "df_utilityMatrix3 = pd.DataFrame(utilityMatrix, columns = ['u0','u1','u2', 'u3']) #,'choice','cs'\n",
    "df_utilityMatrix3['choice']=df_utilityMatrix3.idxmax(axis=1)\n",
    "df_utilityMatrix3['utility'] = df_utilityMatrix3.max(axis=1)\n"
   ]
  },
  {
   "cell_type": "code",
   "execution_count": 391,
   "id": "94415079",
   "metadata": {},
   "outputs": [
    {
     "data": {
      "text/plain": [
       "array([[<AxesSubplot:title={'center':'utility'}>]], dtype=object)"
      ]
     },
     "execution_count": 391,
     "metadata": {},
     "output_type": "execute_result"
    },
    {
     "data": {
      "image/png": "[encoded data removed]",
      "text/plain": [
       "<Figure size 432x288 with 1 Axes>"
      ]
     },
     "metadata": {
      "needs_background": "light"
     },
     "output_type": "display_data"
    }
   ],
   "source": [
    "df_utilityMatrix3.hist(column='utility') #weird thing, probably wrong"
   ]
  },
  {
   "cell_type": "code",
   "execution_count": 392,
   "id": "5ffbe2b2",
   "metadata": {},
   "outputs": [],
   "source": [
    "# Now for the 5 products\n",
    "utilityMatrix = []\n",
    "taste_shocks5 = []\n",
    "for j in range(0,100):\n",
    "    initialJ = j*5\n",
    "    finalJ = (j+1)*5\n",
    "    for i in range(0,500):\n",
    "        #print(i)\n",
    "        initialI = i*5 \n",
    "        finalI = (i+1)*5\n",
    "        alpha = alphas3[j,i]\n",
    "        x0 = x1_5[initialJ:finalJ,0]\n",
    "        x1 = x1_5[initialJ:finalJ,1]\n",
    "        x2 = x1_5[initialJ:finalJ,2]\n",
    "        x3 = x1_5[initialJ:finalJ,0]\n",
    "        x4 = x1_5[initialJ:finalJ,1]\n",
    "        xi = xi5[initialJ:finalJ]\n",
    "        p1 = P_opt5[0,j]\n",
    "        p2 = P_opt5[1,j]\n",
    "        p3 = P_opt5[2,j]\n",
    "        p4 = P_opt5[0,j]\n",
    "        p5 = P_opt5[1,j]\n",
    "\n",
    "        epsilon1 = np.random.lognormal(0,1)\n",
    "        epsilon2 = np.random.lognormal(0,1)\n",
    "        epsilon3 = np.random.lognormal(0,1) \n",
    "        epsilon4 = np.random.lognormal(0,1)\n",
    "        epsilon5 = np.random.lognormal(0,1)\n",
    "        \n",
    "        taste_shocks5.append([epsilon1,epsilon2,epsilon3,epsilon4,epsilon5])\n",
    "        \n",
    "        \n",
    "        u0 = 0 \n",
    "        u1 = 5*x0[0] + x1[0] + x2[0] + xi[0] - alpha*p1 + epsilon1\n",
    "        u2 = 5*x0[1] + x1[1] + x2[1] + xi[1] - alpha*p2 + epsilon2\n",
    "        u3 = 5*x0[2] + x1[2] + x2[2] + xi[2] - alpha*p3 + epsilon3\n",
    "        u4 = 5*x0[1] + x1[3] + x2[3] + xi[3] - alpha*p4 + epsilon4\n",
    "        u5 = 5*x0[2] + x1[4] + x2[4] + xi[4] - alpha*p5 + epsilon5\n",
    "        \n",
    "        utilities = [u0,u1,u2,u3,u4,u5]\n",
    "        #prices = [0,p1,p2,p3]\n",
    "        #max_value = max(utilities)\n",
    "        #max_index = utilities.index(max_value)\n",
    "        #cs = utilities[max_index] - prices[max_index]\n",
    "        \n",
    "        utilityMatrix.append(utilities) #,max_index,cs"
   ]
  },
  {
   "cell_type": "code",
   "execution_count": 393,
   "id": "64193119",
   "metadata": {},
   "outputs": [],
   "source": [
    "df_utilityMatrix5 = pd.DataFrame(utilityMatrix, columns = ['u0','u1','u2', 'u3','u4','u5']) #,'choice','cs'\n",
    "df_utilityMatrix5['choice']=df_utilityMatrix5.idxmax(axis=1)\n",
    "df_utilityMatrix5['utility'] = df_utilityMatrix5.max(axis=1)"
   ]
  },
  {
   "cell_type": "code",
   "execution_count": 394,
   "id": "388e1281",
   "metadata": {},
   "outputs": [
    {
     "data": {
      "text/plain": [
       "array([[<AxesSubplot:title={'center':'utility'}>]], dtype=object)"
      ]
     },
     "execution_count": 394,
     "metadata": {},
     "output_type": "execute_result"
    },
    {
     "data": {
      "image/png": "[encoded data removed]",
      "text/plain": [
       "<Figure size 432x288 with 1 Axes>"
      ]
     },
     "metadata": {
      "needs_background": "light"
     },
     "output_type": "display_data"
    }
   ],
   "source": [
    "df_utilityMatrix5.hist(column='utility') #weird thing, probably wrong"
   ]
  },
  {
   "cell_type": "code",
   "execution_count": 395,
   "id": "f2c60f84",
   "metadata": {},
   "outputs": [
    {
     "data": {
      "text/plain": [
       "<matplotlib.legend.Legend at 0x7fb3bb6a2e80>"
      ]
     },
     "execution_count": 395,
     "metadata": {},
     "output_type": "execute_result"
    },
    {
     "data": {
      "image/png": "[encoded data removed]",
      "text/plain": [
       "<Figure size 432x288 with 1 Axes>"
      ]
     },
     "metadata": {
      "needs_background": "light"
     },
     "output_type": "display_data"
    }
   ],
   "source": [
    "# Compare CS\n",
    "fig, ax = plt.subplots()\n",
    "\n",
    "# the argument bins control the number of bins and their exact position \n",
    "# by default, matplotlib will use 10 equally-spaced bins\n",
    "ax.hist(df_utilityMatrix5[\"utility\"], bins = 15, ls='dotted', alpha = 0.5, lw=3, color= 'b', label='5 goods')\n",
    "ax.hist(df_utilityMatrix3[\"utility\"], bins = 15, ls='dotted', alpha = 0.5, lw=3, color= 'r', label='3 goods')\n",
    "ax.set_title('Histogram for CS')\n",
    "ax.legend()"
   ]
  },
  {
   "cell_type": "markdown",
   "id": "7571ee22",
   "metadata": {},
   "source": [
    "# BLP and Hausman Instruments\n",
    "\n",
    "## 2.\n",
    "\n",
    "### 2.a)"
   ]
  },
  {
   "cell_type": "markdown",
   "id": "47e51c09",
   "metadata": {},
   "source": [
    "$E[\\xi_{jm}X_{jm}]$"
   ]
  },
  {
   "cell_type": "code",
   "execution_count": 396,
   "id": "6485678d",
   "metadata": {},
   "outputs": [
    {
     "data": {
      "text/plain": [
       "(300, 1)"
      ]
     },
     "execution_count": 396,
     "metadata": {},
     "output_type": "execute_result"
    }
   ],
   "source": [
    "xi3.shape"
   ]
  },
  {
   "cell_type": "code",
   "execution_count": 397,
   "id": "855e254c",
   "metadata": {},
   "outputs": [
    {
     "data": {
      "text/plain": [
       "array([13.03831111,  6.22257672, 10.65945097])"
      ]
     },
     "execution_count": 397,
     "metadata": {},
     "output_type": "execute_result"
    }
   ],
   "source": [
    "np.mean(np.matmul(np.transpose(xi3),x1_3), axis=0)"
   ]
  },
  {
   "cell_type": "markdown",
   "id": "8ef33263",
   "metadata": {},
   "source": [
    "$E[\\xi_{jm}p_{jm}]$"
   ]
  },
  {
   "cell_type": "code",
   "execution_count": 398,
   "id": "e4fc164d",
   "metadata": {},
   "outputs": [
    {
     "data": {
      "text/plain": [
       "array([88.48744114])"
      ]
     },
     "execution_count": 398,
     "metadata": {},
     "output_type": "execute_result"
    }
   ],
   "source": [
    "np.matmul(np.transpose(prices_stacked3),xi3)"
   ]
  },
  {
   "cell_type": "markdown",
   "id": "aa985d0a",
   "metadata": {},
   "source": [
    "$E[\\xi_{jm}\\bar{p}_{jm}]$"
   ]
  },
  {
   "cell_type": "code",
   "execution_count": 399,
   "id": "7fe169ef",
   "metadata": {},
   "outputs": [],
   "source": [
    "hausman_vector = np.zeros(300)\n",
    "for i in range(0,300):\n",
    "    hausman_vector[i] = np.mean(np.delete(prices_stacked3, i))"
   ]
  },
  {
   "cell_type": "code",
   "execution_count": 400,
   "id": "1cfc12dc",
   "metadata": {},
   "outputs": [
    {
     "data": {
      "text/plain": [
       "0.13153694769686025"
      ]
     },
     "execution_count": 400,
     "metadata": {},
     "output_type": "execute_result"
    }
   ],
   "source": [
    "np.mean(hausman_vector*xi3)"
   ]
  },
  {
   "cell_type": "markdown",
   "id": "fa935124",
   "metadata": {},
   "source": [
    "$E[\\xi_{jm}Z_{jm}]$"
   ]
  },
  {
   "cell_type": "code",
   "execution_count": 401,
   "id": "9a67af5c",
   "metadata": {},
   "outputs": [
    {
     "data": {
      "text/plain": [
       "-0.00814558805654365"
      ]
     },
     "execution_count": 401,
     "metadata": {},
     "output_type": "execute_result"
    }
   ],
   "source": [
    "np.mean(Z3*xi3)"
   ]
  },
  {
   "cell_type": "markdown",
   "id": "e59eface",
   "metadata": {},
   "source": [
    "### 2.b) \n",
    "\n",
    "Only the $E[\\xi_{jm}X_{jm}]$ moments seem to be (relatively) valid, since they are relatively small (<0.1). Both price moments give relatively large expected values, so they don't seem valid. "
   ]
  },
  {
   "cell_type": "markdown",
   "id": "1b70d577",
   "metadata": {},
   "source": [
    "### 2.c) \n",
    "\n",
    "It seems like the only reasonable instruments are the BLP ones, since its moment contition is close to zero. Hausman instruments give a high mean, so it's not OK to use them. "
   ]
  },
  {
   "cell_type": "markdown",
   "id": "a5545dc8",
   "metadata": {},
   "source": [
    "# 2.2) "
   ]
  },
  {
   "cell_type": "markdown",
   "id": "04008141",
   "metadata": {},
   "source": [
    "I think that the moments should be:\n",
    "\n",
    "$E[\\xi_{jm}f(Z_{jm})]=0$\n",
    "\n",
    "$E[\\xi_{jm}f(x_{jm})]=0$\n",
    "\n",
    "$E[\\xi_{jm}f(w)]=0$"
   ]
  },
  {
   "cell_type": "markdown",
   "id": "23bd18c0",
   "metadata": {},
   "source": [
    "## Define numeeric integral function"
   ]
  },
  {
   "cell_type": "markdown",
   "id": "649c48a3",
   "metadata": {},
   "source": [
    "Note that, since we're using $X_{300\\times3}$, $Z_{300\\times1}$, and $W_{300\\times1}$ as instruments, we'll need to estimate $\\eta_{5\\times1}$ in the objective function. \n",
    "\n",
    "Moreover, we'll be estimating 306 parameters through this procedure:\n",
    "\n",
    "300 $\\delta$s\n",
    "\n",
    "5 $\\eta$s\n",
    "\n",
    "1 $\\sigma_{\\alpha}$\n",
    "\n",
    "I'll use W = I, at least for now"
   ]
  },
  {
   "cell_type": "code",
   "execution_count": 402,
   "id": "732cb1da",
   "metadata": {},
   "outputs": [],
   "source": [
    "R = 500\n",
    "tasteShocks = np.random.lognormal(0,1,[100,R])\n",
    "params = np.ones(306)"
   ]
  },
  {
   "cell_type": "code",
   "execution_count": 403,
   "id": "c8f16bf3",
   "metadata": {},
   "outputs": [
    {
     "data": {
      "text/plain": [
       "(100, 500)"
      ]
     },
     "execution_count": 403,
     "metadata": {},
     "output_type": "execute_result"
    }
   ],
   "source": [
    "tasteShocks.shape"
   ]
  },
  {
   "cell_type": "code",
   "execution_count": 404,
   "id": "85db69b3",
   "metadata": {},
   "outputs": [
    {
     "data": {
      "text/plain": [
       "(100, 500)"
      ]
     },
     "execution_count": 404,
     "metadata": {},
     "output_type": "execute_result"
    }
   ],
   "source": [
    "tasteShocks.shape"
   ]
  },
  {
   "cell_type": "code",
   "execution_count": 405,
   "id": "58776bda",
   "metadata": {},
   "outputs": [],
   "source": [
    "def objFunction(params):\n",
    "    delta = params[0:300]\n",
    "    eta = params[300:305]\n",
    "    sigma = params[305]\n",
    "    \n",
    "    value = np.matmul(np.transpose(eta),eta)\n",
    "    \n",
    "    return(value)"
   ]
  },
  {
   "cell_type": "markdown",
   "id": "4c34aa5c",
   "metadata": {},
   "source": [
    "### Constraints:\n",
    "\n",
    "We will have 305 constraints as well. One for each $s_{jm}$ (there are 300 of them ), one for each $\\eta$ (5 of them) "
   ]
  },
  {
   "cell_type": "code",
   "execution_count": 406,
   "id": "737a34d4",
   "metadata": {},
   "outputs": [
    {
     "data": {
      "text/plain": [
       "0.7500304739471639"
      ]
     },
     "execution_count": 406,
     "metadata": {},
     "output_type": "execute_result"
    }
   ],
   "source": [
    "tasteShocks[0][1]"
   ]
  },
  {
   "cell_type": "markdown",
   "id": "f962171c",
   "metadata": {},
   "source": [
    "## shares constraints V1\n",
    "\n",
    "def sharesConstraints(params):\n",
    "    deltaVector = params[0:300]\n",
    "    etaVector = params[300:305]\n",
    "    sigma = params[305]\n",
    "    muMatrix = []\n",
    "    for i in range(0,R):\n",
    "        muMatrix.append(-tasteShocks[0][i]*prices_stacked3*sigma)\n",
    "\n",
    "    muMatrix = np.array(muMatrix)\n",
    "    shares = []\n",
    "\n",
    "    for j in range(0,300):\n",
    "        if j%3==0:\n",
    "            delta1mu = deltaVector[j]+muMatrix[:,j]\n",
    "            delta2mu = deltaVector[j+1]+muMatrix[:,j+1]\n",
    "            delta3mu = deltaVector[j+2]+muMatrix[:,j+2]\n",
    "\n",
    "            maxDeltaMu = np.max(np.array([delta1mu,delta2mu,delta3mu]))\n",
    "\n",
    "            exp_deltaMu1 = np.exp(delta1+muMatrix[:,j]) #-maxDeltaMu)\n",
    "            exp_deltaMu2 = np.exp(delta2+muMatrix[:,j+1]) #-maxDeltaMu)\n",
    "            exp_deltaMu3 = np.exp(delta3+muMatrix[:,j+2]) #-maxDeltaMu)\n",
    "            sumExp = exp_deltaMu1 + exp_deltaMu2 + exp_deltaMu3 #+ np.exp(-maxDeltaMu)\n",
    "            exp_deltaMu1_divided = exp_deltaMu1/sumExp\n",
    "            exp_deltaMu2_divided = exp_deltaMu2/sumExp\n",
    "            exp_deltaMu3_divided = exp_deltaMu3/sumExp\n",
    "\n",
    "            shares.append((exp_deltaMu1_divided).sum()/R)\n",
    "            shares.append((exp_deltaMu2_divided).sum()/R)\n",
    "            shares.append((exp_deltaMu3_divided).sum()/R)\n",
    "\n",
    "    sharesDif = shares_stacked3-shares\n",
    "    return(sharesDif)\n",
    "\n",
    "sharesConstraints(params).shape        "
   ]
  },
  {
   "cell_type": "code",
   "execution_count": 407,
   "id": "a7cdcdb2",
   "metadata": {},
   "outputs": [
    {
     "data": {
      "text/plain": [
       "(100, 500)"
      ]
     },
     "execution_count": 407,
     "metadata": {},
     "output_type": "execute_result"
    }
   ],
   "source": [
    "tasteShocks.shape"
   ]
  },
  {
   "cell_type": "code",
   "execution_count": 408,
   "id": "1e758922",
   "metadata": {},
   "outputs": [
    {
     "data": {
      "text/plain": [
       "(3, 100)"
      ]
     },
     "execution_count": 408,
     "metadata": {},
     "output_type": "execute_result"
    }
   ],
   "source": [
    "P_opt3.shape"
   ]
  },
  {
   "cell_type": "code",
   "execution_count": 409,
   "id": "923d0876",
   "metadata": {},
   "outputs": [],
   "source": [
    "deltaVector = params[0:300]\n",
    "etaVector = params[300:305]\n",
    "sigma = params[305]\n",
    "muMatrix = np.matmul(P_opt3,tasteShocks)\n"
   ]
  },
  {
   "cell_type": "code",
   "execution_count": 410,
   "id": "ccc3a073",
   "metadata": {},
   "outputs": [
    {
     "data": {
      "text/plain": [
       "(100, 500)"
      ]
     },
     "execution_count": 410,
     "metadata": {},
     "output_type": "execute_result"
    }
   ],
   "source": [
    "tasteShocks.shape"
   ]
  },
  {
   "cell_type": "code",
   "execution_count": 411,
   "id": "60338daf",
   "metadata": {},
   "outputs": [
    {
     "data": {
      "text/plain": [
       "(300,)"
      ]
     },
     "execution_count": 411,
     "metadata": {},
     "output_type": "execute_result"
    }
   ],
   "source": [
    "## Start with shares constraints\n",
    "\n",
    "def sharesConstraints(params):\n",
    "    deltaVector = params[0:300]\n",
    "    etaVector = params[300:305]\n",
    "    sigma = params[305]\n",
    "    shares = []\n",
    "\n",
    "    for j in range(0,300):\n",
    "        if j%3==0:\n",
    "            market = math.floor(j/3)\n",
    "            marketShocks = tasteShocks[market,:]\n",
    "            prices = P_opt3[:,market]\n",
    "            delta1mu = deltaVector[j]-sigma*marketShocks*prices[0]\n",
    "            delta2mu = deltaVector[j+1]-sigma*marketShocks*prices[1]\n",
    "            delta3mu = deltaVector[j+2]-sigma*marketShocks*prices[2]\n",
    "\n",
    "            #maxDeltaMu = np.max(np.array([delta1mu,delta2mu,delta3mu]))\n",
    "\n",
    "            exp_deltaMu1 = np.exp(delta1mu) #-maxDeltaMu)\n",
    "            exp_deltaMu2 = np.exp(delta2mu) #-maxDeltaMu)\n",
    "            exp_deltaMu3 = np.exp(delta3mu) #-maxDeltaMu)\n",
    "            sumExp = exp_deltaMu1 + exp_deltaMu2 + exp_deltaMu3 +1 #+ np.exp(-maxDeltaMu)\n",
    "            exp_deltaMu1_divided = exp_deltaMu1/sumExp\n",
    "            exp_deltaMu2_divided = exp_deltaMu2/sumExp\n",
    "            exp_deltaMu3_divided = exp_deltaMu3/sumExp\n",
    "\n",
    "            shares.append((exp_deltaMu1_divided).sum()/R)\n",
    "            shares.append((exp_deltaMu2_divided).sum()/R)\n",
    "            shares.append((exp_deltaMu3_divided).sum()/R)\n",
    "\n",
    "    sharesDif = shares_stacked3-shares\n",
    "    return(sharesDif)\n",
    "\n",
    "sharesConstraints(params).shape        "
   ]
  },
  {
   "cell_type": "code",
   "execution_count": 412,
   "id": "28ea9f81",
   "metadata": {},
   "outputs": [],
   "source": [
    "# Eta constraints\n",
    "def etaConstraints(params):\n",
    "    deltaVector = params[0:300]\n",
    "    etaVector = params[300:305]\n",
    "    sigma = params[305]\n",
    "    \n",
    "    instrumentMatrix = np.concatenate((x1_3,Z3,w3),axis=1)\n",
    "    P_matrix = np.matmul(np.matmul(instrumentMatrix,np.linalg.inv(np.matmul(np.transpose(instrumentMatrix),instrumentMatrix))),np.transpose(instrumentMatrix))\n",
    "    xi_hat = np.matmul(np.ones([300,300])-np.matmul(np.matmul(x1_3,np.linalg.inv(np.matmul(np.matmul(np.transpose(x1_3),P_matrix),x1_3))),np.matmul(np.transpose(x1_3),P_matrix)),deltaVector)\n",
    "    \n",
    "    moment = np.matmul(np.transpose(instrumentMatrix),xi_hat)/300\n",
    "    \n",
    "    constraint = etaVector - moment\n",
    "    \n",
    "    return(constraint)"
   ]
  },
  {
   "cell_type": "code",
   "execution_count": 413,
   "id": "4a3f1c71",
   "metadata": {},
   "outputs": [],
   "source": [
    "def allConstraints(params):\n",
    "    shares = sharesConstraints(params)\n",
    "    etas   = etaConstraints(params)\n",
    "    return np.concatenate((shares,etas), axis=0)"
   ]
  },
  {
   "cell_type": "code",
   "execution_count": 414,
   "id": "ef4c6abd",
   "metadata": {},
   "outputs": [],
   "source": [
    "solution = scipy.optimize.minimize(objFunction, np.ones(306), constraints=({'type': 'eq', 'fun': allConstraints}))\n"
   ]
  },
  {
   "cell_type": "code",
   "execution_count": 415,
   "id": "8d00a590",
   "metadata": {},
   "outputs": [
    {
     "data": {
      "text/plain": [
       "True"
      ]
     },
     "execution_count": 415,
     "metadata": {},
     "output_type": "execute_result"
    }
   ],
   "source": [
    "# Just to test that the constraints make sense\n",
    "solution.success"
   ]
  }
 ],
 "metadata": {
  "kernelspec": {
   "display_name": "Python 3",
   "language": "python",
   "name": "python3"
  },
  "language_info": {
   "codemirror_mode": {
    "name": "ipython",
    "version": 3
   },
   "file_extension": ".py",
   "mimetype": "text/x-python",
   "name": "python",
   "nbconvert_exporter": "python",
   "pygments_lexer": "ipython3",
   "version": "3.8.2"
  }
 },
 "nbformat": 4,
 "nbformat_minor": 5
}
