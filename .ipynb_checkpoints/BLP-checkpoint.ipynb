{
 "cells": [
  {
   "cell_type": "code",
   "execution_count": 1,
   "id": "bc6ab8cb",
   "metadata": {},
   "outputs": [
    {
     "name": "stdout",
     "output_type": "stream",
     "text": [
      "Once deleted, variables cannot be recovered. Proceed (y/[n])? y\n"
     ]
    }
   ],
   "source": [
    "%reset"
   ]
  },
  {
   "cell_type": "code",
   "execution_count": 3,
   "id": "f0eb10d4",
   "metadata": {},
   "outputs": [],
   "source": [
    "import pandas as pd\n",
    "import scipy\n",
    "import numpy as np\n",
    "from scipy import optimize\n",
    "import math\n",
    "from collections import Counter\n",
    "#import knitro\n",
    "import matplotlib.pyplot as plt\n",
    "\n",
    "# set random seed\n",
    "import random\n",
    "random.seed(3600021601)"
   ]
  },
  {
   "cell_type": "code",
   "execution_count": 37,
   "id": "35007e03",
   "metadata": {},
   "outputs": [],
   "source": [
    "mat = scipy.io.loadmat('../inp/100markets3products.mat')  # load mat-file\n",
    "\n",
    "eta = mat['eta'] # Simulated unobserved error\n",
    "alphas = mat['alphas'] # Simulated alphas\n",
    "P_opt = mat['P_opt']\n",
    "shares = mat['shares']\n",
    "w = mat['w']\n",
    "x1 = mat['x1']\n",
    "xi_all = mat['xi_all']\n",
    "Z = mat['Z']\n",
    "\n",
    "x_m1 = x1[0:100,:]   # Attributes of all products in market 1\n",
    "x_m2 = x1[100:200,:] # Attributes of all products in market 2\n",
    "x_m3 = x1[200:300,:] # Attributes of all products in market 3\n",
    "\n",
    "xi_m1 = xi_all[0:100]\n",
    "xi_m2 = xi_all[100:200]\n",
    "xi_m3 = xi_all[200:300]\n",
    "\n",
    "p_vector = P_opt.reshape([300,1]) #One price per each product being sold"
   ]
  },
  {
   "cell_type": "code",
   "execution_count": 36,
   "id": "ea4ebe2a",
   "metadata": {},
   "outputs": [
    {
     "data": {
      "text/plain": [
       "(100, 3)"
      ]
     },
     "execution_count": 36,
     "metadata": {},
     "output_type": "execute_result"
    }
   ],
   "source": [
    "x_j1.shape"
   ]
  },
  {
   "cell_type": "code",
   "execution_count": 5,
   "id": "7fe169ef",
   "metadata": {},
   "outputs": [],
   "source": [
    "hausman_vector = np.zeros(300)\n",
    "for i in range(0,300):\n",
    "    hausman_vector[i] = np.mean(np.delete(p_vector, i))"
   ]
  },
  {
   "cell_type": "markdown",
   "id": "7571ee22",
   "metadata": {},
   "source": [
    "# BLP and Hausman Instruments\n",
    "\n",
    "## 1.\n",
    "\n",
    "### 1.a)"
   ]
  },
  {
   "cell_type": "markdown",
   "id": "47e51c09",
   "metadata": {},
   "source": [
    "$E[\\xi_{jm}X_{jm}]$"
   ]
  },
  {
   "cell_type": "code",
   "execution_count": 5,
   "id": "855e254c",
   "metadata": {},
   "outputs": [
    {
     "data": {
      "text/plain": [
       "array([0.04346104, 0.02074192, 0.0355315 ])"
      ]
     },
     "execution_count": 5,
     "metadata": {},
     "output_type": "execute_result"
    }
   ],
   "source": [
    "np.mean(x1*xi_all, axis=0)"
   ]
  },
  {
   "cell_type": "markdown",
   "id": "8ef33263",
   "metadata": {},
   "source": [
    "$E[\\xi_{jm}p_{jm}]$"
   ]
  },
  {
   "cell_type": "code",
   "execution_count": 6,
   "id": "9d671bde",
   "metadata": {},
   "outputs": [
    {
     "data": {
      "text/plain": [
       "0.1482331585398398"
      ]
     },
     "execution_count": 6,
     "metadata": {},
     "output_type": "execute_result"
    }
   ],
   "source": [
    "np.mean(p_vector*xi_all)"
   ]
  },
  {
   "cell_type": "markdown",
   "id": "aa985d0a",
   "metadata": {},
   "source": [
    "$E[\\xi_{jm}\\bar{p}_{jm}]$"
   ]
  },
  {
   "cell_type": "code",
   "execution_count": 7,
   "id": "1cfc12dc",
   "metadata": {},
   "outputs": [
    {
     "data": {
      "text/plain": [
       "0.13153694769686025"
      ]
     },
     "execution_count": 7,
     "metadata": {},
     "output_type": "execute_result"
    }
   ],
   "source": [
    "np.mean(hausman_vector*xi_all)"
   ]
  },
  {
   "cell_type": "markdown",
   "id": "fa935124",
   "metadata": {},
   "source": [
    "$E[\\xi_{jm}Z_{jm}]$"
   ]
  },
  {
   "cell_type": "code",
   "execution_count": 8,
   "id": "9a67af5c",
   "metadata": {},
   "outputs": [
    {
     "data": {
      "text/plain": [
       "-0.00814558805654365"
      ]
     },
     "execution_count": 8,
     "metadata": {},
     "output_type": "execute_result"
    }
   ],
   "source": [
    "np.mean(Z*xi_all)"
   ]
  },
  {
   "cell_type": "markdown",
   "id": "e59eface",
   "metadata": {},
   "source": [
    "### 1.b) \n",
    "\n",
    "Only the $E[\\xi_{jm}X_{jm}]$ moments seem to be (relatively) valid, since they are relatively small (<0.1). Both price moments give relatively large expected values, so they don't seem valid. "
   ]
  },
  {
   "cell_type": "markdown",
   "id": "1b70d577",
   "metadata": {},
   "source": [
    "## 1.c) \n",
    "\n",
    "It seems like the only reasonable instruments are the BLP ones, since its moment contition is close to zero. Hausman instruments give a high mean, so it's not OK to use them. "
   ]
  },
  {
   "cell_type": "markdown",
   "id": "a5545dc8",
   "metadata": {},
   "source": [
    "# 2) "
   ]
  },
  {
   "cell_type": "markdown",
   "id": "04008141",
   "metadata": {},
   "source": [
    "I think that the moments should be:\n",
    "\n",
    "$E[\\xi_{jm}f(Z_{jm})]=0$\n",
    "\n",
    "$E[\\xi_{jm}f(x_{jm})]=0$\n",
    "\n",
    "$E[\\xi_{jm}f(w)]=0$"
   ]
  },
  {
   "cell_type": "markdown",
   "id": "23bd18c0",
   "metadata": {},
   "source": [
    "## Define numeeric integral function"
   ]
  },
  {
   "cell_type": "code",
   "execution_count": 17,
   "id": "a6c5c99d",
   "metadata": {},
   "outputs": [],
   "source": [
    "tasteShocks = np.random.lognormal(0,1,100)\n",
    "numberOfDraws = 1000\n",
    "randomDrawFromTasteShocks = np.random.choice(tasteShocks, numberOfDraws, replace=True, p=None)\n",
    "alpha_0 = beta1_0 = beta2_0 = beta3_0 = delta_0 = 1\n",
    "tol = 1/10000\n"
   ]
  },
  {
   "cell_type": "code",
   "execution_count": 28,
   "id": "11444f6f",
   "metadata": {},
   "outputs": [],
   "source": [
    "def integral(vector):\n",
    "    delta,market,product = vector\n",
    "    price = P_opt[product, market]\n",
    "    priceTimesParameter = price*randomDrawFromTasteShocks\n",
    "    integralValue=0\n",
    "    for i in range(numberOfDraws):\n",
    "        integralValue = integralValue + (np.exp(delta+priceTimesParameter[i])/(1+np.exp(delta+priceTimesParameter[i])))\n",
    "    integralValue = integralValue/numberOfDraws\n",
    "    return(integralValue)"
   ]
  },
  {
   "cell_type": "code",
   "execution_count": null,
   "id": "e338118e",
   "metadata": {},
   "outputs": [],
   "source": [
    "def contraction(vector):\n",
    "    delta0, market, product, tol = vector\n",
    "    share = shares[product, market]\n",
    "    integralValue = integral(vector[0:3])\n",
    "    delta1 = delta0 + np.log(share) - np.log(integralValue)\n",
    "    dif = np.abs(delta1-delta0)\n",
    "    \n",
    "    while dif>tol:\n",
    "        delta0 = delta1\n",
    "        vector = [delta0,market,product]\n",
    "        integralValue = integral(vector[0:3])\n",
    "        delta1 = delta0 + np.log(share) - np.log(integralValue)\n",
    "        dif = np.abs(delta1-delta0)\n",
    "    \n",
    "    return(delta1)"
   ]
  },
  {
   "cell_type": "code",
   "execution_count": null,
   "id": "5251f944",
   "metadata": {},
   "outputs": [],
   "source": [
    "## Get the whole delta vector for each market\n",
    "deltaMatrix = np.zeros([3,100])\n",
    "initial_delta = 1\n",
    "for m in range(100):\n",
    "    for j in range(3):\n",
    "        deltaMatrix[j,m] = contraction([initial_delta,m,j,tol])\n",
    "        \n",
    "    "
   ]
  },
  {
   "cell_type": "code",
   "execution_count": 43,
   "id": "0ad0fe5e",
   "metadata": {},
   "outputs": [],
   "source": [
    "alpha = 1\n",
    "beta = np.array([1,1,1])"
   ]
  },
  {
   "cell_type": "code",
   "execution_count": 74,
   "id": "87190e43",
   "metadata": {},
   "outputs": [],
   "source": [
    "## Get the xi vector\n",
    "# Market 1\n",
    "\n",
    "xb = np.inner(beta, x1[0:3,:])\n",
    "d = deltaMatrix[0:3,0]\n",
    "ap = alpha*P_opt[0:3,0]\n",
    "xi = d - xb +ap"
   ]
  },
  {
   "cell_type": "code",
   "execution_count": 79,
   "id": "a517aaec",
   "metadata": {},
   "outputs": [
    {
     "name": "stdout",
     "output_type": "stream",
     "text": [
      "for initial value 1 we get inner 0 and outer 3\n",
      "for initial value 2 we get inner 3 and outer 6\n",
      "for initial value 3 we get inner 6 and outer 9\n",
      "for initial value 4 we get inner 9 and outer 12\n",
      "for initial value 5 we get inner 12 and outer 15\n"
     ]
    }
   ],
   "source": [
    "for i in range(1,6):\n",
    "    outer = i*3\n",
    "    inner = i*3-3\n",
    "    print(\"for initial value {} we get inner {} and outer {}\".format(i,inner,outer))"
   ]
  },
  {
   "cell_type": "code",
   "execution_count": 103,
   "id": "b210a318",
   "metadata": {},
   "outputs": [],
   "source": [
    "## Construct a xi matrix\n",
    "xi_matrix = np.zeros([100,3])\n",
    "for m in range(100):\n",
    "    index = m+1\n",
    "    outer = index*3\n",
    "    inner = index*3-3\n",
    "    \n",
    "    xb = np.inner(beta, x1[inner:outer,:])\n",
    "    d = deltaMatrix[:,m]\n",
    "    ap = alpha*P_opt[:,m]\n",
    "    xi = d - xb +ap\n",
    "    xi_matrix[m,:] = xi "
   ]
  },
  {
   "cell_type": "code",
   "execution_count": 90,
   "id": "82d8fbfe",
   "metadata": {},
   "outputs": [
    {
     "data": {
      "text/plain": [
       "array([6.34212435, 1.93040373, 2.37170666])"
      ]
     },
     "execution_count": 90,
     "metadata": {},
     "output_type": "execute_result"
    }
   ],
   "source": [
    "alpha*P_opt[inner:outer,0]"
   ]
  },
  {
   "cell_type": "code",
   "execution_count": 91,
   "id": "9854834d",
   "metadata": {},
   "outputs": [
    {
     "data": {
      "text/plain": [
       "(3, 100)"
      ]
     },
     "execution_count": 91,
     "metadata": {},
     "output_type": "execute_result"
    }
   ],
   "source": [
    "P_opt.shape"
   ]
  },
  {
   "cell_type": "code",
   "execution_count": 92,
   "id": "9acf30b0",
   "metadata": {},
   "outputs": [
    {
     "data": {
      "text/plain": [
       "(3, 100)"
      ]
     },
     "execution_count": 92,
     "metadata": {},
     "output_type": "execute_result"
    }
   ],
   "source": [
    "deltaMatrix.shape"
   ]
  },
  {
   "cell_type": "code",
   "execution_count": 89,
   "id": "9c23f6fb",
   "metadata": {},
   "outputs": [
    {
     "data": {
      "text/plain": [
       "array([-88.77837156,  -0.80153282,  -7.39472189])"
      ]
     },
     "execution_count": 89,
     "metadata": {},
     "output_type": "execute_result"
    }
   ],
   "source": [
    "deltaMatrix[inner:outer,0]"
   ]
  },
  {
   "cell_type": "code",
   "execution_count": null,
   "id": "c68951ed",
   "metadata": {},
   "outputs": [],
   "source": [
    "index = m+1\n",
    " outer = i*3\n",
    " inner = i*3-3"
   ]
  },
  {
   "cell_type": "code",
   "execution_count": 72,
   "id": "2d4fae87",
   "metadata": {},
   "outputs": [
    {
     "data": {
      "text/plain": [
       "array([-88.77837156,  -0.80153282,  -7.39472189])"
      ]
     },
     "execution_count": 72,
     "metadata": {},
     "output_type": "execute_result"
    }
   ],
   "source": [
    "deltaMatrix[0:3,0]"
   ]
  },
  {
   "cell_type": "code",
   "execution_count": 73,
   "id": "669f7349",
   "metadata": {},
   "outputs": [
    {
     "data": {
      "text/plain": [
       "array([6.34212435, 1.93040373, 2.37170666])"
      ]
     },
     "execution_count": 73,
     "metadata": {},
     "output_type": "execute_result"
    }
   ],
   "source": [
    "alpha*P_opt[0:3,0]"
   ]
  },
  {
   "cell_type": "code",
   "execution_count": null,
   "id": "ba3fc502",
   "metadata": {},
   "outputs": [],
   "source": []
  },
  {
   "cell_type": "code",
   "execution_count": 50,
   "id": "c9c26ed8",
   "metadata": {},
   "outputs": [
    {
     "data": {
      "text/plain": [
       "(100,)"
      ]
     },
     "execution_count": 50,
     "metadata": {},
     "output_type": "execute_result"
    }
   ],
   "source": [
    ".shape"
   ]
  },
  {
   "cell_type": "code",
   "execution_count": 30,
   "id": "032f36a3",
   "metadata": {},
   "outputs": [],
   "source": [
    "dj = deltaMatrix[:,0]"
   ]
  },
  {
   "cell_type": "code",
   "execution_count": 34,
   "id": "bc3e3608",
   "metadata": {},
   "outputs": [
    {
     "data": {
      "text/plain": [
       "(100, 3)"
      ]
     },
     "execution_count": 34,
     "metadata": {},
     "output_type": "execute_result"
    }
   ],
   "source": [
    "x_j1.shape"
   ]
  }
 ],
 "metadata": {
  "kernelspec": {
   "display_name": "Python 3",
   "language": "python",
   "name": "python3"
  },
  "language_info": {
   "codemirror_mode": {
    "name": "ipython",
    "version": 3
   },
   "file_extension": ".py",
   "mimetype": "text/x-python",
   "name": "python",
   "nbconvert_exporter": "python",
   "pygments_lexer": "ipython3",
   "version": "3.8.8"
  }
 },
 "nbformat": 4,
 "nbformat_minor": 5
}
