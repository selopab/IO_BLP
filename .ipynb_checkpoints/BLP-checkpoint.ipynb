{
 "cells": [
  {
   "cell_type": "code",
   "execution_count": 1,
<<<<<<< HEAD
   "metadata": {
    "collapsed": false
   },
=======
   "id": "bc6ab8cb",
   "metadata": {},
>>>>>>> 3f60ca1f500fd8d20222874ac2b323f74e4d069d
   "outputs": [
    {
     "name": "stdout",
     "output_type": "stream",
     "text": [
      "Once deleted, variables cannot be recovered. Proceed (y/[n])? y\n"
     ]
    }
   ],
   "source": [
    "%reset"
   ]
  },
  {
   "cell_type": "code",
<<<<<<< HEAD
   "execution_count": 13,
   "metadata": {
    "collapsed": true
   },
=======
   "execution_count": 3,
   "id": "f0eb10d4",
   "metadata": {},
>>>>>>> 3f60ca1f500fd8d20222874ac2b323f74e4d069d
   "outputs": [],
   "source": [
    "import pandas as pd\n",
    "import scipy\n",
    "import numpy as np\n",
    "from scipy import optimize\n",
    "import math\n",
    "from collections import Counter\n",
<<<<<<< HEAD
    "import knitro\n",
=======
    "#import knitro\n",
>>>>>>> 3f60ca1f500fd8d20222874ac2b323f74e4d069d
    "import matplotlib.pyplot as plt\n",
    "\n",
    "# set random seed\n",
    "import random\n",
    "random.seed(3600021601)"
   ]
  },
  {
   "cell_type": "code",
<<<<<<< HEAD
   "execution_count": 3,
   "metadata": {
    "collapsed": true
   },
=======
   "execution_count": 37,
   "id": "35007e03",
   "metadata": {},
>>>>>>> 3f60ca1f500fd8d20222874ac2b323f74e4d069d
   "outputs": [],
   "source": [
    "mat = scipy.io.loadmat('../inp/100markets3products.mat')  # load mat-file\n",
    "\n",
    "eta = mat['eta'] # Simulated unobserved error\n",
    "alphas = mat['alphas'] # Simulated alphas\n",
    "P_opt = mat['P_opt']\n",
    "shares = mat['shares']\n",
    "w = mat['w']\n",
    "x1 = mat['x1']\n",
    "xi_all = mat['xi_all']\n",
    "Z = mat['Z']\n",
    "\n",
<<<<<<< HEAD
    "x_j1 = x1[0:100,:]   # Attributes of all products in market 1\n",
    "x_j2 = x1[100:200,:] # Attributes of all products in market 2\n",
    "x_j3 = x1[200:300,:] # Attributes of all products in market 3\n",
    "\n",
    "xi_j1 = xi_all[0:100]\n",
    "xi_j2 = xi_all[100:200]\n",
    "xi_j3 = xi_all[200:300]\n",
=======
    "x_m1 = x1[0:100,:]   # Attributes of all products in market 1\n",
    "x_m2 = x1[100:200,:] # Attributes of all products in market 2\n",
    "x_m3 = x1[200:300,:] # Attributes of all products in market 3\n",
    "\n",
    "xi_m1 = xi_all[0:100]\n",
    "xi_m2 = xi_all[100:200]\n",
    "xi_m3 = xi_all[200:300]\n",
>>>>>>> 3f60ca1f500fd8d20222874ac2b323f74e4d069d
    "\n",
    "p_vector = P_opt.reshape([300,1]) #One price per each product being sold"
   ]
  },
  {
   "cell_type": "code",
<<<<<<< HEAD
   "execution_count": 4,
   "metadata": {
    "collapsed": true
   },
=======
   "execution_count": 36,
   "id": "ea4ebe2a",
   "metadata": {},
   "outputs": [
    {
     "data": {
      "text/plain": [
       "(100, 3)"
      ]
     },
     "execution_count": 36,
     "metadata": {},
     "output_type": "execute_result"
    }
   ],
   "source": [
    "x_j1.shape"
   ]
  },
  {
   "cell_type": "code",
   "execution_count": 5,
   "id": "7fe169ef",
   "metadata": {},
>>>>>>> 3f60ca1f500fd8d20222874ac2b323f74e4d069d
   "outputs": [],
   "source": [
    "hausman_vector = np.zeros(300)\n",
    "for i in range(0,300):\n",
    "    hausman_vector[i] = np.mean(np.delete(p_vector, i))"
   ]
  },
  {
<<<<<<< HEAD
   "cell_type": "code",
   "execution_count": 67,
   "metadata": {
    "collapsed": false
   },
=======
   "cell_type": "markdown",
   "id": "7571ee22",
   "metadata": {},
   "source": [
    "# BLP and Hausman Instruments\n",
    "\n",
    "## 1.\n",
    "\n",
    "### 1.a)"
   ]
  },
  {
   "cell_type": "markdown",
   "id": "47e51c09",
   "metadata": {},
   "source": [
    "$E[\\xi_{jm}X_{jm}]$"
   ]
  },
  {
   "cell_type": "code",
   "execution_count": 5,
   "id": "855e254c",
   "metadata": {},
>>>>>>> 3f60ca1f500fd8d20222874ac2b323f74e4d069d
   "outputs": [
    {
     "data": {
      "text/plain": [
<<<<<<< HEAD
       "(3, 100)"
      ]
     },
     "execution_count": 67,
=======
       "array([0.04346104, 0.02074192, 0.0355315 ])"
      ]
     },
     "execution_count": 5,
>>>>>>> 3f60ca1f500fd8d20222874ac2b323f74e4d069d
     "metadata": {},
     "output_type": "execute_result"
    }
   ],
   "source": [
<<<<<<< HEAD
    "P_opt.shape\n"
=======
    "np.mean(x1*xi_all, axis=0)"
   ]
  },
  {
   "cell_type": "markdown",
   "id": "8ef33263",
   "metadata": {},
   "source": [
    "$E[\\xi_{jm}p_{jm}]$"
>>>>>>> 3f60ca1f500fd8d20222874ac2b323f74e4d069d
   ]
  },
  {
   "cell_type": "code",
<<<<<<< HEAD
   "execution_count": 56,
   "metadata": {
    "collapsed": false
   },
=======
   "execution_count": 6,
   "id": "9d671bde",
   "metadata": {},
>>>>>>> 3f60ca1f500fd8d20222874ac2b323f74e4d069d
   "outputs": [
    {
     "data": {
      "text/plain": [
<<<<<<< HEAD
       "(100, 500)"
      ]
     },
     "execution_count": 56,
=======
       "0.1482331585398398"
      ]
     },
     "execution_count": 6,
>>>>>>> 3f60ca1f500fd8d20222874ac2b323f74e4d069d
     "metadata": {},
     "output_type": "execute_result"
    }
   ],
   "source": [
<<<<<<< HEAD
    "alphas.shape"
=======
    "np.mean(p_vector*xi_all)"
   ]
  },
  {
   "cell_type": "markdown",
   "id": "aa985d0a",
   "metadata": {},
   "source": [
    "$E[\\xi_{jm}\\bar{p}_{jm}]$"
>>>>>>> 3f60ca1f500fd8d20222874ac2b323f74e4d069d
   ]
  },
  {
   "cell_type": "code",
<<<<<<< HEAD
   "execution_count": 86,
   "metadata": {
    "collapsed": false
   },
=======
   "execution_count": 7,
   "id": "1cfc12dc",
   "metadata": {},
>>>>>>> 3f60ca1f500fd8d20222874ac2b323f74e4d069d
   "outputs": [
    {
     "data": {
      "text/plain": [
<<<<<<< HEAD
       "(3, 100)"
      ]
     },
     "execution_count": 86,
=======
       "0.13153694769686025"
      ]
     },
     "execution_count": 7,
>>>>>>> 3f60ca1f500fd8d20222874ac2b323f74e4d069d
     "metadata": {},
     "output_type": "execute_result"
    }
   ],
   "source": [
<<<<<<< HEAD
    "shares.shape"
   ]
  },
  {
   "cell_type": "code",
   "execution_count": 58,
   "metadata": {
    "collapsed": true
   },
   "outputs": [],
   "source": [
    "tasteShocks = np.random.lognormal(0,1,100)"
=======
    "np.mean(hausman_vector*xi_all)"
   ]
  },
  {
   "cell_type": "markdown",
   "id": "fa935124",
   "metadata": {},
   "source": [
    "$E[\\xi_{jm}Z_{jm}]$"
>>>>>>> 3f60ca1f500fd8d20222874ac2b323f74e4d069d
   ]
  },
  {
   "cell_type": "code",
<<<<<<< HEAD
   "execution_count": 68,
   "metadata": {
    "collapsed": true
   },
   "outputs": [],
   "source": [
    "numberOfDraws = 1000\n",
    "randomDrawFromTasteShocks = np.random.choice(tasteShocks, numberOfDraws, replace=True, p=None)"
   ]
  },
  {
   "cell_type": "code",
   "execution_count": 64,
   "metadata": {
    "collapsed": true
   },
   "outputs": [],
   "source": [
    "alpha_0 = beta1_0 = beta2_0 = beta3_0 = delta_0 = 1\n",
    "tol = .002\n"
   ]
  },
  {
   "cell_type": "code",
   "execution_count": null,
   "metadata": {
    "collapsed": true
   },
   "outputs": [],
   "source": [
    "def mu(parameters):\n",
    "    nu,sigma_alpha,"
=======
   "execution_count": 8,
   "id": "9a67af5c",
   "metadata": {},
   "outputs": [
    {
     "data": {
      "text/plain": [
       "-0.00814558805654365"
      ]
     },
     "execution_count": 8,
     "metadata": {},
     "output_type": "execute_result"
    }
   ],
   "source": [
    "np.mean(Z*xi_all)"
   ]
  },
  {
   "cell_type": "markdown",
   "id": "e59eface",
   "metadata": {},
   "source": [
    "### 1.b) \n",
    "\n",
    "Only the $E[\\xi_{jm}X_{jm}]$ moments seem to be (relatively) valid, since they are relatively small (<0.1). Both price moments give relatively large expected values, so they don't seem valid. "
   ]
  },
  {
   "cell_type": "markdown",
   "id": "1b70d577",
   "metadata": {},
   "source": [
    "## 1.c) \n",
    "\n",
    "It seems like the only reasonable instruments are the BLP ones, since its moment contition is close to zero. Hausman instruments give a high mean, so it's not OK to use them. "
   ]
  },
  {
   "cell_type": "markdown",
   "id": "a5545dc8",
   "metadata": {},
   "source": [
    "# 2) "
   ]
  },
  {
   "cell_type": "markdown",
   "id": "04008141",
   "metadata": {},
   "source": [
    "I think that the moments should be:\n",
    "\n",
    "$E[\\xi_{jm}f(Z_{jm})]=0$\n",
    "\n",
    "$E[\\xi_{jm}f(x_{jm})]=0$\n",
    "\n",
    "$E[\\xi_{jm}f(w)]=0$"
   ]
  },
  {
   "cell_type": "markdown",
   "id": "23bd18c0",
   "metadata": {},
   "source": [
    "## Define numeeric integral function"
>>>>>>> 3f60ca1f500fd8d20222874ac2b323f74e4d069d
   ]
  },
  {
   "cell_type": "code",
<<<<<<< HEAD
   "execution_count": 66,
   "metadata": {
    "collapsed": false
   },
   "outputs": [
    {
     "data": {
      "text/plain": [
       "1.0"
      ]
     },
     "execution_count": 66,
     "metadata": {},
     "output_type": "execute_result"
    }
   ],
   "source": []
  },
  {
   "cell_type": "code",
   "execution_count": 84,
   "metadata": {
    "collapsed": true
   },
=======
   "execution_count": 17,
   "id": "a6c5c99d",
   "metadata": {},
   "outputs": [],
   "source": [
    "tasteShocks = np.random.lognormal(0,1,100)\n",
    "numberOfDraws = 1000\n",
    "randomDrawFromTasteShocks = np.random.choice(tasteShocks, numberOfDraws, replace=True, p=None)\n",
    "alpha_0 = beta1_0 = beta2_0 = beta3_0 = delta_0 = 1\n",
    "tol = 1/10000\n"
   ]
  },
  {
   "cell_type": "code",
   "execution_count": 28,
   "id": "11444f6f",
   "metadata": {},
>>>>>>> 3f60ca1f500fd8d20222874ac2b323f74e4d069d
   "outputs": [],
   "source": [
    "def integral(vector):\n",
    "    delta,market,product = vector\n",
    "    price = P_opt[product, market]\n",
    "    priceTimesParameter = price*randomDrawFromTasteShocks\n",
    "    integralValue=0\n",
    "    for i in range(numberOfDraws):\n",
    "        integralValue = integralValue + (np.exp(delta+priceTimesParameter[i])/(1+np.exp(delta+priceTimesParameter[i])))\n",
    "    integralValue = integralValue/numberOfDraws\n",
    "    return(integralValue)"
   ]
  },
  {
   "cell_type": "code",
<<<<<<< HEAD
   "execution_count": 94,
   "metadata": {
    "collapsed": true
   },
=======
   "execution_count": null,
   "id": "e338118e",
   "metadata": {},
>>>>>>> 3f60ca1f500fd8d20222874ac2b323f74e4d069d
   "outputs": [],
   "source": [
    "def contraction(vector):\n",
    "    delta0, market, product, tol = vector\n",
    "    share = shares[product, market]\n",
    "    integralValue = integral(vector[0:3])\n",
    "    delta1 = delta0 + np.log(share) - np.log(integralValue)\n",
    "    dif = np.abs(delta1-delta0)\n",
    "    \n",
    "    while dif>tol:\n",
    "        delta0 = delta1\n",
    "        vector = [delta0,market,product]\n",
    "        integralValue = integral(vector[0:3])\n",
    "        delta1 = delta0 + np.log(share) - np.log(integralValue)\n",
    "        dif = np.abs(delta1-delta0)\n",
    "    \n",
    "    return(delta1)"
   ]
  },
  {
   "cell_type": "code",
<<<<<<< HEAD
   "execution_count": 88,
   "metadata": {
    "collapsed": true
   },
   "outputs": [],
   "source": [
    "delta0, market, product, tol =[1,1,1,.2]"
=======
   "execution_count": null,
   "id": "5251f944",
   "metadata": {},
   "outputs": [],
   "source": [
    "## Get the whole delta vector for each market\n",
    "deltaMatrix = np.zeros([3,100])\n",
    "initial_delta = 1\n",
    "for m in range(100):\n",
    "    for j in range(3):\n",
    "        deltaMatrix[j,m] = contraction([initial_delta,m,j,tol])\n",
    "        \n",
    "    "
>>>>>>> 3f60ca1f500fd8d20222874ac2b323f74e4d069d
   ]
  },
  {
   "cell_type": "code",
<<<<<<< HEAD
   "execution_count": 95,
   "metadata": {
    "collapsed": false
   },
   "outputs": [
    {
     "data": {
      "text/plain": [
       "-4.004385306720049"
      ]
     },
     "execution_count": 95,
     "metadata": {},
     "output_type": "execute_result"
    }
   ],
   "source": [
    "contraction([1,1,1,.2])"
=======
   "execution_count": 43,
   "id": "0ad0fe5e",
   "metadata": {},
   "outputs": [],
   "source": [
    "alpha = 1\n",
    "beta = np.array([1,1,1])"
   ]
  },
  {
   "cell_type": "code",
   "execution_count": 74,
   "id": "87190e43",
   "metadata": {},
   "outputs": [],
   "source": [
    "## Get the xi vector\n",
    "# Market 1\n",
    "\n",
    "xb = np.inner(beta, x1[0:3,:])\n",
    "d = deltaMatrix[0:3,0]\n",
    "ap = alpha*P_opt[0:3,0]\n",
    "xi = d - xb +ap"
   ]
  },
  {
   "cell_type": "code",
   "execution_count": 79,
   "id": "a517aaec",
   "metadata": {},
   "outputs": [
    {
     "name": "stdout",
     "output_type": "stream",
     "text": [
      "for initial value 1 we get inner 0 and outer 3\n",
      "for initial value 2 we get inner 3 and outer 6\n",
      "for initial value 3 we get inner 6 and outer 9\n",
      "for initial value 4 we get inner 9 and outer 12\n",
      "for initial value 5 we get inner 12 and outer 15\n"
     ]
    }
   ],
   "source": [
    "for i in range(1,6):\n",
    "    outer = i*3\n",
    "    inner = i*3-3\n",
    "    print(\"for initial value {} we get inner {} and outer {}\".format(i,inner,outer))"
>>>>>>> 3f60ca1f500fd8d20222874ac2b323f74e4d069d
   ]
  },
  {
   "cell_type": "code",
<<<<<<< HEAD
   "execution_count": 93,
   "metadata": {
    "collapsed": false
   },
=======
   "execution_count": 103,
   "id": "b210a318",
   "metadata": {},
   "outputs": [],
   "source": [
    "## Construct a xi matrix\n",
    "xi_matrix = np.zeros([100,3])\n",
    "for m in range(100):\n",
    "    index = m+1\n",
    "    outer = index*3\n",
    "    inner = index*3-3\n",
    "    \n",
    "    xb = np.inner(beta, x1[inner:outer,:])\n",
    "    d = deltaMatrix[:,m]\n",
    "    ap = alpha*P_opt[:,m]\n",
    "    xi = d - xb +ap\n",
    "    xi_matrix[m,:] = xi "
   ]
  },
  {
   "cell_type": "code",
   "execution_count": 90,
   "id": "82d8fbfe",
   "metadata": {},
>>>>>>> 3f60ca1f500fd8d20222874ac2b323f74e4d069d
   "outputs": [
    {
     "data": {
      "text/plain": [
<<<<<<< HEAD
       "1.9773777795293266"
      ]
     },
     "execution_count": 93,
=======
       "array([6.34212435, 1.93040373, 2.37170666])"
      ]
     },
     "execution_count": 90,
>>>>>>> 3f60ca1f500fd8d20222874ac2b323f74e4d069d
     "metadata": {},
     "output_type": "execute_result"
    }
   ],
   "source": [
<<<<<<< HEAD
    "dif"
=======
    "alpha*P_opt[inner:outer,0]"
>>>>>>> 3f60ca1f500fd8d20222874ac2b323f74e4d069d
   ]
  },
  {
   "cell_type": "code",
<<<<<<< HEAD
   "execution_count": null,
   "metadata": {
    "collapsed": true
   },
   "outputs": [],
   "source": []
  },
  {
   "cell_type": "code",
   "execution_count": 34,
   "metadata": {
    "collapsed": false
   },
=======
   "execution_count": 91,
   "id": "9854834d",
   "metadata": {},
>>>>>>> 3f60ca1f500fd8d20222874ac2b323f74e4d069d
   "outputs": [
    {
     "data": {
      "text/plain": [
<<<<<<< HEAD
       "array([0.30741994, 1.08321956, 1.34688084])"
      ]
     },
     "execution_count": 34,
=======
       "(3, 100)"
      ]
     },
     "execution_count": 91,
>>>>>>> 3f60ca1f500fd8d20222874ac2b323f74e4d069d
     "metadata": {},
     "output_type": "execute_result"
    }
   ],
   "source": [
<<<<<<< HEAD
    "np.random.lognormal(0,1,3)"
=======
    "P_opt.shape"
>>>>>>> 3f60ca1f500fd8d20222874ac2b323f74e4d069d
   ]
  },
  {
   "cell_type": "code",
<<<<<<< HEAD
   "execution_count": null,
   "metadata": {
    "collapsed": true
   },
   "outputs": [],
   "source": [
    "a = np.hstack((rng.normal(size=1000),\n",
    "               rng.normal(loc=5, scale=2, size=1000)))"
   ]
  },
  {
   "cell_type": "code",
   "execution_count": 12,
   "metadata": {
    "collapsed": false
   },
   "outputs": [
    {
     "data": {
      "image/png": "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\n",
      "text/plain": [
       "<Figure size 640x480 with 1 Axes>"
      ]
     },
     "metadata": {},
     "output_type": "display_data"
    }
   ],
   "source": [
    "plot = plt.hist(p_vector)"
   ]
  },
  {
   "cell_type": "markdown",
   "metadata": {},
   "source": [
    "# BLP and Hausman Instruments\n",
    "\n",
    "## 1.\n",
    "\n",
    "### 1.a)"
   ]
  },
  {
   "cell_type": "markdown",
   "metadata": {},
   "source": [
    "$E[\\xi_{jm}X_{jm}]$"
=======
   "execution_count": 92,
   "id": "9acf30b0",
   "metadata": {},
   "outputs": [
    {
     "data": {
      "text/plain": [
       "(3, 100)"
      ]
     },
     "execution_count": 92,
     "metadata": {},
     "output_type": "execute_result"
    }
   ],
   "source": [
    "deltaMatrix.shape"
>>>>>>> 3f60ca1f500fd8d20222874ac2b323f74e4d069d
   ]
  },
  {
   "cell_type": "code",
<<<<<<< HEAD
   "execution_count": 5,
   "metadata": {
    "collapsed": false
   },
=======
   "execution_count": 89,
   "id": "9c23f6fb",
   "metadata": {},
>>>>>>> 3f60ca1f500fd8d20222874ac2b323f74e4d069d
   "outputs": [
    {
     "data": {
      "text/plain": [
<<<<<<< HEAD
       "array([0.04346104, 0.02074192, 0.0355315 ])"
      ]
     },
     "execution_count": 5,
=======
       "array([-88.77837156,  -0.80153282,  -7.39472189])"
      ]
     },
     "execution_count": 89,
>>>>>>> 3f60ca1f500fd8d20222874ac2b323f74e4d069d
     "metadata": {},
     "output_type": "execute_result"
    }
   ],
   "source": [
<<<<<<< HEAD
    "np.mean(x1*xi_all, axis=0)"
   ]
  },
  {
   "cell_type": "markdown",
   "metadata": {},
   "source": [
    "$E[\\xi_{jm}p_{jm}]$"
=======
    "deltaMatrix[inner:outer,0]"
   ]
  },
  {
   "cell_type": "code",
   "execution_count": null,
   "id": "c68951ed",
   "metadata": {},
   "outputs": [],
   "source": [
    "index = m+1\n",
    " outer = i*3\n",
    " inner = i*3-3"
>>>>>>> 3f60ca1f500fd8d20222874ac2b323f74e4d069d
   ]
  },
  {
   "cell_type": "code",
<<<<<<< HEAD
   "execution_count": 6,
   "metadata": {
    "collapsed": false
   },
=======
   "execution_count": 72,
   "id": "2d4fae87",
   "metadata": {},
>>>>>>> 3f60ca1f500fd8d20222874ac2b323f74e4d069d
   "outputs": [
    {
     "data": {
      "text/plain": [
<<<<<<< HEAD
       "0.1482331585398398"
      ]
     },
     "execution_count": 6,
=======
       "array([-88.77837156,  -0.80153282,  -7.39472189])"
      ]
     },
     "execution_count": 72,
>>>>>>> 3f60ca1f500fd8d20222874ac2b323f74e4d069d
     "metadata": {},
     "output_type": "execute_result"
    }
   ],
   "source": [
<<<<<<< HEAD
    "np.mean(p_vector*xi_all)"
   ]
  },
  {
   "cell_type": "markdown",
   "metadata": {},
   "source": [
    "$E[\\xi_{jm}\\bar{p}_{jm}]$"
=======
    "deltaMatrix[0:3,0]"
>>>>>>> 3f60ca1f500fd8d20222874ac2b323f74e4d069d
   ]
  },
  {
   "cell_type": "code",
<<<<<<< HEAD
   "execution_count": 7,
   "metadata": {
    "collapsed": false
   },
=======
   "execution_count": 73,
   "id": "669f7349",
   "metadata": {},
>>>>>>> 3f60ca1f500fd8d20222874ac2b323f74e4d069d
   "outputs": [
    {
     "data": {
      "text/plain": [
<<<<<<< HEAD
       "0.13153694769686025"
      ]
     },
     "execution_count": 7,
=======
       "array([6.34212435, 1.93040373, 2.37170666])"
      ]
     },
     "execution_count": 73,
>>>>>>> 3f60ca1f500fd8d20222874ac2b323f74e4d069d
     "metadata": {},
     "output_type": "execute_result"
    }
   ],
   "source": [
<<<<<<< HEAD
    "np.mean(hausman_vector*xi_all)"
   ]
  },
  {
   "cell_type": "markdown",
   "metadata": {},
   "source": [
    "$E[\\xi_{jm}Z_{jm}]$"
   ]
  },
  {
   "cell_type": "code",
   "execution_count": 8,
   "metadata": {
    "collapsed": false
   },
=======
    "alpha*P_opt[0:3,0]"
   ]
  },
  {
   "cell_type": "code",
   "execution_count": null,
   "id": "ba3fc502",
   "metadata": {},
   "outputs": [],
   "source": []
  },
  {
   "cell_type": "code",
   "execution_count": 50,
   "id": "c9c26ed8",
   "metadata": {},
>>>>>>> 3f60ca1f500fd8d20222874ac2b323f74e4d069d
   "outputs": [
    {
     "data": {
      "text/plain": [
<<<<<<< HEAD
       "-0.00814558805654365"
      ]
     },
     "execution_count": 8,
=======
       "(100,)"
      ]
     },
     "execution_count": 50,
>>>>>>> 3f60ca1f500fd8d20222874ac2b323f74e4d069d
     "metadata": {},
     "output_type": "execute_result"
    }
   ],
   "source": [
<<<<<<< HEAD
    "np.mean(Z*xi_all)"
   ]
  },
  {
   "cell_type": "markdown",
   "metadata": {},
   "source": [
    "### 1.b) \n",
    "\n",
    "Only the $E[\\xi_{jm}X_{jm}]$ moments seem to be (relatively) valid, since they are relatively small (<0.1). Both price moments give relatively large expected values, so they don't seem valid. "
   ]
  },
  {
   "cell_type": "markdown",
   "metadata": {},
   "source": [
    "## 1.c) \n",
    "\n",
    "It seems like the only reasonable instruments are the BLP ones, since its moment contition is close to zero. Hausman instruments give a high mean, so it's not OK to use them. "
   ]
  },
  {
   "cell_type": "markdown",
   "metadata": {},
   "source": [
    "# 2) "
   ]
  },
  {
   "cell_type": "markdown",
   "metadata": {},
   "source": [
    "I think that the moments should be:\n",
    "\n",
    "$E[\\xi_{jm}f(Z_{jm})]=0$\n",
    "\n",
    "$E[\\xi_{jm}f(x_{jm})]=0$\n",
    "\n",
    "$E[\\xi_{jm}f(w)]=0$"
   ]
  },
  {
   "cell_type": "markdown",
   "metadata": {},
   "source": [
    "## Define numeeric integral function"
=======
    ".shape"
>>>>>>> 3f60ca1f500fd8d20222874ac2b323f74e4d069d
   ]
  },
  {
   "cell_type": "code",
<<<<<<< HEAD
   "execution_count": 17,
   "metadata": {
    "collapsed": true
   },
   "outputs": [],
   "source": [
    "nu = np.random.rand(3)\n"
=======
   "execution_count": 30,
   "id": "032f36a3",
   "metadata": {},
   "outputs": [],
   "source": [
    "dj = deltaMatrix[:,0]"
>>>>>>> 3f60ca1f500fd8d20222874ac2b323f74e4d069d
   ]
  },
  {
   "cell_type": "code",
<<<<<<< HEAD
   "execution_count": 18,
   "metadata": {
    "collapsed": false
   },
=======
   "execution_count": 34,
   "id": "bc3e3608",
   "metadata": {},
>>>>>>> 3f60ca1f500fd8d20222874ac2b323f74e4d069d
   "outputs": [
    {
     "data": {
      "text/plain": [
<<<<<<< HEAD
       "array([0.47289185, 0.18901471, 0.0252972 ])"
      ]
     },
     "execution_count": 18,
=======
       "(100, 3)"
      ]
     },
     "execution_count": 34,
>>>>>>> 3f60ca1f500fd8d20222874ac2b323f74e4d069d
     "metadata": {},
     "output_type": "execute_result"
    }
   ],
   "source": [
<<<<<<< HEAD
    "nu"
   ]
  },
  {
   "cell_type": "code",
   "execution_count": null,
   "metadata": {
    "collapsed": true
   },
   "outputs": [],
   "source": []
  },
  {
   "cell_type": "code",
   "execution_count": null,
   "metadata": {
    "collapsed": true
   },
   "outputs": [],
   "source": []
  },
  {
   "cell_type": "code",
   "execution_count": null,
   "metadata": {
    "collapsed": true
   },
   "outputs": [],
   "source": [
    "def numeric_integral(x):\n",
    "    "
=======
    "x_j1.shape"
>>>>>>> 3f60ca1f500fd8d20222874ac2b323f74e4d069d
   ]
  }
 ],
 "metadata": {
  "kernelspec": {
   "display_name": "Python 3",
   "language": "python",
   "name": "python3"
  },
  "language_info": {
   "codemirror_mode": {
    "name": "ipython",
    "version": 3
   },
   "file_extension": ".py",
   "mimetype": "text/x-python",
   "name": "python",
   "nbconvert_exporter": "python",
   "pygments_lexer": "ipython3",
<<<<<<< HEAD
   "version": "3.6.0"
=======
   "version": "3.8.8"
>>>>>>> 3f60ca1f500fd8d20222874ac2b323f74e4d069d
  }
 },
 "nbformat": 4,
 "nbformat_minor": 5
}
