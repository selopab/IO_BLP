{
 "cells": [
  {
   "cell_type": "code",
   "execution_count": 1,
   "id": "bc6ab8cb",
   "metadata": {},
   "outputs": [
    {
     "name": "stdout",
     "output_type": "stream",
     "text": [
      "Once deleted, variables cannot be recovered. Proceed (y/[n])? y\n"
     ]
    }
   ],
   "source": [
    "%reset"
   ]
  },
  {
   "cell_type": "code",
   "execution_count": 2,
   "id": "f0eb10d4",
   "metadata": {},
   "outputs": [],
   "source": [
    "import pandas as pd\n",
    "import scipy\n",
    "import numpy as np\n",
    "from scipy import optimize\n",
    "import math\n",
    "from collections import Counter"
   ]
  },
  {
   "cell_type": "code",
   "execution_count": 3,
   "id": "35007e03",
   "metadata": {},
   "outputs": [],
   "source": [
    "mat = scipy.io.loadmat('../inp/100markets3products.mat')  # load mat-file\n",
    "\n",
    "eta = mat['eta']\n",
    "alphas = mat['alphas']\n",
    "P_opt = mat['P_opt']\n",
    "shares = mat['shares']\n",
    "w = mat['w']\n",
    "x1 = mat['x1']\n",
    "xi_all = mat['xi_all']\n",
    "Z = mat['Z']\n",
    "\n",
    "x_j1 = x1[0:100,:]\n",
    "x_j2 = x1[100:200,:]\n",
    "x_j3 = x1[200:300,:]\n",
    "\n",
    "xi_j1 = xi_all[0:100]\n",
    "xi_j2 = xi_all[100:200]\n",
    "xi_j3 = xi_all[200:300]\n",
    "\n",
    "p_vector = P_opt.reshape([300,1])"
   ]
  },
  {
   "cell_type": "code",
   "execution_count": 4,
   "id": "7fe169ef",
   "metadata": {},
   "outputs": [],
   "source": [
    "hausman_vector = np.zeros(300)\n",
    "for i in range(0,300):\n",
    "    hausman_vector[i] = np.mean(np.delete(p_vector, i))"
   ]
  },
  {
   "cell_type": "markdown",
   "id": "7571ee22",
   "metadata": {},
   "source": [
    "# BLP and Hausman Instruments\n",
    "\n",
    "## 1.\n",
    "\n",
    "### 1.a)"
   ]
  },
  {
   "cell_type": "markdown",
   "id": "47e51c09",
   "metadata": {},
   "source": [
    "$E[\\xi_{jm}X_{jm}]$"
   ]
  },
  {
   "cell_type": "code",
   "execution_count": 5,
   "id": "855e254c",
   "metadata": {},
   "outputs": [
    {
     "data": {
      "text/plain": [
       "array([0.04346104, 0.02074192, 0.0355315 ])"
      ]
     },
     "execution_count": 5,
     "metadata": {},
     "output_type": "execute_result"
    }
   ],
   "source": [
    "np.mean(x1*xi_all, axis=0)"
   ]
  },
  {
   "cell_type": "markdown",
   "id": "8ef33263",
   "metadata": {},
   "source": [
    "$E[\\xi_{jm}p_{jm}]$"
   ]
  },
  {
   "cell_type": "code",
   "execution_count": 6,
   "id": "9d671bde",
   "metadata": {},
   "outputs": [
    {
     "data": {
      "text/plain": [
       "0.1482331585398398"
      ]
     },
     "execution_count": 6,
     "metadata": {},
     "output_type": "execute_result"
    }
   ],
   "source": [
    "np.mean(p_vector*xi_all)"
   ]
  },
  {
   "cell_type": "markdown",
   "id": "aa985d0a",
   "metadata": {},
   "source": [
    "$E[\\xi_{jm}\\bar{p}_{jm}]$"
   ]
  },
  {
   "cell_type": "code",
   "execution_count": 7,
   "id": "1cfc12dc",
   "metadata": {},
   "outputs": [
    {
     "data": {
      "text/plain": [
       "0.13153694769686025"
      ]
     },
     "execution_count": 7,
     "metadata": {},
     "output_type": "execute_result"
    }
   ],
   "source": [
    "np.mean(hausman_vector*xi_all)"
   ]
  },
  {
   "cell_type": "markdown",
   "id": "fa935124",
   "metadata": {},
   "source": [
    "$E[\\xi_{jm}Z_{jm}]$"
   ]
  },
  {
   "cell_type": "code",
   "execution_count": 8,
   "id": "9a67af5c",
   "metadata": {},
   "outputs": [
    {
     "data": {
      "text/plain": [
       "-0.00814558805654365"
      ]
     },
     "execution_count": 8,
     "metadata": {},
     "output_type": "execute_result"
    }
   ],
   "source": [
    "np.mean(Z*xi_all)"
   ]
  },
  {
   "cell_type": "markdown",
   "id": "e59eface",
   "metadata": {},
   "source": [
    "### 1.b) \n",
    "\n",
    "Only the $E[\\xi_{jm}X_{jm}]$ moments seem to be (relatively) valid, since they are relatively small (<0.1). Both price moments give relatively large expected values, so they don't seem valid. "
   ]
  },
  {
   "cell_type": "markdown",
   "id": "1b70d577",
   "metadata": {},
   "source": [
    "## 1.c) \n",
    "\n",
    "It seems like the only reasonable instruments are the BLP ones, since its moment contition is close to zero. Hausman instruments give a high mean, so it's not OK to use them. "
   ]
  },
  {
   "cell_type": "markdown",
   "id": "a5545dc8",
   "metadata": {},
   "source": [
    "# 2) "
   ]
  },
  {
   "cell_type": "markdown",
   "id": "04008141",
   "metadata": {},
   "source": [
    "I think that the moments should be:\n",
    "\n",
    "$E[\\xi_{jm}f(Z_{jm})]=0$\n",
    "\n",
    "$E[\\xi_{jm}f(x_{jm})]=0$\n",
    "\n",
    "$E[\\xi_{jm}f(w)]=0$"
   ]
  }
 ],
 "metadata": {
  "kernelspec": {
   "display_name": "Python 3",
   "language": "python",
   "name": "python3"
  },
  "language_info": {
   "codemirror_mode": {
    "name": "ipython",
    "version": 3
   },
   "file_extension": ".py",
   "mimetype": "text/x-python",
   "name": "python",
   "nbconvert_exporter": "python",
   "pygments_lexer": "ipython3",
   "version": "3.8.8"
  }
 },
 "nbformat": 4,
 "nbformat_minor": 5
}
